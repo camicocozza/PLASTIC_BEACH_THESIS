{
  "nbformat": 4,
  "nbformat_minor": 0,
  "metadata": {
    "colab": {
      "provenance": [],
      "gpuType": "T4",
      "authorship_tag": "ABX9TyM9+ihXZuDP6qS6LbsabxJv",
      "include_colab_link": true
    },
    "kernelspec": {
      "name": "python3",
      "display_name": "Python 3"
    },
    "language_info": {
      "name": "python"
    },
    "accelerator": "GPU"
  },
  "cells": [
    {
      "cell_type": "markdown",
      "metadata": {
        "id": "view-in-github",
        "colab_type": "text"
      },
      "source": [
        "<a href=\"https://colab.research.google.com/github/camicocozza/PLASTIC_BEACH_THESIS/blob/main/Untitled1.ipynb\" target=\"_parent\"><img src=\"https://colab.research.google.com/assets/colab-badge.svg\" alt=\"Open In Colab\"/></a>"
      ]
    },
    {
      "cell_type": "code",
      "source": [
        "!pip install ultralytics --quiet\n",
        "from ultralytics import YOLO"
      ],
      "metadata": {
        "id": "Gxk2dpqxrYBZ"
      },
      "execution_count": 1,
      "outputs": []
    },
    {
      "cell_type": "code",
      "execution_count": 2,
      "metadata": {
        "colab": {
          "base_uri": "https://localhost:8080/",
          "height": 74
        },
        "id": "sWniBMDVleoW",
        "outputId": "756d84b3-58cc-4b6a-a9b1-9b3d7293f847"
      },
      "outputs": [
        {
          "output_type": "display_data",
          "data": {
            "text/plain": [
              "<IPython.core.display.HTML object>"
            ],
            "text/html": [
              "\n",
              "     <input type=\"file\" id=\"files-1f8e127f-93b5-42d0-9217-639772b02de6\" name=\"files[]\" multiple disabled\n",
              "        style=\"border:none\" />\n",
              "     <output id=\"result-1f8e127f-93b5-42d0-9217-639772b02de6\">\n",
              "      Upload widget is only available when the cell has been executed in the\n",
              "      current browser session. Please rerun this cell to enable.\n",
              "      </output>\n",
              "      <script>// Copyright 2017 Google LLC\n",
              "//\n",
              "// Licensed under the Apache License, Version 2.0 (the \"License\");\n",
              "// you may not use this file except in compliance with the License.\n",
              "// You may obtain a copy of the License at\n",
              "//\n",
              "//      http://www.apache.org/licenses/LICENSE-2.0\n",
              "//\n",
              "// Unless required by applicable law or agreed to in writing, software\n",
              "// distributed under the License is distributed on an \"AS IS\" BASIS,\n",
              "// WITHOUT WARRANTIES OR CONDITIONS OF ANY KIND, either express or implied.\n",
              "// See the License for the specific language governing permissions and\n",
              "// limitations under the License.\n",
              "\n",
              "/**\n",
              " * @fileoverview Helpers for google.colab Python module.\n",
              " */\n",
              "(function(scope) {\n",
              "function span(text, styleAttributes = {}) {\n",
              "  const element = document.createElement('span');\n",
              "  element.textContent = text;\n",
              "  for (const key of Object.keys(styleAttributes)) {\n",
              "    element.style[key] = styleAttributes[key];\n",
              "  }\n",
              "  return element;\n",
              "}\n",
              "\n",
              "// Max number of bytes which will be uploaded at a time.\n",
              "const MAX_PAYLOAD_SIZE = 100 * 1024;\n",
              "\n",
              "function _uploadFiles(inputId, outputId) {\n",
              "  const steps = uploadFilesStep(inputId, outputId);\n",
              "  const outputElement = document.getElementById(outputId);\n",
              "  // Cache steps on the outputElement to make it available for the next call\n",
              "  // to uploadFilesContinue from Python.\n",
              "  outputElement.steps = steps;\n",
              "\n",
              "  return _uploadFilesContinue(outputId);\n",
              "}\n",
              "\n",
              "// This is roughly an async generator (not supported in the browser yet),\n",
              "// where there are multiple asynchronous steps and the Python side is going\n",
              "// to poll for completion of each step.\n",
              "// This uses a Promise to block the python side on completion of each step,\n",
              "// then passes the result of the previous step as the input to the next step.\n",
              "function _uploadFilesContinue(outputId) {\n",
              "  const outputElement = document.getElementById(outputId);\n",
              "  const steps = outputElement.steps;\n",
              "\n",
              "  const next = steps.next(outputElement.lastPromiseValue);\n",
              "  return Promise.resolve(next.value.promise).then((value) => {\n",
              "    // Cache the last promise value to make it available to the next\n",
              "    // step of the generator.\n",
              "    outputElement.lastPromiseValue = value;\n",
              "    return next.value.response;\n",
              "  });\n",
              "}\n",
              "\n",
              "/**\n",
              " * Generator function which is called between each async step of the upload\n",
              " * process.\n",
              " * @param {string} inputId Element ID of the input file picker element.\n",
              " * @param {string} outputId Element ID of the output display.\n",
              " * @return {!Iterable<!Object>} Iterable of next steps.\n",
              " */\n",
              "function* uploadFilesStep(inputId, outputId) {\n",
              "  const inputElement = document.getElementById(inputId);\n",
              "  inputElement.disabled = false;\n",
              "\n",
              "  const outputElement = document.getElementById(outputId);\n",
              "  outputElement.innerHTML = '';\n",
              "\n",
              "  const pickedPromise = new Promise((resolve) => {\n",
              "    inputElement.addEventListener('change', (e) => {\n",
              "      resolve(e.target.files);\n",
              "    });\n",
              "  });\n",
              "\n",
              "  const cancel = document.createElement('button');\n",
              "  inputElement.parentElement.appendChild(cancel);\n",
              "  cancel.textContent = 'Cancel upload';\n",
              "  const cancelPromise = new Promise((resolve) => {\n",
              "    cancel.onclick = () => {\n",
              "      resolve(null);\n",
              "    };\n",
              "  });\n",
              "\n",
              "  // Wait for the user to pick the files.\n",
              "  const files = yield {\n",
              "    promise: Promise.race([pickedPromise, cancelPromise]),\n",
              "    response: {\n",
              "      action: 'starting',\n",
              "    }\n",
              "  };\n",
              "\n",
              "  cancel.remove();\n",
              "\n",
              "  // Disable the input element since further picks are not allowed.\n",
              "  inputElement.disabled = true;\n",
              "\n",
              "  if (!files) {\n",
              "    return {\n",
              "      response: {\n",
              "        action: 'complete',\n",
              "      }\n",
              "    };\n",
              "  }\n",
              "\n",
              "  for (const file of files) {\n",
              "    const li = document.createElement('li');\n",
              "    li.append(span(file.name, {fontWeight: 'bold'}));\n",
              "    li.append(span(\n",
              "        `(${file.type || 'n/a'}) - ${file.size} bytes, ` +\n",
              "        `last modified: ${\n",
              "            file.lastModifiedDate ? file.lastModifiedDate.toLocaleDateString() :\n",
              "                                    'n/a'} - `));\n",
              "    const percent = span('0% done');\n",
              "    li.appendChild(percent);\n",
              "\n",
              "    outputElement.appendChild(li);\n",
              "\n",
              "    const fileDataPromise = new Promise((resolve) => {\n",
              "      const reader = new FileReader();\n",
              "      reader.onload = (e) => {\n",
              "        resolve(e.target.result);\n",
              "      };\n",
              "      reader.readAsArrayBuffer(file);\n",
              "    });\n",
              "    // Wait for the data to be ready.\n",
              "    let fileData = yield {\n",
              "      promise: fileDataPromise,\n",
              "      response: {\n",
              "        action: 'continue',\n",
              "      }\n",
              "    };\n",
              "\n",
              "    // Use a chunked sending to avoid message size limits. See b/62115660.\n",
              "    let position = 0;\n",
              "    do {\n",
              "      const length = Math.min(fileData.byteLength - position, MAX_PAYLOAD_SIZE);\n",
              "      const chunk = new Uint8Array(fileData, position, length);\n",
              "      position += length;\n",
              "\n",
              "      const base64 = btoa(String.fromCharCode.apply(null, chunk));\n",
              "      yield {\n",
              "        response: {\n",
              "          action: 'append',\n",
              "          file: file.name,\n",
              "          data: base64,\n",
              "        },\n",
              "      };\n",
              "\n",
              "      let percentDone = fileData.byteLength === 0 ?\n",
              "          100 :\n",
              "          Math.round((position / fileData.byteLength) * 100);\n",
              "      percent.textContent = `${percentDone}% done`;\n",
              "\n",
              "    } while (position < fileData.byteLength);\n",
              "  }\n",
              "\n",
              "  // All done.\n",
              "  yield {\n",
              "    response: {\n",
              "      action: 'complete',\n",
              "    }\n",
              "  };\n",
              "}\n",
              "\n",
              "scope.google = scope.google || {};\n",
              "scope.google.colab = scope.google.colab || {};\n",
              "scope.google.colab._files = {\n",
              "  _uploadFiles,\n",
              "  _uploadFilesContinue,\n",
              "};\n",
              "})(self);\n",
              "</script> "
            ]
          },
          "metadata": {}
        },
        {
          "output_type": "stream",
          "name": "stdout",
          "text": [
            "Saving train_700.zip to train_700 (1).zip\n"
          ]
        }
      ],
      "source": [
        "from google.colab import files\n",
        "uploaded = files.upload()"
      ]
    },
    {
      "cell_type": "code",
      "source": [
        "from google.colab import files\n",
        "uploaded = files.upload()\n"
      ],
      "metadata": {
        "colab": {
          "base_uri": "https://localhost:8080/",
          "height": 74
        },
        "id": "8qZHNztQn86n",
        "outputId": "83e54d35-07d4-4b69-f6cb-c8d6a762f4d9"
      },
      "execution_count": 10,
      "outputs": [
        {
          "output_type": "display_data",
          "data": {
            "text/plain": [
              "<IPython.core.display.HTML object>"
            ],
            "text/html": [
              "\n",
              "     <input type=\"file\" id=\"files-b389e7b8-9d9e-472a-8cdc-89ffb3de7839\" name=\"files[]\" multiple disabled\n",
              "        style=\"border:none\" />\n",
              "     <output id=\"result-b389e7b8-9d9e-472a-8cdc-89ffb3de7839\">\n",
              "      Upload widget is only available when the cell has been executed in the\n",
              "      current browser session. Please rerun this cell to enable.\n",
              "      </output>\n",
              "      <script>// Copyright 2017 Google LLC\n",
              "//\n",
              "// Licensed under the Apache License, Version 2.0 (the \"License\");\n",
              "// you may not use this file except in compliance with the License.\n",
              "// You may obtain a copy of the License at\n",
              "//\n",
              "//      http://www.apache.org/licenses/LICENSE-2.0\n",
              "//\n",
              "// Unless required by applicable law or agreed to in writing, software\n",
              "// distributed under the License is distributed on an \"AS IS\" BASIS,\n",
              "// WITHOUT WARRANTIES OR CONDITIONS OF ANY KIND, either express or implied.\n",
              "// See the License for the specific language governing permissions and\n",
              "// limitations under the License.\n",
              "\n",
              "/**\n",
              " * @fileoverview Helpers for google.colab Python module.\n",
              " */\n",
              "(function(scope) {\n",
              "function span(text, styleAttributes = {}) {\n",
              "  const element = document.createElement('span');\n",
              "  element.textContent = text;\n",
              "  for (const key of Object.keys(styleAttributes)) {\n",
              "    element.style[key] = styleAttributes[key];\n",
              "  }\n",
              "  return element;\n",
              "}\n",
              "\n",
              "// Max number of bytes which will be uploaded at a time.\n",
              "const MAX_PAYLOAD_SIZE = 100 * 1024;\n",
              "\n",
              "function _uploadFiles(inputId, outputId) {\n",
              "  const steps = uploadFilesStep(inputId, outputId);\n",
              "  const outputElement = document.getElementById(outputId);\n",
              "  // Cache steps on the outputElement to make it available for the next call\n",
              "  // to uploadFilesContinue from Python.\n",
              "  outputElement.steps = steps;\n",
              "\n",
              "  return _uploadFilesContinue(outputId);\n",
              "}\n",
              "\n",
              "// This is roughly an async generator (not supported in the browser yet),\n",
              "// where there are multiple asynchronous steps and the Python side is going\n",
              "// to poll for completion of each step.\n",
              "// This uses a Promise to block the python side on completion of each step,\n",
              "// then passes the result of the previous step as the input to the next step.\n",
              "function _uploadFilesContinue(outputId) {\n",
              "  const outputElement = document.getElementById(outputId);\n",
              "  const steps = outputElement.steps;\n",
              "\n",
              "  const next = steps.next(outputElement.lastPromiseValue);\n",
              "  return Promise.resolve(next.value.promise).then((value) => {\n",
              "    // Cache the last promise value to make it available to the next\n",
              "    // step of the generator.\n",
              "    outputElement.lastPromiseValue = value;\n",
              "    return next.value.response;\n",
              "  });\n",
              "}\n",
              "\n",
              "/**\n",
              " * Generator function which is called between each async step of the upload\n",
              " * process.\n",
              " * @param {string} inputId Element ID of the input file picker element.\n",
              " * @param {string} outputId Element ID of the output display.\n",
              " * @return {!Iterable<!Object>} Iterable of next steps.\n",
              " */\n",
              "function* uploadFilesStep(inputId, outputId) {\n",
              "  const inputElement = document.getElementById(inputId);\n",
              "  inputElement.disabled = false;\n",
              "\n",
              "  const outputElement = document.getElementById(outputId);\n",
              "  outputElement.innerHTML = '';\n",
              "\n",
              "  const pickedPromise = new Promise((resolve) => {\n",
              "    inputElement.addEventListener('change', (e) => {\n",
              "      resolve(e.target.files);\n",
              "    });\n",
              "  });\n",
              "\n",
              "  const cancel = document.createElement('button');\n",
              "  inputElement.parentElement.appendChild(cancel);\n",
              "  cancel.textContent = 'Cancel upload';\n",
              "  const cancelPromise = new Promise((resolve) => {\n",
              "    cancel.onclick = () => {\n",
              "      resolve(null);\n",
              "    };\n",
              "  });\n",
              "\n",
              "  // Wait for the user to pick the files.\n",
              "  const files = yield {\n",
              "    promise: Promise.race([pickedPromise, cancelPromise]),\n",
              "    response: {\n",
              "      action: 'starting',\n",
              "    }\n",
              "  };\n",
              "\n",
              "  cancel.remove();\n",
              "\n",
              "  // Disable the input element since further picks are not allowed.\n",
              "  inputElement.disabled = true;\n",
              "\n",
              "  if (!files) {\n",
              "    return {\n",
              "      response: {\n",
              "        action: 'complete',\n",
              "      }\n",
              "    };\n",
              "  }\n",
              "\n",
              "  for (const file of files) {\n",
              "    const li = document.createElement('li');\n",
              "    li.append(span(file.name, {fontWeight: 'bold'}));\n",
              "    li.append(span(\n",
              "        `(${file.type || 'n/a'}) - ${file.size} bytes, ` +\n",
              "        `last modified: ${\n",
              "            file.lastModifiedDate ? file.lastModifiedDate.toLocaleDateString() :\n",
              "                                    'n/a'} - `));\n",
              "    const percent = span('0% done');\n",
              "    li.appendChild(percent);\n",
              "\n",
              "    outputElement.appendChild(li);\n",
              "\n",
              "    const fileDataPromise = new Promise((resolve) => {\n",
              "      const reader = new FileReader();\n",
              "      reader.onload = (e) => {\n",
              "        resolve(e.target.result);\n",
              "      };\n",
              "      reader.readAsArrayBuffer(file);\n",
              "    });\n",
              "    // Wait for the data to be ready.\n",
              "    let fileData = yield {\n",
              "      promise: fileDataPromise,\n",
              "      response: {\n",
              "        action: 'continue',\n",
              "      }\n",
              "    };\n",
              "\n",
              "    // Use a chunked sending to avoid message size limits. See b/62115660.\n",
              "    let position = 0;\n",
              "    do {\n",
              "      const length = Math.min(fileData.byteLength - position, MAX_PAYLOAD_SIZE);\n",
              "      const chunk = new Uint8Array(fileData, position, length);\n",
              "      position += length;\n",
              "\n",
              "      const base64 = btoa(String.fromCharCode.apply(null, chunk));\n",
              "      yield {\n",
              "        response: {\n",
              "          action: 'append',\n",
              "          file: file.name,\n",
              "          data: base64,\n",
              "        },\n",
              "      };\n",
              "\n",
              "      let percentDone = fileData.byteLength === 0 ?\n",
              "          100 :\n",
              "          Math.round((position / fileData.byteLength) * 100);\n",
              "      percent.textContent = `${percentDone}% done`;\n",
              "\n",
              "    } while (position < fileData.byteLength);\n",
              "  }\n",
              "\n",
              "  // All done.\n",
              "  yield {\n",
              "    response: {\n",
              "      action: 'complete',\n",
              "    }\n",
              "  };\n",
              "}\n",
              "\n",
              "scope.google = scope.google || {};\n",
              "scope.google.colab = scope.google.colab || {};\n",
              "scope.google.colab._files = {\n",
              "  _uploadFiles,\n",
              "  _uploadFilesContinue,\n",
              "};\n",
              "})(self);\n",
              "</script> "
            ]
          },
          "metadata": {}
        },
        {
          "output_type": "stream",
          "name": "stdout",
          "text": [
            "Saving Test_Vid_yellow_getslost.mp4 to Test_Vid_yellow_getslost (1).mp4\n"
          ]
        }
      ]
    },
    {
      "cell_type": "code",
      "source": [
        "import zipfile\n",
        "import os\n",
        "\n",
        "zip_path = \"train_700.zip\"         # 👈 use your uploaded zip file name\n",
        "extract_path = \"train_700\"         # 👈 this will be your dataset folder\n",
        "\n",
        "with zipfile.ZipFile(zip_path, 'r') as zip_ref:\n",
        "    zip_ref.extractall(extract_path)\n",
        "\n",
        "print(\"✅ Dataset unzipped!\")\n"
      ],
      "metadata": {
        "colab": {
          "base_uri": "https://localhost:8080/",
          "height": 341
        },
        "id": "AsYFNHGHoF_h",
        "outputId": "46be83d4-e286-4c29-e55f-defe3d05f749"
      },
      "execution_count": 8,
      "outputs": [
        {
          "output_type": "error",
          "ename": "FileNotFoundError",
          "evalue": "[Errno 2] No such file or directory: 'train_700.zip'",
          "traceback": [
            "\u001b[0;31m---------------------------------------------------------------------------\u001b[0m",
            "\u001b[0;31mFileNotFoundError\u001b[0m                         Traceback (most recent call last)",
            "\u001b[0;32m<ipython-input-8-05c4055da6d3>\u001b[0m in \u001b[0;36m<cell line: 0>\u001b[0;34m()\u001b[0m\n\u001b[1;32m      5\u001b[0m \u001b[0mextract_path\u001b[0m \u001b[0;34m=\u001b[0m \u001b[0;34m\"train_700\"\u001b[0m         \u001b[0;31m# 👈 this will be your dataset folder\u001b[0m\u001b[0;34m\u001b[0m\u001b[0;34m\u001b[0m\u001b[0m\n\u001b[1;32m      6\u001b[0m \u001b[0;34m\u001b[0m\u001b[0m\n\u001b[0;32m----> 7\u001b[0;31m \u001b[0;32mwith\u001b[0m \u001b[0mzipfile\u001b[0m\u001b[0;34m.\u001b[0m\u001b[0mZipFile\u001b[0m\u001b[0;34m(\u001b[0m\u001b[0mzip_path\u001b[0m\u001b[0;34m,\u001b[0m \u001b[0;34m'r'\u001b[0m\u001b[0;34m)\u001b[0m \u001b[0;32mas\u001b[0m \u001b[0mzip_ref\u001b[0m\u001b[0;34m:\u001b[0m\u001b[0;34m\u001b[0m\u001b[0;34m\u001b[0m\u001b[0m\n\u001b[0m\u001b[1;32m      8\u001b[0m     \u001b[0mzip_ref\u001b[0m\u001b[0;34m.\u001b[0m\u001b[0mextractall\u001b[0m\u001b[0;34m(\u001b[0m\u001b[0mextract_path\u001b[0m\u001b[0;34m)\u001b[0m\u001b[0;34m\u001b[0m\u001b[0;34m\u001b[0m\u001b[0m\n\u001b[1;32m      9\u001b[0m \u001b[0;34m\u001b[0m\u001b[0m\n",
            "\u001b[0;32m/usr/lib/python3.11/zipfile.py\u001b[0m in \u001b[0;36m__init__\u001b[0;34m(self, file, mode, compression, allowZip64, compresslevel, strict_timestamps, metadata_encoding)\u001b[0m\n\u001b[1;32m   1293\u001b[0m             \u001b[0;32mwhile\u001b[0m \u001b[0;32mTrue\u001b[0m\u001b[0;34m:\u001b[0m\u001b[0;34m\u001b[0m\u001b[0;34m\u001b[0m\u001b[0m\n\u001b[1;32m   1294\u001b[0m                 \u001b[0;32mtry\u001b[0m\u001b[0;34m:\u001b[0m\u001b[0;34m\u001b[0m\u001b[0;34m\u001b[0m\u001b[0m\n\u001b[0;32m-> 1295\u001b[0;31m                     \u001b[0mself\u001b[0m\u001b[0;34m.\u001b[0m\u001b[0mfp\u001b[0m \u001b[0;34m=\u001b[0m \u001b[0mio\u001b[0m\u001b[0;34m.\u001b[0m\u001b[0mopen\u001b[0m\u001b[0;34m(\u001b[0m\u001b[0mfile\u001b[0m\u001b[0;34m,\u001b[0m \u001b[0mfilemode\u001b[0m\u001b[0;34m)\u001b[0m\u001b[0;34m\u001b[0m\u001b[0;34m\u001b[0m\u001b[0m\n\u001b[0m\u001b[1;32m   1296\u001b[0m                 \u001b[0;32mexcept\u001b[0m \u001b[0mOSError\u001b[0m\u001b[0;34m:\u001b[0m\u001b[0;34m\u001b[0m\u001b[0;34m\u001b[0m\u001b[0m\n\u001b[1;32m   1297\u001b[0m                     \u001b[0;32mif\u001b[0m \u001b[0mfilemode\u001b[0m \u001b[0;32min\u001b[0m \u001b[0mmodeDict\u001b[0m\u001b[0;34m:\u001b[0m\u001b[0;34m\u001b[0m\u001b[0;34m\u001b[0m\u001b[0m\n",
            "\u001b[0;31mFileNotFoundError\u001b[0m: [Errno 2] No such file or directory: 'train_700.zip'"
          ]
        }
      ]
    },
    {
      "cell_type": "code",
      "source": [
        "!cat /root/.config/Ultralytics/settings.json\n"
      ],
      "metadata": {
        "colab": {
          "base_uri": "https://localhost:8080/"
        },
        "id": "COnARIyGrpq6",
        "outputId": "27b12ff5-d3e2-479c-ff49-9dc41289882a"
      },
      "execution_count": 4,
      "outputs": [
        {
          "output_type": "stream",
          "name": "stdout",
          "text": [
            "{\n",
            "  \"settings_version\": \"0.0.6\",\n",
            "  \"datasets_dir\": \"/content/datasets\",\n",
            "  \"weights_dir\": \"weights\",\n",
            "  \"runs_dir\": \"runs\",\n",
            "  \"uuid\": \"569f3ba64b326db489132663f79cd37279811de477381b83ac131e6cdd129cbb\",\n",
            "  \"sync\": true,\n",
            "  \"api_key\": \"\",\n",
            "  \"openai_api_key\": \"\",\n",
            "  \"clearml\": true,\n",
            "  \"comet\": true,\n",
            "  \"dvc\": true,\n",
            "  \"hub\": true,\n",
            "  \"mlflow\": true,\n",
            "  \"neptune\": true,\n",
            "  \"raytune\": true,\n",
            "  \"tensorboard\": true,\n",
            "  \"wandb\": false,\n",
            "  \"vscode_msg\": true\n",
            "}"
          ]
        }
      ]
    },
    {
      "cell_type": "code",
      "source": [
        "import json\n",
        "\n",
        "settings_path = \"/root/.config/Ultralytics/settings.json\"\n",
        "\n",
        "with open(settings_path, \"r\") as f:\n",
        "    settings = json.load(f)\n",
        "\n",
        "settings[\"datasets_dir\"] = \"/content/datasets\"\n",
        "\n",
        "with open(settings_path, \"w\") as f:\n",
        "    json.dump(settings, f, indent=4)\n",
        "\n",
        "print(\"✅ YOLO dataset directory updated to /content/data\")\n"
      ],
      "metadata": {
        "colab": {
          "base_uri": "https://localhost:8080/"
        },
        "id": "KE68O2DovubH",
        "outputId": "28462b9c-4c76-4a97-9d8b-254d443846d5"
      },
      "execution_count": 51,
      "outputs": [
        {
          "output_type": "stream",
          "name": "stdout",
          "text": [
            "✅ YOLO dataset directory updated to /content/data\n"
          ]
        }
      ]
    },
    {
      "cell_type": "code",
      "source": [
        "model = YOLO(\"yolov8n.pt\")  # nano version (fastest)\n",
        "results = model.train(data=\"/content/datasets/train_700/data.yaml\", epochs=20, imgsz=640)"
      ],
      "metadata": {
        "colab": {
          "base_uri": "https://localhost:8080/"
        },
        "id": "CH6AY8D6wAVV",
        "outputId": "7c864fce-51c4-499e-f94f-ac5a5d484f81"
      },
      "execution_count": 9,
      "outputs": [
        {
          "output_type": "stream",
          "name": "stdout",
          "text": [
            "Ultralytics 8.3.97 🚀 Python-3.11.11 torch-2.6.0+cu124 CUDA:0 (Tesla T4, 15095MiB)\n",
            "\u001b[34m\u001b[1mengine/trainer: \u001b[0mtask=detect, mode=train, model=yolov8n.pt, data=/content/datasets/train_700/data.yaml, epochs=20, time=None, patience=100, batch=16, imgsz=640, save=True, save_period=-1, cache=False, device=None, workers=8, project=None, name=train20, exist_ok=False, pretrained=True, optimizer=auto, verbose=True, seed=0, deterministic=True, single_cls=False, rect=False, cos_lr=False, close_mosaic=10, resume=False, amp=True, fraction=1.0, profile=False, freeze=None, multi_scale=False, overlap_mask=True, mask_ratio=4, dropout=0.0, val=True, split=val, save_json=False, save_hybrid=False, conf=None, iou=0.7, max_det=300, half=False, dnn=False, plots=True, source=None, vid_stride=1, stream_buffer=False, visualize=False, augment=False, agnostic_nms=False, classes=None, retina_masks=False, embed=None, show=False, save_frames=False, save_txt=False, save_conf=False, save_crop=False, show_labels=True, show_conf=True, show_boxes=True, line_width=None, format=torchscript, keras=False, optimize=False, int8=False, dynamic=False, simplify=True, opset=None, workspace=None, nms=False, lr0=0.01, lrf=0.01, momentum=0.937, weight_decay=0.0005, warmup_epochs=3.0, warmup_momentum=0.8, warmup_bias_lr=0.1, box=7.5, cls=0.5, dfl=1.5, pose=12.0, kobj=1.0, nbs=64, hsv_h=0.015, hsv_s=0.7, hsv_v=0.4, degrees=0.0, translate=0.1, scale=0.5, shear=0.0, perspective=0.0, flipud=0.0, fliplr=0.5, bgr=0.0, mosaic=1.0, mixup=0.0, copy_paste=0.0, copy_paste_mode=flip, auto_augment=randaugment, erasing=0.4, crop_fraction=1.0, cfg=None, tracker=botsort.yaml, save_dir=runs/detect/train20\n",
            "Downloading https://ultralytics.com/assets/Arial.ttf to '/root/.config/Ultralytics/Arial.ttf'...\n"
          ]
        },
        {
          "output_type": "stream",
          "name": "stderr",
          "text": [
            "100%|██████████| 755k/755k [00:00<00:00, 24.1MB/s]\n"
          ]
        },
        {
          "output_type": "stream",
          "name": "stdout",
          "text": [
            "Overriding model.yaml nc=80 with nc=2\n",
            "\n",
            "                   from  n    params  module                                       arguments                     \n",
            "  0                  -1  1       464  ultralytics.nn.modules.conv.Conv             [3, 16, 3, 2]                 \n",
            "  1                  -1  1      4672  ultralytics.nn.modules.conv.Conv             [16, 32, 3, 2]                \n",
            "  2                  -1  1      7360  ultralytics.nn.modules.block.C2f             [32, 32, 1, True]             \n",
            "  3                  -1  1     18560  ultralytics.nn.modules.conv.Conv             [32, 64, 3, 2]                \n",
            "  4                  -1  2     49664  ultralytics.nn.modules.block.C2f             [64, 64, 2, True]             \n",
            "  5                  -1  1     73984  ultralytics.nn.modules.conv.Conv             [64, 128, 3, 2]               \n",
            "  6                  -1  2    197632  ultralytics.nn.modules.block.C2f             [128, 128, 2, True]           \n",
            "  7                  -1  1    295424  ultralytics.nn.modules.conv.Conv             [128, 256, 3, 2]              \n",
            "  8                  -1  1    460288  ultralytics.nn.modules.block.C2f             [256, 256, 1, True]           \n",
            "  9                  -1  1    164608  ultralytics.nn.modules.block.SPPF            [256, 256, 5]                 \n",
            " 10                  -1  1         0  torch.nn.modules.upsampling.Upsample         [None, 2, 'nearest']          \n",
            " 11             [-1, 6]  1         0  ultralytics.nn.modules.conv.Concat           [1]                           \n",
            " 12                  -1  1    148224  ultralytics.nn.modules.block.C2f             [384, 128, 1]                 \n",
            " 13                  -1  1         0  torch.nn.modules.upsampling.Upsample         [None, 2, 'nearest']          \n",
            " 14             [-1, 4]  1         0  ultralytics.nn.modules.conv.Concat           [1]                           \n",
            " 15                  -1  1     37248  ultralytics.nn.modules.block.C2f             [192, 64, 1]                  \n",
            " 16                  -1  1     36992  ultralytics.nn.modules.conv.Conv             [64, 64, 3, 2]                \n",
            " 17            [-1, 12]  1         0  ultralytics.nn.modules.conv.Concat           [1]                           \n",
            " 18                  -1  1    123648  ultralytics.nn.modules.block.C2f             [192, 128, 1]                 \n",
            " 19                  -1  1    147712  ultralytics.nn.modules.conv.Conv             [128, 128, 3, 2]              \n",
            " 20             [-1, 9]  1         0  ultralytics.nn.modules.conv.Concat           [1]                           \n",
            " 21                  -1  1    493056  ultralytics.nn.modules.block.C2f             [384, 256, 1]                 \n",
            " 22        [15, 18, 21]  1    751702  ultralytics.nn.modules.head.Detect           [2, [64, 128, 256]]           \n",
            "Model summary: 129 layers, 3,011,238 parameters, 3,011,222 gradients, 8.2 GFLOPs\n",
            "\n",
            "Transferred 319/355 items from pretrained weights\n",
            "\u001b[34m\u001b[1mTensorBoard: \u001b[0mStart with 'tensorboard --logdir runs/detect/train20', view at http://localhost:6006/\n",
            "Freezing layer 'model.22.dfl.conv.weight'\n",
            "\u001b[34m\u001b[1mAMP: \u001b[0mrunning Automatic Mixed Precision (AMP) checks...\n",
            "Downloading https://github.com/ultralytics/assets/releases/download/v8.3.0/yolo11n.pt to 'yolo11n.pt'...\n"
          ]
        },
        {
          "output_type": "stream",
          "name": "stderr",
          "text": [
            "100%|██████████| 5.35M/5.35M [00:00<00:00, 80.4MB/s]\n"
          ]
        },
        {
          "output_type": "stream",
          "name": "stdout",
          "text": [
            "\u001b[34m\u001b[1mAMP: \u001b[0mchecks passed ✅\n"
          ]
        },
        {
          "output_type": "stream",
          "name": "stderr",
          "text": [
            "\u001b[34m\u001b[1mtrain: \u001b[0mScanning /content/datasets/train_700/train/labels... 511 images, 169 backgrounds, 0 corrupt: 100%|██████████| 511/511 [00:00<00:00, 2920.65it/s]"
          ]
        },
        {
          "output_type": "stream",
          "name": "stdout",
          "text": [
            "\u001b[34m\u001b[1mtrain: \u001b[0mNew cache created: /content/datasets/train_700/train/labels.cache\n"
          ]
        },
        {
          "output_type": "stream",
          "name": "stderr",
          "text": [
            "\n"
          ]
        },
        {
          "output_type": "stream",
          "name": "stdout",
          "text": [
            "\u001b[34m\u001b[1malbumentations: \u001b[0mBlur(p=0.01, blur_limit=(3, 7)), MedianBlur(p=0.01, blur_limit=(3, 7)), ToGray(p=0.01, num_output_channels=3, method='weighted_average'), CLAHE(p=0.01, clip_limit=(1.0, 4.0), tile_grid_size=(8, 8))\n"
          ]
        },
        {
          "output_type": "stream",
          "name": "stderr",
          "text": [
            "\u001b[34m\u001b[1mval: \u001b[0mScanning /content/datasets/train_700/valid/labels... 201 images, 48 backgrounds, 0 corrupt: 100%|██████████| 201/201 [00:00<00:00, 2336.54it/s]"
          ]
        },
        {
          "output_type": "stream",
          "name": "stdout",
          "text": [
            "\u001b[34m\u001b[1mval: \u001b[0mNew cache created: /content/datasets/train_700/valid/labels.cache\n"
          ]
        },
        {
          "output_type": "stream",
          "name": "stderr",
          "text": [
            "\n"
          ]
        },
        {
          "output_type": "stream",
          "name": "stdout",
          "text": [
            "Plotting labels to runs/detect/train20/labels.jpg... \n",
            "\u001b[34m\u001b[1moptimizer:\u001b[0m 'optimizer=auto' found, ignoring 'lr0=0.01' and 'momentum=0.937' and determining best 'optimizer', 'lr0' and 'momentum' automatically... \n",
            "\u001b[34m\u001b[1moptimizer:\u001b[0m AdamW(lr=0.001667, momentum=0.9) with parameter groups 57 weight(decay=0.0), 64 weight(decay=0.0005), 63 bias(decay=0.0)\n",
            "\u001b[34m\u001b[1mTensorBoard: \u001b[0mmodel graph visualization added ✅\n",
            "Image sizes 640 train, 640 val\n",
            "Using 2 dataloader workers\n",
            "Logging results to \u001b[1mruns/detect/train20\u001b[0m\n",
            "Starting training for 20 epochs...\n",
            "\n",
            "      Epoch    GPU_mem   box_loss   cls_loss   dfl_loss  Instances       Size\n"
          ]
        },
        {
          "output_type": "stream",
          "name": "stderr",
          "text": [
            "       1/20      2.06G      2.303      10.38      1.083         15        640: 100%|██████████| 32/32 [00:11<00:00,  2.87it/s]\n",
            "                 Class     Images  Instances      Box(P          R      mAP50  mAP50-95): 100%|██████████| 7/7 [00:03<00:00,  2.32it/s]\n"
          ]
        },
        {
          "output_type": "stream",
          "name": "stdout",
          "text": [
            "                   all        201        163   0.000797      0.151    0.00052   0.000173\n",
            "\n",
            "      Epoch    GPU_mem   box_loss   cls_loss   dfl_loss  Instances       Size\n"
          ]
        },
        {
          "output_type": "stream",
          "name": "stderr",
          "text": [
            "       2/20      2.54G      2.258      7.522      1.116         12        640: 100%|██████████| 32/32 [00:08<00:00,  3.74it/s]\n",
            "                 Class     Images  Instances      Box(P          R      mAP50  mAP50-95): 100%|██████████| 7/7 [00:02<00:00,  3.11it/s]"
          ]
        },
        {
          "output_type": "stream",
          "name": "stdout",
          "text": [
            "                   all        201        163    0.00155      0.225     0.0628     0.0306\n"
          ]
        },
        {
          "output_type": "stream",
          "name": "stderr",
          "text": [
            "\n"
          ]
        },
        {
          "output_type": "stream",
          "name": "stdout",
          "text": [
            "\n",
            "      Epoch    GPU_mem   box_loss   cls_loss   dfl_loss  Instances       Size\n"
          ]
        },
        {
          "output_type": "stream",
          "name": "stderr",
          "text": [
            "       3/20      2.56G      2.139      6.621      1.118         12        640: 100%|██████████| 32/32 [00:07<00:00,  4.08it/s]\n",
            "                 Class     Images  Instances      Box(P          R      mAP50  mAP50-95): 100%|██████████| 7/7 [00:02<00:00,  2.89it/s]"
          ]
        },
        {
          "output_type": "stream",
          "name": "stdout",
          "text": [
            "                   all        201        163      0.943      0.242      0.334      0.127\n"
          ]
        },
        {
          "output_type": "stream",
          "name": "stderr",
          "text": [
            "\n"
          ]
        },
        {
          "output_type": "stream",
          "name": "stdout",
          "text": [
            "\n",
            "      Epoch    GPU_mem   box_loss   cls_loss   dfl_loss  Instances       Size\n"
          ]
        },
        {
          "output_type": "stream",
          "name": "stderr",
          "text": [
            "       4/20      2.58G      2.219      5.282      1.215         18        640: 100%|██████████| 32/32 [00:07<00:00,  4.15it/s]\n",
            "                 Class     Images  Instances      Box(P          R      mAP50  mAP50-95): 100%|██████████| 7/7 [00:02<00:00,  3.10it/s]\n"
          ]
        },
        {
          "output_type": "stream",
          "name": "stdout",
          "text": [
            "                   all        201        163      0.388      0.384      0.364      0.156\n",
            "\n",
            "      Epoch    GPU_mem   box_loss   cls_loss   dfl_loss  Instances       Size\n"
          ]
        },
        {
          "output_type": "stream",
          "name": "stderr",
          "text": [
            "       5/20       2.6G          2      4.778       1.08         12        640: 100%|██████████| 32/32 [00:08<00:00,  3.57it/s]\n",
            "                 Class     Images  Instances      Box(P          R      mAP50  mAP50-95): 100%|██████████| 7/7 [00:01<00:00,  4.06it/s]"
          ]
        },
        {
          "output_type": "stream",
          "name": "stdout",
          "text": [
            "                   all        201        163       0.82       0.34      0.312      0.133\n"
          ]
        },
        {
          "output_type": "stream",
          "name": "stderr",
          "text": [
            "\n"
          ]
        },
        {
          "output_type": "stream",
          "name": "stdout",
          "text": [
            "\n",
            "      Epoch    GPU_mem   box_loss   cls_loss   dfl_loss  Instances       Size\n"
          ]
        },
        {
          "output_type": "stream",
          "name": "stderr",
          "text": [
            "       6/20      2.61G       1.94       3.84      1.054         15        640: 100%|██████████| 32/32 [00:08<00:00,  3.67it/s]\n",
            "                 Class     Images  Instances      Box(P          R      mAP50  mAP50-95): 100%|██████████| 7/7 [00:01<00:00,  3.96it/s]"
          ]
        },
        {
          "output_type": "stream",
          "name": "stdout",
          "text": [
            "                   all        201        163      0.798      0.333      0.322      0.151\n"
          ]
        },
        {
          "output_type": "stream",
          "name": "stderr",
          "text": [
            "\n"
          ]
        },
        {
          "output_type": "stream",
          "name": "stdout",
          "text": [
            "\n",
            "      Epoch    GPU_mem   box_loss   cls_loss   dfl_loss  Instances       Size\n"
          ]
        },
        {
          "output_type": "stream",
          "name": "stderr",
          "text": [
            "       7/20      2.63G      1.987      3.407      1.059         18        640: 100%|██████████| 32/32 [00:08<00:00,  3.61it/s]\n",
            "                 Class     Images  Instances      Box(P          R      mAP50  mAP50-95): 100%|██████████| 7/7 [00:01<00:00,  4.49it/s]"
          ]
        },
        {
          "output_type": "stream",
          "name": "stdout",
          "text": [
            "                   all        201        163        0.9      0.389      0.397      0.193\n"
          ]
        },
        {
          "output_type": "stream",
          "name": "stderr",
          "text": [
            "\n"
          ]
        },
        {
          "output_type": "stream",
          "name": "stdout",
          "text": [
            "\n",
            "      Epoch    GPU_mem   box_loss   cls_loss   dfl_loss  Instances       Size\n"
          ]
        },
        {
          "output_type": "stream",
          "name": "stderr",
          "text": [
            "       8/20      2.65G      1.852      3.146       1.04          9        640: 100%|██████████| 32/32 [00:08<00:00,  3.73it/s]\n",
            "                 Class     Images  Instances      Box(P          R      mAP50  mAP50-95): 100%|██████████| 7/7 [00:01<00:00,  4.18it/s]"
          ]
        },
        {
          "output_type": "stream",
          "name": "stdout",
          "text": [
            "                   all        201        163      0.839       0.41      0.355      0.165\n"
          ]
        },
        {
          "output_type": "stream",
          "name": "stderr",
          "text": [
            "\n"
          ]
        },
        {
          "output_type": "stream",
          "name": "stdout",
          "text": [
            "\n",
            "      Epoch    GPU_mem   box_loss   cls_loss   dfl_loss  Instances       Size\n"
          ]
        },
        {
          "output_type": "stream",
          "name": "stderr",
          "text": [
            "       9/20      2.66G      1.904      2.618      1.037          9        640: 100%|██████████| 32/32 [00:08<00:00,  3.73it/s]\n",
            "                 Class     Images  Instances      Box(P          R      mAP50  mAP50-95): 100%|██████████| 7/7 [00:02<00:00,  3.25it/s]"
          ]
        },
        {
          "output_type": "stream",
          "name": "stdout",
          "text": [
            "                   all        201        163      0.924      0.426      0.443      0.211\n"
          ]
        },
        {
          "output_type": "stream",
          "name": "stderr",
          "text": [
            "\n"
          ]
        },
        {
          "output_type": "stream",
          "name": "stdout",
          "text": [
            "\n",
            "      Epoch    GPU_mem   box_loss   cls_loss   dfl_loss  Instances       Size\n"
          ]
        },
        {
          "output_type": "stream",
          "name": "stderr",
          "text": [
            "      10/20      2.68G      1.851      2.423      1.081         17        640: 100%|██████████| 32/32 [00:07<00:00,  4.24it/s]\n",
            "                 Class     Images  Instances      Box(P          R      mAP50  mAP50-95): 100%|██████████| 7/7 [00:01<00:00,  3.52it/s]"
          ]
        },
        {
          "output_type": "stream",
          "name": "stdout",
          "text": [
            "                   all        201        163      0.871      0.383      0.361      0.167\n"
          ]
        },
        {
          "output_type": "stream",
          "name": "stderr",
          "text": [
            "\n"
          ]
        },
        {
          "output_type": "stream",
          "name": "stdout",
          "text": [
            "Closing dataloader mosaic\n",
            "\u001b[34m\u001b[1malbumentations: \u001b[0mBlur(p=0.01, blur_limit=(3, 7)), MedianBlur(p=0.01, blur_limit=(3, 7)), ToGray(p=0.01, num_output_channels=3, method='weighted_average'), CLAHE(p=0.01, clip_limit=(1.0, 4.0), tile_grid_size=(8, 8))\n",
            "\n",
            "      Epoch    GPU_mem   box_loss   cls_loss   dfl_loss  Instances       Size\n"
          ]
        },
        {
          "output_type": "stream",
          "name": "stderr",
          "text": [
            "      11/20       2.7G      1.705      2.403      1.041         12        640: 100%|██████████| 32/32 [00:09<00:00,  3.51it/s]\n",
            "                 Class     Images  Instances      Box(P          R      mAP50  mAP50-95): 100%|██████████| 7/7 [00:01<00:00,  4.41it/s]"
          ]
        },
        {
          "output_type": "stream",
          "name": "stdout",
          "text": [
            "                   all        201        163      0.878      0.373      0.369      0.194\n"
          ]
        },
        {
          "output_type": "stream",
          "name": "stderr",
          "text": [
            "\n"
          ]
        },
        {
          "output_type": "stream",
          "name": "stdout",
          "text": [
            "\n",
            "      Epoch    GPU_mem   box_loss   cls_loss   dfl_loss  Instances       Size\n"
          ]
        },
        {
          "output_type": "stream",
          "name": "stderr",
          "text": [
            "      12/20      2.71G      1.665      2.156      1.052          9        640: 100%|██████████| 32/32 [00:08<00:00,  3.88it/s]\n",
            "                 Class     Images  Instances      Box(P          R      mAP50  mAP50-95): 100%|██████████| 7/7 [00:01<00:00,  4.50it/s]"
          ]
        },
        {
          "output_type": "stream",
          "name": "stdout",
          "text": [
            "                   all        201        163      0.883       0.38      0.364      0.189\n"
          ]
        },
        {
          "output_type": "stream",
          "name": "stderr",
          "text": [
            "\n"
          ]
        },
        {
          "output_type": "stream",
          "name": "stdout",
          "text": [
            "\n",
            "      Epoch    GPU_mem   box_loss   cls_loss   dfl_loss  Instances       Size\n"
          ]
        },
        {
          "output_type": "stream",
          "name": "stderr",
          "text": [
            "      13/20      2.73G      1.735      1.991      1.032         11        640: 100%|██████████| 32/32 [00:08<00:00,  3.85it/s]\n",
            "                 Class     Images  Instances      Box(P          R      mAP50  mAP50-95): 100%|██████████| 7/7 [00:01<00:00,  4.82it/s]"
          ]
        },
        {
          "output_type": "stream",
          "name": "stdout",
          "text": [
            "                   all        201        163      0.885      0.383       0.36      0.178\n"
          ]
        },
        {
          "output_type": "stream",
          "name": "stderr",
          "text": [
            "\n"
          ]
        },
        {
          "output_type": "stream",
          "name": "stdout",
          "text": [
            "\n",
            "      Epoch    GPU_mem   box_loss   cls_loss   dfl_loss  Instances       Size\n"
          ]
        },
        {
          "output_type": "stream",
          "name": "stderr",
          "text": [
            "      14/20      2.75G      1.739      2.043      1.053         10        640: 100%|██████████| 32/32 [00:08<00:00,  3.90it/s]\n",
            "                 Class     Images  Instances      Box(P          R      mAP50  mAP50-95): 100%|██████████| 7/7 [00:01<00:00,  4.22it/s]"
          ]
        },
        {
          "output_type": "stream",
          "name": "stdout",
          "text": [
            "                   all        201        163      0.899      0.389      0.378      0.198\n"
          ]
        },
        {
          "output_type": "stream",
          "name": "stderr",
          "text": [
            "\n"
          ]
        },
        {
          "output_type": "stream",
          "name": "stdout",
          "text": [
            "\n",
            "      Epoch    GPU_mem   box_loss   cls_loss   dfl_loss  Instances       Size\n"
          ]
        },
        {
          "output_type": "stream",
          "name": "stderr",
          "text": [
            "      15/20      2.77G      1.526      1.784      1.046         10        640: 100%|██████████| 32/32 [00:07<00:00,  4.51it/s]\n",
            "                 Class     Images  Instances      Box(P          R      mAP50  mAP50-95): 100%|██████████| 7/7 [00:02<00:00,  2.95it/s]"
          ]
        },
        {
          "output_type": "stream",
          "name": "stdout",
          "text": [
            "                   all        201        163      0.913       0.41      0.409      0.227\n"
          ]
        },
        {
          "output_type": "stream",
          "name": "stderr",
          "text": [
            "\n"
          ]
        },
        {
          "output_type": "stream",
          "name": "stdout",
          "text": [
            "\n",
            "      Epoch    GPU_mem   box_loss   cls_loss   dfl_loss  Instances       Size\n"
          ]
        },
        {
          "output_type": "stream",
          "name": "stderr",
          "text": [
            "      16/20      2.78G      1.617      1.716      1.021         10        640: 100%|██████████| 32/32 [00:07<00:00,  4.47it/s]\n",
            "                 Class     Images  Instances      Box(P          R      mAP50  mAP50-95): 100%|██████████| 7/7 [00:01<00:00,  4.57it/s]"
          ]
        },
        {
          "output_type": "stream",
          "name": "stdout",
          "text": [
            "                   all        201        163       0.93      0.417      0.426      0.231\n"
          ]
        },
        {
          "output_type": "stream",
          "name": "stderr",
          "text": [
            "\n"
          ]
        },
        {
          "output_type": "stream",
          "name": "stdout",
          "text": [
            "\n",
            "      Epoch    GPU_mem   box_loss   cls_loss   dfl_loss  Instances       Size\n"
          ]
        },
        {
          "output_type": "stream",
          "name": "stderr",
          "text": [
            "      17/20       2.8G      1.572      1.709      0.997         10        640: 100%|██████████| 32/32 [00:08<00:00,  3.91it/s]\n",
            "                 Class     Images  Instances      Box(P          R      mAP50  mAP50-95): 100%|██████████| 7/7 [00:01<00:00,  4.68it/s]"
          ]
        },
        {
          "output_type": "stream",
          "name": "stdout",
          "text": [
            "                   all        201        163      0.925      0.404       0.42      0.236\n"
          ]
        },
        {
          "output_type": "stream",
          "name": "stderr",
          "text": [
            "\n"
          ]
        },
        {
          "output_type": "stream",
          "name": "stdout",
          "text": [
            "\n",
            "      Epoch    GPU_mem   box_loss   cls_loss   dfl_loss  Instances       Size\n"
          ]
        },
        {
          "output_type": "stream",
          "name": "stderr",
          "text": [
            "      18/20      2.82G      1.609      1.654      1.038         13        640: 100%|██████████| 32/32 [00:08<00:00,  3.83it/s]\n",
            "                 Class     Images  Instances      Box(P          R      mAP50  mAP50-95): 100%|██████████| 7/7 [00:01<00:00,  4.78it/s]"
          ]
        },
        {
          "output_type": "stream",
          "name": "stdout",
          "text": [
            "                   all        201        163      0.915      0.404      0.404      0.227\n"
          ]
        },
        {
          "output_type": "stream",
          "name": "stderr",
          "text": [
            "\n"
          ]
        },
        {
          "output_type": "stream",
          "name": "stdout",
          "text": [
            "\n",
            "      Epoch    GPU_mem   box_loss   cls_loss   dfl_loss  Instances       Size\n"
          ]
        },
        {
          "output_type": "stream",
          "name": "stderr",
          "text": [
            "      19/20      2.83G      1.488      1.628      1.017          4        640: 100%|██████████| 32/32 [00:07<00:00,  4.26it/s]\n",
            "                 Class     Images  Instances      Box(P          R      mAP50  mAP50-95): 100%|██████████| 7/7 [00:02<00:00,  3.03it/s]"
          ]
        },
        {
          "output_type": "stream",
          "name": "stdout",
          "text": [
            "                   all        201        163      0.892      0.392      0.391       0.23\n"
          ]
        },
        {
          "output_type": "stream",
          "name": "stderr",
          "text": [
            "\n"
          ]
        },
        {
          "output_type": "stream",
          "name": "stdout",
          "text": [
            "\n",
            "      Epoch    GPU_mem   box_loss   cls_loss   dfl_loss  Instances       Size\n"
          ]
        },
        {
          "output_type": "stream",
          "name": "stderr",
          "text": [
            "      20/20      2.85G      1.373       1.47      0.968         11        640: 100%|██████████| 32/32 [00:06<00:00,  4.58it/s]\n",
            "                 Class     Images  Instances      Box(P          R      mAP50  mAP50-95): 100%|██████████| 7/7 [00:01<00:00,  4.35it/s]"
          ]
        },
        {
          "output_type": "stream",
          "name": "stdout",
          "text": [
            "                   all        201        163      0.892      0.395      0.392      0.227\n"
          ]
        },
        {
          "output_type": "stream",
          "name": "stderr",
          "text": [
            "\n"
          ]
        },
        {
          "output_type": "stream",
          "name": "stdout",
          "text": [
            "\n",
            "20 epochs completed in 0.061 hours.\n",
            "Optimizer stripped from runs/detect/train20/weights/last.pt, 6.2MB\n",
            "Optimizer stripped from runs/detect/train20/weights/best.pt, 6.2MB\n",
            "\n",
            "Validating runs/detect/train20/weights/best.pt...\n",
            "Ultralytics 8.3.97 🚀 Python-3.11.11 torch-2.6.0+cu124 CUDA:0 (Tesla T4, 15095MiB)\n",
            "Model summary (fused): 72 layers, 3,006,038 parameters, 0 gradients, 8.1 GFLOPs\n"
          ]
        },
        {
          "output_type": "stream",
          "name": "stderr",
          "text": [
            "                 Class     Images  Instances      Box(P          R      mAP50  mAP50-95): 100%|██████████| 7/7 [00:04<00:00,  1.74it/s]\n"
          ]
        },
        {
          "output_type": "stream",
          "name": "stdout",
          "text": [
            "                   all        201        163      0.925      0.404       0.42      0.237\n",
            "               objects          1          1          1          0          0          0\n",
            "                yellow        153        162      0.851      0.809       0.84      0.473\n",
            "Speed: 0.3ms preprocess, 3.1ms inference, 0.0ms loss, 5.6ms postprocess per image\n",
            "Results saved to \u001b[1mruns/detect/train20\u001b[0m\n"
          ]
        }
      ]
    },
    {
      "cell_type": "code",
      "source": [
        "import os\n",
        "\n",
        "path = \"runs/detect\"\n",
        "if os.path.exists(path):\n",
        "    print(\"📂 Available training runs:\")\n",
        "    for name in sorted(os.listdir(path)):\n",
        "        print(\" -\", name)\n",
        "else:\n",
        "    print(\"❌ No training runs found.\")\n"
      ],
      "metadata": {
        "colab": {
          "base_uri": "https://localhost:8080/"
        },
        "id": "NjAcSuQFxI3-",
        "outputId": "b72c80fb-6cef-4dcc-ca35-6711fac0db83"
      },
      "execution_count": 11,
      "outputs": [
        {
          "output_type": "stream",
          "name": "stdout",
          "text": [
            "📂 Available training runs:\n",
            " - train\n",
            " - train10\n",
            " - train11\n",
            " - train12\n",
            " - train13\n",
            " - train14\n",
            " - train15\n",
            " - train16\n",
            " - train17\n",
            " - train18\n",
            " - train19\n",
            " - train2\n",
            " - train20\n",
            " - train3\n",
            " - train4\n",
            " - train5\n",
            " - train6\n",
            " - train7\n",
            " - train8\n",
            " - train9\n"
          ]
        }
      ]
    },
    {
      "cell_type": "code",
      "source": [
        "\n",
        "model = YOLO(\"runs/detect/train20/weights/best.pt\")  # Update 'train16' if your folder is different\n",
        "\n",
        "# Run detection on the uploaded video\n",
        "results = model.predict(\n",
        "    source=\"Test_Vid_yellow_getslost.mp4\",   # Replace with your actual video name\n",
        "    save=True,\n",
        "    save_txt=True,\n",
        "    conf=0.1  # You can lower this if detections are missed\n",
        ")\n"
      ],
      "metadata": {
        "colab": {
          "base_uri": "https://localhost:8080/"
        },
        "id": "hJzPND7VxJfj",
        "outputId": "1fc18ec8-603c-4a99-d70a-f54601faff2e"
      },
      "execution_count": 12,
      "outputs": [
        {
          "output_type": "stream",
          "name": "stdout",
          "text": [
            "\n",
            "\n",
            "WARNING ⚠️ inference results will accumulate in RAM unless `stream=True` is passed, causing potential out-of-memory\n",
            "errors for large sources or long-running streams and videos. See https://docs.ultralytics.com/modes/predict/ for help.\n",
            "\n",
            "Example:\n",
            "    results = model(source=..., stream=True)  # generator of Results objects\n",
            "    for r in results:\n",
            "        boxes = r.boxes  # Boxes object for bbox outputs\n",
            "        masks = r.masks  # Masks object for segment masks outputs\n",
            "        probs = r.probs  # Class probabilities for classification outputs\n",
            "\n",
            "video 1/1 (frame 1/809) /content/Test_Vid_yellow_getslost.mp4: 384x640 1 yellow, 35.8ms\n",
            "video 1/1 (frame 2/809) /content/Test_Vid_yellow_getslost.mp4: 384x640 1 yellow, 10.8ms\n",
            "video 1/1 (frame 3/809) /content/Test_Vid_yellow_getslost.mp4: 384x640 1 yellow, 10.0ms\n",
            "video 1/1 (frame 4/809) /content/Test_Vid_yellow_getslost.mp4: 384x640 1 yellow, 10.6ms\n",
            "video 1/1 (frame 5/809) /content/Test_Vid_yellow_getslost.mp4: 384x640 1 yellow, 10.0ms\n",
            "video 1/1 (frame 6/809) /content/Test_Vid_yellow_getslost.mp4: 384x640 1 yellow, 11.0ms\n",
            "video 1/1 (frame 7/809) /content/Test_Vid_yellow_getslost.mp4: 384x640 1 yellow, 10.2ms\n",
            "video 1/1 (frame 8/809) /content/Test_Vid_yellow_getslost.mp4: 384x640 1 yellow, 10.6ms\n",
            "video 1/1 (frame 9/809) /content/Test_Vid_yellow_getslost.mp4: 384x640 1 yellow, 10.3ms\n",
            "video 1/1 (frame 10/809) /content/Test_Vid_yellow_getslost.mp4: 384x640 1 yellow, 10.7ms\n",
            "video 1/1 (frame 11/809) /content/Test_Vid_yellow_getslost.mp4: 384x640 1 yellow, 12.8ms\n",
            "video 1/1 (frame 12/809) /content/Test_Vid_yellow_getslost.mp4: 384x640 1 yellow, 10.1ms\n",
            "video 1/1 (frame 13/809) /content/Test_Vid_yellow_getslost.mp4: 384x640 1 yellow, 10.3ms\n",
            "video 1/1 (frame 14/809) /content/Test_Vid_yellow_getslost.mp4: 384x640 1 yellow, 10.3ms\n",
            "video 1/1 (frame 15/809) /content/Test_Vid_yellow_getslost.mp4: 384x640 1 yellow, 10.6ms\n",
            "video 1/1 (frame 16/809) /content/Test_Vid_yellow_getslost.mp4: 384x640 1 yellow, 10.3ms\n",
            "video 1/1 (frame 17/809) /content/Test_Vid_yellow_getslost.mp4: 384x640 1 yellow, 10.2ms\n",
            "video 1/1 (frame 18/809) /content/Test_Vid_yellow_getslost.mp4: 384x640 1 yellow, 12.6ms\n",
            "video 1/1 (frame 19/809) /content/Test_Vid_yellow_getslost.mp4: 384x640 2 yellows, 10.0ms\n",
            "video 1/1 (frame 20/809) /content/Test_Vid_yellow_getslost.mp4: 384x640 2 yellows, 10.1ms\n",
            "video 1/1 (frame 21/809) /content/Test_Vid_yellow_getslost.mp4: 384x640 2 yellows, 9.9ms\n",
            "video 1/1 (frame 22/809) /content/Test_Vid_yellow_getslost.mp4: 384x640 3 yellows, 10.0ms\n",
            "video 1/1 (frame 23/809) /content/Test_Vid_yellow_getslost.mp4: 384x640 3 yellows, 10.0ms\n",
            "video 1/1 (frame 24/809) /content/Test_Vid_yellow_getslost.mp4: 384x640 2 yellows, 18.8ms\n",
            "video 1/1 (frame 25/809) /content/Test_Vid_yellow_getslost.mp4: 384x640 2 yellows, 10.0ms\n",
            "video 1/1 (frame 26/809) /content/Test_Vid_yellow_getslost.mp4: 384x640 (no detections), 14.9ms\n",
            "video 1/1 (frame 27/809) /content/Test_Vid_yellow_getslost.mp4: 384x640 2 yellows, 10.3ms\n",
            "video 1/1 (frame 28/809) /content/Test_Vid_yellow_getslost.mp4: 384x640 (no detections), 10.0ms\n",
            "video 1/1 (frame 29/809) /content/Test_Vid_yellow_getslost.mp4: 384x640 3 yellows, 10.0ms\n",
            "video 1/1 (frame 30/809) /content/Test_Vid_yellow_getslost.mp4: 384x640 2 yellows, 9.9ms\n",
            "video 1/1 (frame 31/809) /content/Test_Vid_yellow_getslost.mp4: 384x640 1 yellow, 10.0ms\n",
            "video 1/1 (frame 32/809) /content/Test_Vid_yellow_getslost.mp4: 384x640 (no detections), 9.9ms\n",
            "video 1/1 (frame 33/809) /content/Test_Vid_yellow_getslost.mp4: 384x640 (no detections), 10.0ms\n",
            "video 1/1 (frame 34/809) /content/Test_Vid_yellow_getslost.mp4: 384x640 (no detections), 10.3ms\n",
            "video 1/1 (frame 35/809) /content/Test_Vid_yellow_getslost.mp4: 384x640 (no detections), 10.0ms\n",
            "video 1/1 (frame 36/809) /content/Test_Vid_yellow_getslost.mp4: 384x640 (no detections), 9.9ms\n",
            "video 1/1 (frame 37/809) /content/Test_Vid_yellow_getslost.mp4: 384x640 1 yellow, 10.2ms\n",
            "video 1/1 (frame 38/809) /content/Test_Vid_yellow_getslost.mp4: 384x640 (no detections), 11.1ms\n",
            "video 1/1 (frame 39/809) /content/Test_Vid_yellow_getslost.mp4: 384x640 (no detections), 10.5ms\n",
            "video 1/1 (frame 40/809) /content/Test_Vid_yellow_getslost.mp4: 384x640 1 yellow, 10.1ms\n",
            "video 1/1 (frame 41/809) /content/Test_Vid_yellow_getslost.mp4: 384x640 1 yellow, 10.1ms\n",
            "video 1/1 (frame 42/809) /content/Test_Vid_yellow_getslost.mp4: 384x640 1 yellow, 10.0ms\n",
            "video 1/1 (frame 43/809) /content/Test_Vid_yellow_getslost.mp4: 384x640 1 yellow, 12.1ms\n",
            "video 1/1 (frame 44/809) /content/Test_Vid_yellow_getslost.mp4: 384x640 2 yellows, 10.9ms\n",
            "video 1/1 (frame 45/809) /content/Test_Vid_yellow_getslost.mp4: 384x640 2 yellows, 11.4ms\n",
            "video 1/1 (frame 46/809) /content/Test_Vid_yellow_getslost.mp4: 384x640 1 yellow, 13.3ms\n",
            "video 1/1 (frame 47/809) /content/Test_Vid_yellow_getslost.mp4: 384x640 1 yellow, 10.4ms\n",
            "video 1/1 (frame 48/809) /content/Test_Vid_yellow_getslost.mp4: 384x640 (no detections), 10.0ms\n",
            "video 1/1 (frame 49/809) /content/Test_Vid_yellow_getslost.mp4: 384x640 1 yellow, 10.1ms\n",
            "video 1/1 (frame 50/809) /content/Test_Vid_yellow_getslost.mp4: 384x640 1 yellow, 10.7ms\n",
            "video 1/1 (frame 51/809) /content/Test_Vid_yellow_getslost.mp4: 384x640 2 yellows, 10.5ms\n",
            "video 1/1 (frame 52/809) /content/Test_Vid_yellow_getslost.mp4: 384x640 1 yellow, 19.9ms\n",
            "video 1/1 (frame 53/809) /content/Test_Vid_yellow_getslost.mp4: 384x640 1 yellow, 12.7ms\n",
            "video 1/1 (frame 54/809) /content/Test_Vid_yellow_getslost.mp4: 384x640 1 yellow, 15.7ms\n",
            "video 1/1 (frame 55/809) /content/Test_Vid_yellow_getslost.mp4: 384x640 1 yellow, 22.4ms\n",
            "video 1/1 (frame 56/809) /content/Test_Vid_yellow_getslost.mp4: 384x640 1 yellow, 11.4ms\n",
            "video 1/1 (frame 57/809) /content/Test_Vid_yellow_getslost.mp4: 384x640 1 yellow, 10.1ms\n",
            "video 1/1 (frame 58/809) /content/Test_Vid_yellow_getslost.mp4: 384x640 1 yellow, 19.2ms\n",
            "video 1/1 (frame 59/809) /content/Test_Vid_yellow_getslost.mp4: 384x640 1 yellow, 28.4ms\n",
            "video 1/1 (frame 60/809) /content/Test_Vid_yellow_getslost.mp4: 384x640 1 yellow, 8.9ms\n",
            "video 1/1 (frame 61/809) /content/Test_Vid_yellow_getslost.mp4: 384x640 1 yellow, 14.8ms\n",
            "video 1/1 (frame 62/809) /content/Test_Vid_yellow_getslost.mp4: 384x640 1 yellow, 9.0ms\n",
            "video 1/1 (frame 63/809) /content/Test_Vid_yellow_getslost.mp4: 384x640 1 yellow, 13.5ms\n",
            "video 1/1 (frame 64/809) /content/Test_Vid_yellow_getslost.mp4: 384x640 1 yellow, 13.1ms\n",
            "video 1/1 (frame 65/809) /content/Test_Vid_yellow_getslost.mp4: 384x640 1 yellow, 18.5ms\n",
            "video 1/1 (frame 66/809) /content/Test_Vid_yellow_getslost.mp4: 384x640 1 yellow, 10.5ms\n",
            "video 1/1 (frame 67/809) /content/Test_Vid_yellow_getslost.mp4: 384x640 2 yellows, 16.0ms\n",
            "video 1/1 (frame 68/809) /content/Test_Vid_yellow_getslost.mp4: 384x640 2 yellows, 9.6ms\n",
            "video 1/1 (frame 69/809) /content/Test_Vid_yellow_getslost.mp4: 384x640 1 yellow, 18.4ms\n",
            "video 1/1 (frame 70/809) /content/Test_Vid_yellow_getslost.mp4: 384x640 (no detections), 9.4ms\n",
            "video 1/1 (frame 71/809) /content/Test_Vid_yellow_getslost.mp4: 384x640 1 yellow, 13.6ms\n",
            "video 1/1 (frame 72/809) /content/Test_Vid_yellow_getslost.mp4: 384x640 (no detections), 18.6ms\n",
            "video 1/1 (frame 73/809) /content/Test_Vid_yellow_getslost.mp4: 384x640 1 yellow, 16.2ms\n",
            "video 1/1 (frame 74/809) /content/Test_Vid_yellow_getslost.mp4: 384x640 (no detections), 10.2ms\n",
            "video 1/1 (frame 75/809) /content/Test_Vid_yellow_getslost.mp4: 384x640 1 yellow, 23.6ms\n",
            "video 1/1 (frame 76/809) /content/Test_Vid_yellow_getslost.mp4: 384x640 1 yellow, 22.5ms\n",
            "video 1/1 (frame 77/809) /content/Test_Vid_yellow_getslost.mp4: 384x640 1 yellow, 13.5ms\n",
            "video 1/1 (frame 78/809) /content/Test_Vid_yellow_getslost.mp4: 384x640 1 yellow, 26.3ms\n",
            "video 1/1 (frame 79/809) /content/Test_Vid_yellow_getslost.mp4: 384x640 1 yellow, 23.4ms\n",
            "video 1/1 (frame 80/809) /content/Test_Vid_yellow_getslost.mp4: 384x640 1 yellow, 13.8ms\n",
            "video 1/1 (frame 81/809) /content/Test_Vid_yellow_getslost.mp4: 384x640 1 yellow, 22.1ms\n",
            "video 1/1 (frame 82/809) /content/Test_Vid_yellow_getslost.mp4: 384x640 1 yellow, 24.7ms\n",
            "video 1/1 (frame 83/809) /content/Test_Vid_yellow_getslost.mp4: 384x640 1 yellow, 10.7ms\n",
            "video 1/1 (frame 84/809) /content/Test_Vid_yellow_getslost.mp4: 384x640 1 yellow, 10.0ms\n",
            "video 1/1 (frame 85/809) /content/Test_Vid_yellow_getslost.mp4: 384x640 1 yellow, 10.4ms\n",
            "video 1/1 (frame 86/809) /content/Test_Vid_yellow_getslost.mp4: 384x640 2 yellows, 10.1ms\n",
            "video 1/1 (frame 87/809) /content/Test_Vid_yellow_getslost.mp4: 384x640 2 yellows, 10.0ms\n",
            "video 1/1 (frame 88/809) /content/Test_Vid_yellow_getslost.mp4: 384x640 2 yellows, 10.4ms\n",
            "video 1/1 (frame 89/809) /content/Test_Vid_yellow_getslost.mp4: 384x640 1 yellow, 10.1ms\n",
            "video 1/1 (frame 90/809) /content/Test_Vid_yellow_getslost.mp4: 384x640 1 yellow, 10.1ms\n",
            "video 1/1 (frame 91/809) /content/Test_Vid_yellow_getslost.mp4: 384x640 1 yellow, 10.3ms\n",
            "video 1/1 (frame 92/809) /content/Test_Vid_yellow_getslost.mp4: 384x640 (no detections), 10.3ms\n",
            "video 1/1 (frame 93/809) /content/Test_Vid_yellow_getslost.mp4: 384x640 (no detections), 10.1ms\n",
            "video 1/1 (frame 94/809) /content/Test_Vid_yellow_getslost.mp4: 384x640 1 yellow, 9.7ms\n",
            "video 1/1 (frame 95/809) /content/Test_Vid_yellow_getslost.mp4: 384x640 1 yellow, 10.7ms\n",
            "video 1/1 (frame 96/809) /content/Test_Vid_yellow_getslost.mp4: 384x640 1 yellow, 10.1ms\n",
            "video 1/1 (frame 97/809) /content/Test_Vid_yellow_getslost.mp4: 384x640 1 yellow, 10.1ms\n",
            "video 1/1 (frame 98/809) /content/Test_Vid_yellow_getslost.mp4: 384x640 (no detections), 10.6ms\n",
            "video 1/1 (frame 99/809) /content/Test_Vid_yellow_getslost.mp4: 384x640 (no detections), 11.1ms\n",
            "video 1/1 (frame 100/809) /content/Test_Vid_yellow_getslost.mp4: 384x640 (no detections), 9.8ms\n",
            "video 1/1 (frame 101/809) /content/Test_Vid_yellow_getslost.mp4: 384x640 (no detections), 10.9ms\n",
            "video 1/1 (frame 102/809) /content/Test_Vid_yellow_getslost.mp4: 384x640 (no detections), 9.9ms\n",
            "video 1/1 (frame 103/809) /content/Test_Vid_yellow_getslost.mp4: 384x640 (no detections), 12.5ms\n",
            "video 1/1 (frame 104/809) /content/Test_Vid_yellow_getslost.mp4: 384x640 (no detections), 10.1ms\n",
            "video 1/1 (frame 105/809) /content/Test_Vid_yellow_getslost.mp4: 384x640 (no detections), 10.0ms\n",
            "video 1/1 (frame 106/809) /content/Test_Vid_yellow_getslost.mp4: 384x640 (no detections), 10.1ms\n",
            "video 1/1 (frame 107/809) /content/Test_Vid_yellow_getslost.mp4: 384x640 (no detections), 10.4ms\n",
            "video 1/1 (frame 108/809) /content/Test_Vid_yellow_getslost.mp4: 384x640 (no detections), 10.1ms\n",
            "video 1/1 (frame 109/809) /content/Test_Vid_yellow_getslost.mp4: 384x640 (no detections), 10.3ms\n",
            "video 1/1 (frame 110/809) /content/Test_Vid_yellow_getslost.mp4: 384x640 (no detections), 10.4ms\n",
            "video 1/1 (frame 111/809) /content/Test_Vid_yellow_getslost.mp4: 384x640 1 yellow, 10.1ms\n",
            "video 1/1 (frame 112/809) /content/Test_Vid_yellow_getslost.mp4: 384x640 (no detections), 9.9ms\n",
            "video 1/1 (frame 113/809) /content/Test_Vid_yellow_getslost.mp4: 384x640 1 yellow, 10.0ms\n",
            "video 1/1 (frame 114/809) /content/Test_Vid_yellow_getslost.mp4: 384x640 (no detections), 10.6ms\n",
            "video 1/1 (frame 115/809) /content/Test_Vid_yellow_getslost.mp4: 384x640 (no detections), 10.2ms\n",
            "video 1/1 (frame 116/809) /content/Test_Vid_yellow_getslost.mp4: 384x640 (no detections), 10.9ms\n",
            "video 1/1 (frame 117/809) /content/Test_Vid_yellow_getslost.mp4: 384x640 (no detections), 9.8ms\n",
            "video 1/1 (frame 118/809) /content/Test_Vid_yellow_getslost.mp4: 384x640 (no detections), 11.6ms\n",
            "video 1/1 (frame 119/809) /content/Test_Vid_yellow_getslost.mp4: 384x640 (no detections), 11.3ms\n",
            "video 1/1 (frame 120/809) /content/Test_Vid_yellow_getslost.mp4: 384x640 (no detections), 10.6ms\n",
            "video 1/1 (frame 121/809) /content/Test_Vid_yellow_getslost.mp4: 384x640 (no detections), 10.0ms\n",
            "video 1/1 (frame 122/809) /content/Test_Vid_yellow_getslost.mp4: 384x640 (no detections), 10.7ms\n",
            "video 1/1 (frame 123/809) /content/Test_Vid_yellow_getslost.mp4: 384x640 (no detections), 14.5ms\n",
            "video 1/1 (frame 124/809) /content/Test_Vid_yellow_getslost.mp4: 384x640 (no detections), 10.8ms\n",
            "video 1/1 (frame 125/809) /content/Test_Vid_yellow_getslost.mp4: 384x640 (no detections), 10.0ms\n",
            "video 1/1 (frame 126/809) /content/Test_Vid_yellow_getslost.mp4: 384x640 1 yellow, 10.6ms\n",
            "video 1/1 (frame 127/809) /content/Test_Vid_yellow_getslost.mp4: 384x640 (no detections), 10.1ms\n",
            "video 1/1 (frame 128/809) /content/Test_Vid_yellow_getslost.mp4: 384x640 (no detections), 10.8ms\n",
            "video 1/1 (frame 129/809) /content/Test_Vid_yellow_getslost.mp4: 384x640 (no detections), 10.0ms\n",
            "video 1/1 (frame 130/809) /content/Test_Vid_yellow_getslost.mp4: 384x640 (no detections), 11.3ms\n",
            "video 1/1 (frame 131/809) /content/Test_Vid_yellow_getslost.mp4: 384x640 (no detections), 9.9ms\n",
            "video 1/1 (frame 132/809) /content/Test_Vid_yellow_getslost.mp4: 384x640 (no detections), 10.1ms\n",
            "video 1/1 (frame 133/809) /content/Test_Vid_yellow_getslost.mp4: 384x640 (no detections), 8.8ms\n",
            "video 1/1 (frame 134/809) /content/Test_Vid_yellow_getslost.mp4: 384x640 (no detections), 10.0ms\n",
            "video 1/1 (frame 135/809) /content/Test_Vid_yellow_getslost.mp4: 384x640 (no detections), 9.9ms\n",
            "video 1/1 (frame 136/809) /content/Test_Vid_yellow_getslost.mp4: 384x640 1 yellow, 10.2ms\n",
            "video 1/1 (frame 137/809) /content/Test_Vid_yellow_getslost.mp4: 384x640 (no detections), 9.9ms\n",
            "video 1/1 (frame 138/809) /content/Test_Vid_yellow_getslost.mp4: 384x640 (no detections), 12.0ms\n",
            "video 1/1 (frame 139/809) /content/Test_Vid_yellow_getslost.mp4: 384x640 1 yellow, 11.0ms\n",
            "video 1/1 (frame 140/809) /content/Test_Vid_yellow_getslost.mp4: 384x640 1 yellow, 10.9ms\n",
            "video 1/1 (frame 141/809) /content/Test_Vid_yellow_getslost.mp4: 384x640 (no detections), 10.1ms\n",
            "video 1/1 (frame 142/809) /content/Test_Vid_yellow_getslost.mp4: 384x640 (no detections), 10.6ms\n",
            "video 1/1 (frame 143/809) /content/Test_Vid_yellow_getslost.mp4: 384x640 1 yellow, 9.7ms\n",
            "video 1/1 (frame 144/809) /content/Test_Vid_yellow_getslost.mp4: 384x640 1 yellow, 9.8ms\n",
            "video 1/1 (frame 145/809) /content/Test_Vid_yellow_getslost.mp4: 384x640 1 yellow, 10.4ms\n",
            "video 1/1 (frame 146/809) /content/Test_Vid_yellow_getslost.mp4: 384x640 1 yellow, 10.0ms\n",
            "video 1/1 (frame 147/809) /content/Test_Vid_yellow_getslost.mp4: 384x640 (no detections), 10.4ms\n",
            "video 1/1 (frame 148/809) /content/Test_Vid_yellow_getslost.mp4: 384x640 1 yellow, 10.3ms\n",
            "video 1/1 (frame 149/809) /content/Test_Vid_yellow_getslost.mp4: 384x640 1 yellow, 10.5ms\n",
            "video 1/1 (frame 150/809) /content/Test_Vid_yellow_getslost.mp4: 384x640 1 yellow, 10.5ms\n",
            "video 1/1 (frame 151/809) /content/Test_Vid_yellow_getslost.mp4: 384x640 1 yellow, 10.5ms\n",
            "video 1/1 (frame 152/809) /content/Test_Vid_yellow_getslost.mp4: 384x640 (no detections), 10.2ms\n",
            "video 1/1 (frame 153/809) /content/Test_Vid_yellow_getslost.mp4: 384x640 (no detections), 10.2ms\n",
            "video 1/1 (frame 154/809) /content/Test_Vid_yellow_getslost.mp4: 384x640 (no detections), 10.0ms\n",
            "video 1/1 (frame 155/809) /content/Test_Vid_yellow_getslost.mp4: 384x640 (no detections), 9.9ms\n",
            "video 1/1 (frame 156/809) /content/Test_Vid_yellow_getslost.mp4: 384x640 (no detections), 10.7ms\n",
            "video 1/1 (frame 157/809) /content/Test_Vid_yellow_getslost.mp4: 384x640 (no detections), 10.0ms\n",
            "video 1/1 (frame 158/809) /content/Test_Vid_yellow_getslost.mp4: 384x640 (no detections), 18.5ms\n",
            "video 1/1 (frame 159/809) /content/Test_Vid_yellow_getslost.mp4: 384x640 (no detections), 10.1ms\n",
            "video 1/1 (frame 160/809) /content/Test_Vid_yellow_getslost.mp4: 384x640 (no detections), 10.0ms\n",
            "video 1/1 (frame 161/809) /content/Test_Vid_yellow_getslost.mp4: 384x640 (no detections), 26.7ms\n",
            "video 1/1 (frame 162/809) /content/Test_Vid_yellow_getslost.mp4: 384x640 (no detections), 9.9ms\n",
            "video 1/1 (frame 163/809) /content/Test_Vid_yellow_getslost.mp4: 384x640 1 yellow, 10.2ms\n",
            "video 1/1 (frame 164/809) /content/Test_Vid_yellow_getslost.mp4: 384x640 (no detections), 10.2ms\n",
            "video 1/1 (frame 165/809) /content/Test_Vid_yellow_getslost.mp4: 384x640 (no detections), 10.3ms\n",
            "video 1/1 (frame 166/809) /content/Test_Vid_yellow_getslost.mp4: 384x640 (no detections), 10.2ms\n",
            "video 1/1 (frame 167/809) /content/Test_Vid_yellow_getslost.mp4: 384x640 (no detections), 10.2ms\n",
            "video 1/1 (frame 168/809) /content/Test_Vid_yellow_getslost.mp4: 384x640 (no detections), 10.3ms\n",
            "video 1/1 (frame 169/809) /content/Test_Vid_yellow_getslost.mp4: 384x640 (no detections), 14.2ms\n",
            "video 1/1 (frame 170/809) /content/Test_Vid_yellow_getslost.mp4: 384x640 (no detections), 10.9ms\n",
            "video 1/1 (frame 171/809) /content/Test_Vid_yellow_getslost.mp4: 384x640 1 yellow, 9.4ms\n",
            "video 1/1 (frame 172/809) /content/Test_Vid_yellow_getslost.mp4: 384x640 (no detections), 10.8ms\n",
            "video 1/1 (frame 173/809) /content/Test_Vid_yellow_getslost.mp4: 384x640 (no detections), 10.2ms\n",
            "video 1/1 (frame 174/809) /content/Test_Vid_yellow_getslost.mp4: 384x640 (no detections), 10.4ms\n",
            "video 1/1 (frame 175/809) /content/Test_Vid_yellow_getslost.mp4: 384x640 (no detections), 9.0ms\n",
            "video 1/1 (frame 176/809) /content/Test_Vid_yellow_getslost.mp4: 384x640 (no detections), 10.6ms\n",
            "video 1/1 (frame 177/809) /content/Test_Vid_yellow_getslost.mp4: 384x640 1 yellow, 16.3ms\n",
            "video 1/1 (frame 178/809) /content/Test_Vid_yellow_getslost.mp4: 384x640 (no detections), 11.0ms\n",
            "video 1/1 (frame 179/809) /content/Test_Vid_yellow_getslost.mp4: 384x640 (no detections), 15.4ms\n",
            "video 1/1 (frame 180/809) /content/Test_Vid_yellow_getslost.mp4: 384x640 (no detections), 10.4ms\n",
            "video 1/1 (frame 181/809) /content/Test_Vid_yellow_getslost.mp4: 384x640 (no detections), 12.8ms\n",
            "video 1/1 (frame 182/809) /content/Test_Vid_yellow_getslost.mp4: 384x640 1 yellow, 11.4ms\n",
            "video 1/1 (frame 183/809) /content/Test_Vid_yellow_getslost.mp4: 384x640 (no detections), 10.4ms\n",
            "video 1/1 (frame 184/809) /content/Test_Vid_yellow_getslost.mp4: 384x640 (no detections), 10.9ms\n",
            "video 1/1 (frame 185/809) /content/Test_Vid_yellow_getslost.mp4: 384x640 (no detections), 10.3ms\n",
            "video 1/1 (frame 186/809) /content/Test_Vid_yellow_getslost.mp4: 384x640 (no detections), 10.3ms\n",
            "video 1/1 (frame 187/809) /content/Test_Vid_yellow_getslost.mp4: 384x640 (no detections), 10.6ms\n",
            "video 1/1 (frame 188/809) /content/Test_Vid_yellow_getslost.mp4: 384x640 (no detections), 11.9ms\n",
            "video 1/1 (frame 189/809) /content/Test_Vid_yellow_getslost.mp4: 384x640 (no detections), 11.1ms\n",
            "video 1/1 (frame 190/809) /content/Test_Vid_yellow_getslost.mp4: 384x640 (no detections), 10.2ms\n",
            "video 1/1 (frame 191/809) /content/Test_Vid_yellow_getslost.mp4: 384x640 (no detections), 11.5ms\n",
            "video 1/1 (frame 192/809) /content/Test_Vid_yellow_getslost.mp4: 384x640 (no detections), 10.2ms\n",
            "video 1/1 (frame 193/809) /content/Test_Vid_yellow_getslost.mp4: 384x640 (no detections), 11.1ms\n",
            "video 1/1 (frame 194/809) /content/Test_Vid_yellow_getslost.mp4: 384x640 (no detections), 10.1ms\n",
            "video 1/1 (frame 195/809) /content/Test_Vid_yellow_getslost.mp4: 384x640 (no detections), 10.1ms\n",
            "video 1/1 (frame 196/809) /content/Test_Vid_yellow_getslost.mp4: 384x640 (no detections), 10.7ms\n",
            "video 1/1 (frame 197/809) /content/Test_Vid_yellow_getslost.mp4: 384x640 (no detections), 17.1ms\n",
            "video 1/1 (frame 198/809) /content/Test_Vid_yellow_getslost.mp4: 384x640 (no detections), 10.6ms\n",
            "video 1/1 (frame 199/809) /content/Test_Vid_yellow_getslost.mp4: 384x640 (no detections), 12.9ms\n",
            "video 1/1 (frame 200/809) /content/Test_Vid_yellow_getslost.mp4: 384x640 (no detections), 10.7ms\n",
            "video 1/1 (frame 201/809) /content/Test_Vid_yellow_getslost.mp4: 384x640 (no detections), 10.4ms\n",
            "video 1/1 (frame 202/809) /content/Test_Vid_yellow_getslost.mp4: 384x640 (no detections), 10.6ms\n",
            "video 1/1 (frame 203/809) /content/Test_Vid_yellow_getslost.mp4: 384x640 (no detections), 10.3ms\n",
            "video 1/1 (frame 204/809) /content/Test_Vid_yellow_getslost.mp4: 384x640 (no detections), 10.1ms\n",
            "video 1/1 (frame 205/809) /content/Test_Vid_yellow_getslost.mp4: 384x640 (no detections), 9.8ms\n",
            "video 1/1 (frame 206/809) /content/Test_Vid_yellow_getslost.mp4: 384x640 (no detections), 10.6ms\n",
            "video 1/1 (frame 207/809) /content/Test_Vid_yellow_getslost.mp4: 384x640 (no detections), 10.3ms\n",
            "video 1/1 (frame 208/809) /content/Test_Vid_yellow_getslost.mp4: 384x640 (no detections), 19.0ms\n",
            "video 1/1 (frame 209/809) /content/Test_Vid_yellow_getslost.mp4: 384x640 (no detections), 9.9ms\n",
            "video 1/1 (frame 210/809) /content/Test_Vid_yellow_getslost.mp4: 384x640 (no detections), 9.9ms\n",
            "video 1/1 (frame 211/809) /content/Test_Vid_yellow_getslost.mp4: 384x640 (no detections), 9.8ms\n",
            "video 1/1 (frame 212/809) /content/Test_Vid_yellow_getslost.mp4: 384x640 (no detections), 10.5ms\n",
            "video 1/1 (frame 213/809) /content/Test_Vid_yellow_getslost.mp4: 384x640 (no detections), 9.9ms\n",
            "video 1/1 (frame 214/809) /content/Test_Vid_yellow_getslost.mp4: 384x640 (no detections), 10.3ms\n",
            "video 1/1 (frame 215/809) /content/Test_Vid_yellow_getslost.mp4: 384x640 (no detections), 10.0ms\n",
            "video 1/1 (frame 216/809) /content/Test_Vid_yellow_getslost.mp4: 384x640 (no detections), 10.2ms\n",
            "video 1/1 (frame 217/809) /content/Test_Vid_yellow_getslost.mp4: 384x640 1 yellow, 11.3ms\n",
            "video 1/1 (frame 218/809) /content/Test_Vid_yellow_getslost.mp4: 384x640 (no detections), 11.2ms\n",
            "video 1/1 (frame 219/809) /content/Test_Vid_yellow_getslost.mp4: 384x640 (no detections), 9.8ms\n",
            "video 1/1 (frame 220/809) /content/Test_Vid_yellow_getslost.mp4: 384x640 (no detections), 9.6ms\n",
            "video 1/1 (frame 221/809) /content/Test_Vid_yellow_getslost.mp4: 384x640 (no detections), 10.1ms\n",
            "video 1/1 (frame 222/809) /content/Test_Vid_yellow_getslost.mp4: 384x640 (no detections), 10.0ms\n",
            "video 1/1 (frame 223/809) /content/Test_Vid_yellow_getslost.mp4: 384x640 (no detections), 11.2ms\n",
            "video 1/1 (frame 224/809) /content/Test_Vid_yellow_getslost.mp4: 384x640 (no detections), 11.0ms\n",
            "video 1/1 (frame 225/809) /content/Test_Vid_yellow_getslost.mp4: 384x640 (no detections), 10.5ms\n",
            "video 1/1 (frame 226/809) /content/Test_Vid_yellow_getslost.mp4: 384x640 (no detections), 9.9ms\n",
            "video 1/1 (frame 227/809) /content/Test_Vid_yellow_getslost.mp4: 384x640 (no detections), 12.7ms\n",
            "video 1/1 (frame 228/809) /content/Test_Vid_yellow_getslost.mp4: 384x640 (no detections), 10.0ms\n",
            "video 1/1 (frame 229/809) /content/Test_Vid_yellow_getslost.mp4: 384x640 (no detections), 10.1ms\n",
            "video 1/1 (frame 230/809) /content/Test_Vid_yellow_getslost.mp4: 384x640 (no detections), 10.4ms\n",
            "video 1/1 (frame 231/809) /content/Test_Vid_yellow_getslost.mp4: 384x640 (no detections), 10.3ms\n",
            "video 1/1 (frame 232/809) /content/Test_Vid_yellow_getslost.mp4: 384x640 (no detections), 10.1ms\n",
            "video 1/1 (frame 233/809) /content/Test_Vid_yellow_getslost.mp4: 384x640 (no detections), 10.4ms\n",
            "video 1/1 (frame 234/809) /content/Test_Vid_yellow_getslost.mp4: 384x640 (no detections), 10.2ms\n",
            "video 1/1 (frame 235/809) /content/Test_Vid_yellow_getslost.mp4: 384x640 (no detections), 10.9ms\n",
            "video 1/1 (frame 236/809) /content/Test_Vid_yellow_getslost.mp4: 384x640 (no detections), 10.0ms\n",
            "video 1/1 (frame 237/809) /content/Test_Vid_yellow_getslost.mp4: 384x640 1 yellow, 8.8ms\n",
            "video 1/1 (frame 238/809) /content/Test_Vid_yellow_getslost.mp4: 384x640 (no detections), 12.0ms\n",
            "video 1/1 (frame 239/809) /content/Test_Vid_yellow_getslost.mp4: 384x640 (no detections), 9.9ms\n",
            "video 1/1 (frame 240/809) /content/Test_Vid_yellow_getslost.mp4: 384x640 (no detections), 10.4ms\n",
            "video 1/1 (frame 241/809) /content/Test_Vid_yellow_getslost.mp4: 384x640 (no detections), 12.5ms\n",
            "video 1/1 (frame 242/809) /content/Test_Vid_yellow_getslost.mp4: 384x640 (no detections), 10.5ms\n",
            "video 1/1 (frame 243/809) /content/Test_Vid_yellow_getslost.mp4: 384x640 (no detections), 10.1ms\n",
            "video 1/1 (frame 244/809) /content/Test_Vid_yellow_getslost.mp4: 384x640 (no detections), 10.1ms\n",
            "video 1/1 (frame 245/809) /content/Test_Vid_yellow_getslost.mp4: 384x640 (no detections), 23.8ms\n",
            "video 1/1 (frame 246/809) /content/Test_Vid_yellow_getslost.mp4: 384x640 (no detections), 10.4ms\n",
            "video 1/1 (frame 247/809) /content/Test_Vid_yellow_getslost.mp4: 384x640 1 yellow, 10.2ms\n",
            "video 1/1 (frame 248/809) /content/Test_Vid_yellow_getslost.mp4: 384x640 (no detections), 10.1ms\n",
            "video 1/1 (frame 249/809) /content/Test_Vid_yellow_getslost.mp4: 384x640 (no detections), 10.5ms\n",
            "video 1/1 (frame 250/809) /content/Test_Vid_yellow_getslost.mp4: 384x640 (no detections), 11.0ms\n",
            "video 1/1 (frame 251/809) /content/Test_Vid_yellow_getslost.mp4: 384x640 (no detections), 9.8ms\n",
            "video 1/1 (frame 252/809) /content/Test_Vid_yellow_getslost.mp4: 384x640 (no detections), 9.7ms\n",
            "video 1/1 (frame 253/809) /content/Test_Vid_yellow_getslost.mp4: 384x640 (no detections), 10.6ms\n",
            "video 1/1 (frame 254/809) /content/Test_Vid_yellow_getslost.mp4: 384x640 (no detections), 10.3ms\n",
            "video 1/1 (frame 255/809) /content/Test_Vid_yellow_getslost.mp4: 384x640 (no detections), 10.1ms\n",
            "video 1/1 (frame 256/809) /content/Test_Vid_yellow_getslost.mp4: 384x640 (no detections), 10.1ms\n",
            "video 1/1 (frame 257/809) /content/Test_Vid_yellow_getslost.mp4: 384x640 (no detections), 11.7ms\n",
            "video 1/1 (frame 258/809) /content/Test_Vid_yellow_getslost.mp4: 384x640 (no detections), 9.8ms\n",
            "video 1/1 (frame 259/809) /content/Test_Vid_yellow_getslost.mp4: 384x640 (no detections), 10.0ms\n",
            "video 1/1 (frame 260/809) /content/Test_Vid_yellow_getslost.mp4: 384x640 (no detections), 10.1ms\n",
            "video 1/1 (frame 261/809) /content/Test_Vid_yellow_getslost.mp4: 384x640 (no detections), 10.2ms\n",
            "video 1/1 (frame 262/809) /content/Test_Vid_yellow_getslost.mp4: 384x640 1 yellow, 10.5ms\n",
            "video 1/1 (frame 263/809) /content/Test_Vid_yellow_getslost.mp4: 384x640 (no detections), 10.0ms\n",
            "video 1/1 (frame 264/809) /content/Test_Vid_yellow_getslost.mp4: 384x640 (no detections), 10.4ms\n",
            "video 1/1 (frame 265/809) /content/Test_Vid_yellow_getslost.mp4: 384x640 1 yellow, 9.8ms\n",
            "video 1/1 (frame 266/809) /content/Test_Vid_yellow_getslost.mp4: 384x640 1 yellow, 9.9ms\n",
            "video 1/1 (frame 267/809) /content/Test_Vid_yellow_getslost.mp4: 384x640 1 yellow, 10.0ms\n",
            "video 1/1 (frame 268/809) /content/Test_Vid_yellow_getslost.mp4: 384x640 (no detections), 10.1ms\n",
            "video 1/1 (frame 269/809) /content/Test_Vid_yellow_getslost.mp4: 384x640 (no detections), 10.6ms\n",
            "video 1/1 (frame 270/809) /content/Test_Vid_yellow_getslost.mp4: 384x640 (no detections), 10.4ms\n",
            "video 1/1 (frame 271/809) /content/Test_Vid_yellow_getslost.mp4: 384x640 (no detections), 10.2ms\n",
            "video 1/1 (frame 272/809) /content/Test_Vid_yellow_getslost.mp4: 384x640 (no detections), 10.7ms\n",
            "video 1/1 (frame 273/809) /content/Test_Vid_yellow_getslost.mp4: 384x640 (no detections), 10.8ms\n",
            "video 1/1 (frame 274/809) /content/Test_Vid_yellow_getslost.mp4: 384x640 (no detections), 10.7ms\n",
            "video 1/1 (frame 275/809) /content/Test_Vid_yellow_getslost.mp4: 384x640 (no detections), 11.1ms\n",
            "video 1/1 (frame 276/809) /content/Test_Vid_yellow_getslost.mp4: 384x640 (no detections), 11.4ms\n",
            "video 1/1 (frame 277/809) /content/Test_Vid_yellow_getslost.mp4: 384x640 (no detections), 12.2ms\n",
            "video 1/1 (frame 278/809) /content/Test_Vid_yellow_getslost.mp4: 384x640 (no detections), 13.4ms\n",
            "video 1/1 (frame 279/809) /content/Test_Vid_yellow_getslost.mp4: 384x640 (no detections), 19.4ms\n",
            "video 1/1 (frame 280/809) /content/Test_Vid_yellow_getslost.mp4: 384x640 (no detections), 9.6ms\n",
            "video 1/1 (frame 281/809) /content/Test_Vid_yellow_getslost.mp4: 384x640 (no detections), 17.4ms\n",
            "video 1/1 (frame 282/809) /content/Test_Vid_yellow_getslost.mp4: 384x640 (no detections), 14.1ms\n",
            "video 1/1 (frame 283/809) /content/Test_Vid_yellow_getslost.mp4: 384x640 (no detections), 9.9ms\n",
            "video 1/1 (frame 284/809) /content/Test_Vid_yellow_getslost.mp4: 384x640 (no detections), 20.7ms\n",
            "video 1/1 (frame 285/809) /content/Test_Vid_yellow_getslost.mp4: 384x640 (no detections), 9.4ms\n",
            "video 1/1 (frame 286/809) /content/Test_Vid_yellow_getslost.mp4: 384x640 (no detections), 15.7ms\n",
            "video 1/1 (frame 287/809) /content/Test_Vid_yellow_getslost.mp4: 384x640 (no detections), 9.5ms\n",
            "video 1/1 (frame 288/809) /content/Test_Vid_yellow_getslost.mp4: 384x640 (no detections), 10.5ms\n",
            "video 1/1 (frame 289/809) /content/Test_Vid_yellow_getslost.mp4: 384x640 (no detections), 24.3ms\n",
            "video 1/1 (frame 290/809) /content/Test_Vid_yellow_getslost.mp4: 384x640 (no detections), 13.8ms\n",
            "video 1/1 (frame 291/809) /content/Test_Vid_yellow_getslost.mp4: 384x640 (no detections), 16.7ms\n",
            "video 1/1 (frame 292/809) /content/Test_Vid_yellow_getslost.mp4: 384x640 (no detections), 19.2ms\n",
            "video 1/1 (frame 293/809) /content/Test_Vid_yellow_getslost.mp4: 384x640 (no detections), 10.2ms\n",
            "video 1/1 (frame 294/809) /content/Test_Vid_yellow_getslost.mp4: 384x640 1 yellow, 17.7ms\n",
            "video 1/1 (frame 295/809) /content/Test_Vid_yellow_getslost.mp4: 384x640 (no detections), 15.6ms\n",
            "video 1/1 (frame 296/809) /content/Test_Vid_yellow_getslost.mp4: 384x640 (no detections), 27.2ms\n",
            "video 1/1 (frame 297/809) /content/Test_Vid_yellow_getslost.mp4: 384x640 (no detections), 15.6ms\n",
            "video 1/1 (frame 298/809) /content/Test_Vid_yellow_getslost.mp4: 384x640 (no detections), 10.9ms\n",
            "video 1/1 (frame 299/809) /content/Test_Vid_yellow_getslost.mp4: 384x640 (no detections), 9.7ms\n",
            "video 1/1 (frame 300/809) /content/Test_Vid_yellow_getslost.mp4: 384x640 (no detections), 15.9ms\n",
            "video 1/1 (frame 301/809) /content/Test_Vid_yellow_getslost.mp4: 384x640 (no detections), 8.9ms\n",
            "video 1/1 (frame 302/809) /content/Test_Vid_yellow_getslost.mp4: 384x640 (no detections), 14.0ms\n",
            "video 1/1 (frame 303/809) /content/Test_Vid_yellow_getslost.mp4: 384x640 (no detections), 26.8ms\n",
            "video 1/1 (frame 304/809) /content/Test_Vid_yellow_getslost.mp4: 384x640 (no detections), 10.4ms\n",
            "video 1/1 (frame 305/809) /content/Test_Vid_yellow_getslost.mp4: 384x640 (no detections), 14.0ms\n",
            "video 1/1 (frame 306/809) /content/Test_Vid_yellow_getslost.mp4: 384x640 (no detections), 18.3ms\n",
            "video 1/1 (frame 307/809) /content/Test_Vid_yellow_getslost.mp4: 384x640 (no detections), 12.7ms\n",
            "video 1/1 (frame 308/809) /content/Test_Vid_yellow_getslost.mp4: 384x640 (no detections), 9.9ms\n",
            "video 1/1 (frame 309/809) /content/Test_Vid_yellow_getslost.mp4: 384x640 (no detections), 10.0ms\n",
            "video 1/1 (frame 310/809) /content/Test_Vid_yellow_getslost.mp4: 384x640 (no detections), 10.4ms\n",
            "video 1/1 (frame 311/809) /content/Test_Vid_yellow_getslost.mp4: 384x640 (no detections), 9.1ms\n",
            "video 1/1 (frame 312/809) /content/Test_Vid_yellow_getslost.mp4: 384x640 (no detections), 9.9ms\n",
            "video 1/1 (frame 313/809) /content/Test_Vid_yellow_getslost.mp4: 384x640 (no detections), 10.1ms\n",
            "video 1/1 (frame 314/809) /content/Test_Vid_yellow_getslost.mp4: 384x640 (no detections), 10.0ms\n",
            "video 1/1 (frame 315/809) /content/Test_Vid_yellow_getslost.mp4: 384x640 (no detections), 10.9ms\n",
            "video 1/1 (frame 316/809) /content/Test_Vid_yellow_getslost.mp4: 384x640 (no detections), 10.0ms\n",
            "video 1/1 (frame 317/809) /content/Test_Vid_yellow_getslost.mp4: 384x640 (no detections), 10.4ms\n",
            "video 1/1 (frame 318/809) /content/Test_Vid_yellow_getslost.mp4: 384x640 1 yellow, 15.6ms\n",
            "video 1/1 (frame 319/809) /content/Test_Vid_yellow_getslost.mp4: 384x640 1 yellow, 10.0ms\n",
            "video 1/1 (frame 320/809) /content/Test_Vid_yellow_getslost.mp4: 384x640 1 yellow, 10.4ms\n",
            "video 1/1 (frame 321/809) /content/Test_Vid_yellow_getslost.mp4: 384x640 1 yellow, 13.1ms\n",
            "video 1/1 (frame 322/809) /content/Test_Vid_yellow_getslost.mp4: 384x640 1 yellow, 10.7ms\n",
            "video 1/1 (frame 323/809) /content/Test_Vid_yellow_getslost.mp4: 384x640 2 yellows, 10.1ms\n",
            "video 1/1 (frame 324/809) /content/Test_Vid_yellow_getslost.mp4: 384x640 1 yellow, 9.4ms\n",
            "video 1/1 (frame 325/809) /content/Test_Vid_yellow_getslost.mp4: 384x640 1 yellow, 10.2ms\n",
            "video 1/1 (frame 326/809) /content/Test_Vid_yellow_getslost.mp4: 384x640 1 yellow, 10.0ms\n",
            "video 1/1 (frame 327/809) /content/Test_Vid_yellow_getslost.mp4: 384x640 2 yellows, 10.0ms\n",
            "video 1/1 (frame 328/809) /content/Test_Vid_yellow_getslost.mp4: 384x640 1 yellow, 10.1ms\n",
            "video 1/1 (frame 329/809) /content/Test_Vid_yellow_getslost.mp4: 384x640 1 yellow, 11.6ms\n",
            "video 1/1 (frame 330/809) /content/Test_Vid_yellow_getslost.mp4: 384x640 2 yellows, 10.3ms\n",
            "video 1/1 (frame 331/809) /content/Test_Vid_yellow_getslost.mp4: 384x640 2 yellows, 10.3ms\n",
            "video 1/1 (frame 332/809) /content/Test_Vid_yellow_getslost.mp4: 384x640 1 yellow, 10.2ms\n",
            "video 1/1 (frame 333/809) /content/Test_Vid_yellow_getslost.mp4: 384x640 3 yellows, 10.6ms\n",
            "video 1/1 (frame 334/809) /content/Test_Vid_yellow_getslost.mp4: 384x640 1 yellow, 9.8ms\n",
            "video 1/1 (frame 335/809) /content/Test_Vid_yellow_getslost.mp4: 384x640 2 yellows, 9.8ms\n",
            "video 1/1 (frame 336/809) /content/Test_Vid_yellow_getslost.mp4: 384x640 2 yellows, 11.2ms\n",
            "video 1/1 (frame 337/809) /content/Test_Vid_yellow_getslost.mp4: 384x640 2 yellows, 10.0ms\n",
            "video 1/1 (frame 338/809) /content/Test_Vid_yellow_getslost.mp4: 384x640 1 yellow, 9.3ms\n",
            "video 1/1 (frame 339/809) /content/Test_Vid_yellow_getslost.mp4: 384x640 2 yellows, 11.0ms\n",
            "video 1/1 (frame 340/809) /content/Test_Vid_yellow_getslost.mp4: 384x640 1 yellow, 10.1ms\n",
            "video 1/1 (frame 341/809) /content/Test_Vid_yellow_getslost.mp4: 384x640 1 yellow, 10.0ms\n",
            "video 1/1 (frame 342/809) /content/Test_Vid_yellow_getslost.mp4: 384x640 1 yellow, 9.9ms\n",
            "video 1/1 (frame 343/809) /content/Test_Vid_yellow_getslost.mp4: 384x640 1 yellow, 10.1ms\n",
            "video 1/1 (frame 344/809) /content/Test_Vid_yellow_getslost.mp4: 384x640 1 yellow, 10.6ms\n",
            "video 1/1 (frame 345/809) /content/Test_Vid_yellow_getslost.mp4: 384x640 (no detections), 11.0ms\n",
            "video 1/1 (frame 346/809) /content/Test_Vid_yellow_getslost.mp4: 384x640 (no detections), 10.3ms\n",
            "video 1/1 (frame 347/809) /content/Test_Vid_yellow_getslost.mp4: 384x640 (no detections), 10.2ms\n",
            "video 1/1 (frame 348/809) /content/Test_Vid_yellow_getslost.mp4: 384x640 (no detections), 11.3ms\n",
            "video 1/1 (frame 349/809) /content/Test_Vid_yellow_getslost.mp4: 384x640 (no detections), 10.2ms\n",
            "video 1/1 (frame 350/809) /content/Test_Vid_yellow_getslost.mp4: 384x640 (no detections), 10.8ms\n",
            "video 1/1 (frame 351/809) /content/Test_Vid_yellow_getslost.mp4: 384x640 (no detections), 10.4ms\n",
            "video 1/1 (frame 352/809) /content/Test_Vid_yellow_getslost.mp4: 384x640 (no detections), 10.8ms\n",
            "video 1/1 (frame 353/809) /content/Test_Vid_yellow_getslost.mp4: 384x640 (no detections), 10.2ms\n",
            "video 1/1 (frame 354/809) /content/Test_Vid_yellow_getslost.mp4: 384x640 (no detections), 13.5ms\n",
            "video 1/1 (frame 355/809) /content/Test_Vid_yellow_getslost.mp4: 384x640 (no detections), 11.6ms\n",
            "video 1/1 (frame 356/809) /content/Test_Vid_yellow_getslost.mp4: 384x640 (no detections), 10.3ms\n",
            "video 1/1 (frame 357/809) /content/Test_Vid_yellow_getslost.mp4: 384x640 (no detections), 10.0ms\n",
            "video 1/1 (frame 358/809) /content/Test_Vid_yellow_getslost.mp4: 384x640 (no detections), 10.2ms\n",
            "video 1/1 (frame 359/809) /content/Test_Vid_yellow_getslost.mp4: 384x640 (no detections), 15.3ms\n",
            "video 1/1 (frame 360/809) /content/Test_Vid_yellow_getslost.mp4: 384x640 (no detections), 10.5ms\n",
            "video 1/1 (frame 361/809) /content/Test_Vid_yellow_getslost.mp4: 384x640 (no detections), 9.8ms\n",
            "video 1/1 (frame 362/809) /content/Test_Vid_yellow_getslost.mp4: 384x640 (no detections), 10.5ms\n",
            "video 1/1 (frame 363/809) /content/Test_Vid_yellow_getslost.mp4: 384x640 (no detections), 9.9ms\n",
            "video 1/1 (frame 364/809) /content/Test_Vid_yellow_getslost.mp4: 384x640 (no detections), 10.4ms\n",
            "video 1/1 (frame 365/809) /content/Test_Vid_yellow_getslost.mp4: 384x640 (no detections), 9.6ms\n",
            "video 1/1 (frame 366/809) /content/Test_Vid_yellow_getslost.mp4: 384x640 (no detections), 10.2ms\n",
            "video 1/1 (frame 367/809) /content/Test_Vid_yellow_getslost.mp4: 384x640 (no detections), 10.1ms\n",
            "video 1/1 (frame 368/809) /content/Test_Vid_yellow_getslost.mp4: 384x640 (no detections), 10.5ms\n",
            "video 1/1 (frame 369/809) /content/Test_Vid_yellow_getslost.mp4: 384x640 (no detections), 10.0ms\n",
            "video 1/1 (frame 370/809) /content/Test_Vid_yellow_getslost.mp4: 384x640 (no detections), 10.6ms\n",
            "video 1/1 (frame 371/809) /content/Test_Vid_yellow_getslost.mp4: 384x640 (no detections), 9.9ms\n",
            "video 1/1 (frame 372/809) /content/Test_Vid_yellow_getslost.mp4: 384x640 2 yellows, 10.5ms\n",
            "video 1/1 (frame 373/809) /content/Test_Vid_yellow_getslost.mp4: 384x640 2 yellows, 10.2ms\n",
            "video 1/1 (frame 374/809) /content/Test_Vid_yellow_getslost.mp4: 384x640 1 yellow, 14.3ms\n",
            "video 1/1 (frame 375/809) /content/Test_Vid_yellow_getslost.mp4: 384x640 1 yellow, 10.7ms\n",
            "video 1/1 (frame 376/809) /content/Test_Vid_yellow_getslost.mp4: 384x640 1 yellow, 10.1ms\n",
            "video 1/1 (frame 377/809) /content/Test_Vid_yellow_getslost.mp4: 384x640 1 yellow, 10.5ms\n",
            "video 1/1 (frame 378/809) /content/Test_Vid_yellow_getslost.mp4: 384x640 1 yellow, 11.3ms\n",
            "video 1/1 (frame 379/809) /content/Test_Vid_yellow_getslost.mp4: 384x640 1 yellow, 10.2ms\n",
            "video 1/1 (frame 380/809) /content/Test_Vid_yellow_getslost.mp4: 384x640 1 yellow, 10.4ms\n",
            "video 1/1 (frame 381/809) /content/Test_Vid_yellow_getslost.mp4: 384x640 1 yellow, 12.1ms\n",
            "video 1/1 (frame 382/809) /content/Test_Vid_yellow_getslost.mp4: 384x640 (no detections), 10.4ms\n",
            "video 1/1 (frame 383/809) /content/Test_Vid_yellow_getslost.mp4: 384x640 2 yellows, 10.0ms\n",
            "video 1/1 (frame 384/809) /content/Test_Vid_yellow_getslost.mp4: 384x640 1 yellow, 11.4ms\n",
            "video 1/1 (frame 385/809) /content/Test_Vid_yellow_getslost.mp4: 384x640 1 yellow, 10.2ms\n",
            "video 1/1 (frame 386/809) /content/Test_Vid_yellow_getslost.mp4: 384x640 1 yellow, 10.7ms\n",
            "video 1/1 (frame 387/809) /content/Test_Vid_yellow_getslost.mp4: 384x640 1 yellow, 10.2ms\n",
            "video 1/1 (frame 388/809) /content/Test_Vid_yellow_getslost.mp4: 384x640 2 yellows, 10.2ms\n",
            "video 1/1 (frame 389/809) /content/Test_Vid_yellow_getslost.mp4: 384x640 2 yellows, 10.4ms\n",
            "video 1/1 (frame 390/809) /content/Test_Vid_yellow_getslost.mp4: 384x640 2 yellows, 10.6ms\n",
            "video 1/1 (frame 391/809) /content/Test_Vid_yellow_getslost.mp4: 384x640 1 yellow, 10.3ms\n",
            "video 1/1 (frame 392/809) /content/Test_Vid_yellow_getslost.mp4: 384x640 1 yellow, 10.9ms\n",
            "video 1/1 (frame 393/809) /content/Test_Vid_yellow_getslost.mp4: 384x640 2 yellows, 12.5ms\n",
            "video 1/1 (frame 394/809) /content/Test_Vid_yellow_getslost.mp4: 384x640 2 yellows, 10.4ms\n",
            "video 1/1 (frame 395/809) /content/Test_Vid_yellow_getslost.mp4: 384x640 2 yellows, 10.3ms\n",
            "video 1/1 (frame 396/809) /content/Test_Vid_yellow_getslost.mp4: 384x640 1 yellow, 10.1ms\n",
            "video 1/1 (frame 397/809) /content/Test_Vid_yellow_getslost.mp4: 384x640 1 yellow, 10.3ms\n",
            "video 1/1 (frame 398/809) /content/Test_Vid_yellow_getslost.mp4: 384x640 1 yellow, 13.9ms\n",
            "video 1/1 (frame 399/809) /content/Test_Vid_yellow_getslost.mp4: 384x640 (no detections), 10.0ms\n",
            "video 1/1 (frame 400/809) /content/Test_Vid_yellow_getslost.mp4: 384x640 (no detections), 9.9ms\n",
            "video 1/1 (frame 401/809) /content/Test_Vid_yellow_getslost.mp4: 384x640 (no detections), 10.2ms\n",
            "video 1/1 (frame 402/809) /content/Test_Vid_yellow_getslost.mp4: 384x640 (no detections), 9.0ms\n",
            "video 1/1 (frame 403/809) /content/Test_Vid_yellow_getslost.mp4: 384x640 1 yellow, 9.7ms\n",
            "video 1/1 (frame 404/809) /content/Test_Vid_yellow_getslost.mp4: 384x640 (no detections), 10.1ms\n",
            "video 1/1 (frame 405/809) /content/Test_Vid_yellow_getslost.mp4: 384x640 (no detections), 10.4ms\n",
            "video 1/1 (frame 406/809) /content/Test_Vid_yellow_getslost.mp4: 384x640 1 yellow, 10.1ms\n",
            "video 1/1 (frame 407/809) /content/Test_Vid_yellow_getslost.mp4: 384x640 (no detections), 11.5ms\n",
            "video 1/1 (frame 408/809) /content/Test_Vid_yellow_getslost.mp4: 384x640 2 yellows, 10.6ms\n",
            "video 1/1 (frame 409/809) /content/Test_Vid_yellow_getslost.mp4: 384x640 2 yellows, 10.2ms\n",
            "video 1/1 (frame 410/809) /content/Test_Vid_yellow_getslost.mp4: 384x640 2 yellows, 10.0ms\n",
            "video 1/1 (frame 411/809) /content/Test_Vid_yellow_getslost.mp4: 384x640 3 yellows, 12.8ms\n",
            "video 1/1 (frame 412/809) /content/Test_Vid_yellow_getslost.mp4: 384x640 3 yellows, 9.9ms\n",
            "video 1/1 (frame 413/809) /content/Test_Vid_yellow_getslost.mp4: 384x640 3 yellows, 12.7ms\n",
            "video 1/1 (frame 414/809) /content/Test_Vid_yellow_getslost.mp4: 384x640 2 yellows, 16.3ms\n",
            "video 1/1 (frame 415/809) /content/Test_Vid_yellow_getslost.mp4: 384x640 1 yellow, 10.1ms\n",
            "video 1/1 (frame 416/809) /content/Test_Vid_yellow_getslost.mp4: 384x640 3 yellows, 10.3ms\n",
            "video 1/1 (frame 417/809) /content/Test_Vid_yellow_getslost.mp4: 384x640 3 yellows, 10.0ms\n",
            "video 1/1 (frame 418/809) /content/Test_Vid_yellow_getslost.mp4: 384x640 3 yellows, 13.5ms\n",
            "video 1/1 (frame 419/809) /content/Test_Vid_yellow_getslost.mp4: 384x640 2 yellows, 10.8ms\n",
            "video 1/1 (frame 420/809) /content/Test_Vid_yellow_getslost.mp4: 384x640 2 yellows, 10.1ms\n",
            "video 1/1 (frame 421/809) /content/Test_Vid_yellow_getslost.mp4: 384x640 1 yellow, 10.8ms\n",
            "video 1/1 (frame 422/809) /content/Test_Vid_yellow_getslost.mp4: 384x640 1 yellow, 10.2ms\n",
            "video 1/1 (frame 423/809) /content/Test_Vid_yellow_getslost.mp4: 384x640 1 yellow, 10.7ms\n",
            "video 1/1 (frame 424/809) /content/Test_Vid_yellow_getslost.mp4: 384x640 1 yellow, 10.1ms\n",
            "video 1/1 (frame 425/809) /content/Test_Vid_yellow_getslost.mp4: 384x640 2 yellows, 10.1ms\n",
            "video 1/1 (frame 426/809) /content/Test_Vid_yellow_getslost.mp4: 384x640 1 yellow, 10.1ms\n",
            "video 1/1 (frame 427/809) /content/Test_Vid_yellow_getslost.mp4: 384x640 1 yellow, 10.3ms\n",
            "video 1/1 (frame 428/809) /content/Test_Vid_yellow_getslost.mp4: 384x640 1 yellow, 10.4ms\n",
            "video 1/1 (frame 429/809) /content/Test_Vid_yellow_getslost.mp4: 384x640 1 yellow, 10.2ms\n",
            "video 1/1 (frame 430/809) /content/Test_Vid_yellow_getslost.mp4: 384x640 (no detections), 10.3ms\n",
            "video 1/1 (frame 431/809) /content/Test_Vid_yellow_getslost.mp4: 384x640 (no detections), 9.7ms\n",
            "video 1/1 (frame 432/809) /content/Test_Vid_yellow_getslost.mp4: 384x640 1 yellow, 10.0ms\n",
            "video 1/1 (frame 433/809) /content/Test_Vid_yellow_getslost.mp4: 384x640 1 yellow, 10.3ms\n",
            "video 1/1 (frame 434/809) /content/Test_Vid_yellow_getslost.mp4: 384x640 1 yellow, 9.7ms\n",
            "video 1/1 (frame 435/809) /content/Test_Vid_yellow_getslost.mp4: 384x640 1 yellow, 14.2ms\n",
            "video 1/1 (frame 436/809) /content/Test_Vid_yellow_getslost.mp4: 384x640 1 yellow, 20.3ms\n",
            "video 1/1 (frame 437/809) /content/Test_Vid_yellow_getslost.mp4: 384x640 1 yellow, 10.3ms\n",
            "video 1/1 (frame 438/809) /content/Test_Vid_yellow_getslost.mp4: 384x640 1 yellow, 9.9ms\n",
            "video 1/1 (frame 439/809) /content/Test_Vid_yellow_getslost.mp4: 384x640 1 yellow, 10.0ms\n",
            "video 1/1 (frame 440/809) /content/Test_Vid_yellow_getslost.mp4: 384x640 (no detections), 10.3ms\n",
            "video 1/1 (frame 441/809) /content/Test_Vid_yellow_getslost.mp4: 384x640 (no detections), 10.6ms\n",
            "video 1/1 (frame 442/809) /content/Test_Vid_yellow_getslost.mp4: 384x640 (no detections), 9.7ms\n",
            "video 1/1 (frame 443/809) /content/Test_Vid_yellow_getslost.mp4: 384x640 (no detections), 9.7ms\n",
            "video 1/1 (frame 444/809) /content/Test_Vid_yellow_getslost.mp4: 384x640 (no detections), 9.8ms\n",
            "video 1/1 (frame 445/809) /content/Test_Vid_yellow_getslost.mp4: 384x640 (no detections), 10.1ms\n",
            "video 1/1 (frame 446/809) /content/Test_Vid_yellow_getslost.mp4: 384x640 (no detections), 8.1ms\n",
            "video 1/1 (frame 447/809) /content/Test_Vid_yellow_getslost.mp4: 384x640 (no detections), 10.1ms\n",
            "video 1/1 (frame 448/809) /content/Test_Vid_yellow_getslost.mp4: 384x640 (no detections), 11.4ms\n",
            "video 1/1 (frame 449/809) /content/Test_Vid_yellow_getslost.mp4: 384x640 (no detections), 10.1ms\n",
            "video 1/1 (frame 450/809) /content/Test_Vid_yellow_getslost.mp4: 384x640 (no detections), 10.1ms\n",
            "video 1/1 (frame 451/809) /content/Test_Vid_yellow_getslost.mp4: 384x640 (no detections), 12.1ms\n",
            "video 1/1 (frame 452/809) /content/Test_Vid_yellow_getslost.mp4: 384x640 (no detections), 10.9ms\n",
            "video 1/1 (frame 453/809) /content/Test_Vid_yellow_getslost.mp4: 384x640 (no detections), 10.4ms\n",
            "video 1/1 (frame 454/809) /content/Test_Vid_yellow_getslost.mp4: 384x640 (no detections), 9.8ms\n",
            "video 1/1 (frame 455/809) /content/Test_Vid_yellow_getslost.mp4: 384x640 (no detections), 9.8ms\n",
            "video 1/1 (frame 456/809) /content/Test_Vid_yellow_getslost.mp4: 384x640 2 yellows, 13.0ms\n",
            "video 1/1 (frame 457/809) /content/Test_Vid_yellow_getslost.mp4: 384x640 (no detections), 9.8ms\n",
            "video 1/1 (frame 458/809) /content/Test_Vid_yellow_getslost.mp4: 384x640 (no detections), 11.4ms\n",
            "video 1/1 (frame 459/809) /content/Test_Vid_yellow_getslost.mp4: 384x640 (no detections), 9.9ms\n",
            "video 1/1 (frame 460/809) /content/Test_Vid_yellow_getslost.mp4: 384x640 (no detections), 10.1ms\n",
            "video 1/1 (frame 461/809) /content/Test_Vid_yellow_getslost.mp4: 384x640 (no detections), 9.9ms\n",
            "video 1/1 (frame 462/809) /content/Test_Vid_yellow_getslost.mp4: 384x640 (no detections), 10.1ms\n",
            "video 1/1 (frame 463/809) /content/Test_Vid_yellow_getslost.mp4: 384x640 (no detections), 9.2ms\n",
            "video 1/1 (frame 464/809) /content/Test_Vid_yellow_getslost.mp4: 384x640 1 yellow, 11.0ms\n",
            "video 1/1 (frame 465/809) /content/Test_Vid_yellow_getslost.mp4: 384x640 (no detections), 10.2ms\n",
            "video 1/1 (frame 466/809) /content/Test_Vid_yellow_getslost.mp4: 384x640 1 yellow, 9.8ms\n",
            "video 1/1 (frame 467/809) /content/Test_Vid_yellow_getslost.mp4: 384x640 1 yellow, 11.8ms\n",
            "video 1/1 (frame 468/809) /content/Test_Vid_yellow_getslost.mp4: 384x640 1 yellow, 10.7ms\n",
            "video 1/1 (frame 469/809) /content/Test_Vid_yellow_getslost.mp4: 384x640 1 yellow, 10.8ms\n",
            "video 1/1 (frame 470/809) /content/Test_Vid_yellow_getslost.mp4: 384x640 2 yellows, 10.3ms\n",
            "video 1/1 (frame 471/809) /content/Test_Vid_yellow_getslost.mp4: 384x640 2 yellows, 10.0ms\n",
            "video 1/1 (frame 472/809) /content/Test_Vid_yellow_getslost.mp4: 384x640 2 yellows, 11.0ms\n",
            "video 1/1 (frame 473/809) /content/Test_Vid_yellow_getslost.mp4: 384x640 2 yellows, 9.8ms\n",
            "video 1/1 (frame 474/809) /content/Test_Vid_yellow_getslost.mp4: 384x640 1 yellow, 10.1ms\n",
            "video 1/1 (frame 475/809) /content/Test_Vid_yellow_getslost.mp4: 384x640 2 yellows, 10.2ms\n",
            "video 1/1 (frame 476/809) /content/Test_Vid_yellow_getslost.mp4: 384x640 1 yellow, 12.6ms\n",
            "video 1/1 (frame 477/809) /content/Test_Vid_yellow_getslost.mp4: 384x640 1 yellow, 9.9ms\n",
            "video 1/1 (frame 478/809) /content/Test_Vid_yellow_getslost.mp4: 384x640 1 yellow, 13.1ms\n",
            "video 1/1 (frame 479/809) /content/Test_Vid_yellow_getslost.mp4: 384x640 2 yellows, 10.3ms\n",
            "video 1/1 (frame 480/809) /content/Test_Vid_yellow_getslost.mp4: 384x640 1 yellow, 10.4ms\n",
            "video 1/1 (frame 481/809) /content/Test_Vid_yellow_getslost.mp4: 384x640 1 yellow, 10.6ms\n",
            "video 1/1 (frame 482/809) /content/Test_Vid_yellow_getslost.mp4: 384x640 2 yellows, 10.0ms\n",
            "video 1/1 (frame 483/809) /content/Test_Vid_yellow_getslost.mp4: 384x640 1 yellow, 10.0ms\n",
            "video 1/1 (frame 484/809) /content/Test_Vid_yellow_getslost.mp4: 384x640 1 yellow, 10.1ms\n",
            "video 1/1 (frame 485/809) /content/Test_Vid_yellow_getslost.mp4: 384x640 1 yellow, 10.0ms\n",
            "video 1/1 (frame 486/809) /content/Test_Vid_yellow_getslost.mp4: 384x640 1 yellow, 10.4ms\n",
            "video 1/1 (frame 487/809) /content/Test_Vid_yellow_getslost.mp4: 384x640 1 yellow, 10.1ms\n",
            "video 1/1 (frame 488/809) /content/Test_Vid_yellow_getslost.mp4: 384x640 2 yellows, 8.9ms\n",
            "video 1/1 (frame 489/809) /content/Test_Vid_yellow_getslost.mp4: 384x640 1 yellow, 10.2ms\n",
            "video 1/1 (frame 490/809) /content/Test_Vid_yellow_getslost.mp4: 384x640 1 yellow, 9.9ms\n",
            "video 1/1 (frame 491/809) /content/Test_Vid_yellow_getslost.mp4: 384x640 1 yellow, 10.0ms\n",
            "video 1/1 (frame 492/809) /content/Test_Vid_yellow_getslost.mp4: 384x640 1 yellow, 9.5ms\n",
            "video 1/1 (frame 493/809) /content/Test_Vid_yellow_getslost.mp4: 384x640 1 yellow, 9.9ms\n",
            "video 1/1 (frame 494/809) /content/Test_Vid_yellow_getslost.mp4: 384x640 (no detections), 9.5ms\n",
            "video 1/1 (frame 495/809) /content/Test_Vid_yellow_getslost.mp4: 384x640 (no detections), 16.5ms\n",
            "video 1/1 (frame 496/809) /content/Test_Vid_yellow_getslost.mp4: 384x640 (no detections), 11.4ms\n",
            "video 1/1 (frame 497/809) /content/Test_Vid_yellow_getslost.mp4: 384x640 (no detections), 14.6ms\n",
            "video 1/1 (frame 498/809) /content/Test_Vid_yellow_getslost.mp4: 384x640 (no detections), 18.5ms\n",
            "video 1/1 (frame 499/809) /content/Test_Vid_yellow_getslost.mp4: 384x640 1 yellow, 12.8ms\n",
            "video 1/1 (frame 500/809) /content/Test_Vid_yellow_getslost.mp4: 384x640 (no detections), 9.6ms\n",
            "video 1/1 (frame 501/809) /content/Test_Vid_yellow_getslost.mp4: 384x640 (no detections), 16.0ms\n",
            "video 1/1 (frame 502/809) /content/Test_Vid_yellow_getslost.mp4: 384x640 (no detections), 10.4ms\n",
            "video 1/1 (frame 503/809) /content/Test_Vid_yellow_getslost.mp4: 384x640 2 yellows, 9.9ms\n",
            "video 1/1 (frame 504/809) /content/Test_Vid_yellow_getslost.mp4: 384x640 1 yellow, 9.5ms\n",
            "video 1/1 (frame 505/809) /content/Test_Vid_yellow_getslost.mp4: 384x640 1 yellow, 9.3ms\n",
            "video 1/1 (frame 506/809) /content/Test_Vid_yellow_getslost.mp4: 384x640 2 yellows, 10.4ms\n",
            "video 1/1 (frame 507/809) /content/Test_Vid_yellow_getslost.mp4: 384x640 1 yellow, 19.5ms\n",
            "video 1/1 (frame 508/809) /content/Test_Vid_yellow_getslost.mp4: 384x640 1 yellow, 17.3ms\n",
            "video 1/1 (frame 509/809) /content/Test_Vid_yellow_getslost.mp4: 384x640 2 yellows, 15.7ms\n",
            "video 1/1 (frame 510/809) /content/Test_Vid_yellow_getslost.mp4: 384x640 1 yellow, 17.9ms\n",
            "video 1/1 (frame 511/809) /content/Test_Vid_yellow_getslost.mp4: 384x640 1 yellow, 14.2ms\n",
            "video 1/1 (frame 512/809) /content/Test_Vid_yellow_getslost.mp4: 384x640 1 yellow, 16.8ms\n",
            "video 1/1 (frame 513/809) /content/Test_Vid_yellow_getslost.mp4: 384x640 1 yellow, 20.3ms\n",
            "video 1/1 (frame 514/809) /content/Test_Vid_yellow_getslost.mp4: 384x640 2 yellows, 20.6ms\n",
            "video 1/1 (frame 515/809) /content/Test_Vid_yellow_getslost.mp4: 384x640 3 yellows, 13.1ms\n",
            "video 1/1 (frame 516/809) /content/Test_Vid_yellow_getslost.mp4: 384x640 2 yellows, 10.2ms\n",
            "video 1/1 (frame 517/809) /content/Test_Vid_yellow_getslost.mp4: 384x640 1 yellow, 16.5ms\n",
            "video 1/1 (frame 518/809) /content/Test_Vid_yellow_getslost.mp4: 384x640 1 yellow, 16.3ms\n",
            "video 1/1 (frame 519/809) /content/Test_Vid_yellow_getslost.mp4: 384x640 1 yellow, 22.5ms\n",
            "video 1/1 (frame 520/809) /content/Test_Vid_yellow_getslost.mp4: 384x640 1 yellow, 15.6ms\n",
            "video 1/1 (frame 521/809) /content/Test_Vid_yellow_getslost.mp4: 384x640 1 yellow, 14.1ms\n",
            "video 1/1 (frame 522/809) /content/Test_Vid_yellow_getslost.mp4: 384x640 2 yellows, 18.6ms\n",
            "video 1/1 (frame 523/809) /content/Test_Vid_yellow_getslost.mp4: 384x640 2 yellows, 24.1ms\n",
            "video 1/1 (frame 524/809) /content/Test_Vid_yellow_getslost.mp4: 384x640 1 yellow, 10.2ms\n",
            "video 1/1 (frame 525/809) /content/Test_Vid_yellow_getslost.mp4: 384x640 2 yellows, 10.2ms\n",
            "video 1/1 (frame 526/809) /content/Test_Vid_yellow_getslost.mp4: 384x640 2 yellows, 10.4ms\n",
            "video 1/1 (frame 527/809) /content/Test_Vid_yellow_getslost.mp4: 384x640 2 yellows, 10.5ms\n",
            "video 1/1 (frame 528/809) /content/Test_Vid_yellow_getslost.mp4: 384x640 1 yellow, 10.8ms\n",
            "video 1/1 (frame 529/809) /content/Test_Vid_yellow_getslost.mp4: 384x640 2 yellows, 11.0ms\n",
            "video 1/1 (frame 530/809) /content/Test_Vid_yellow_getslost.mp4: 384x640 1 yellow, 9.9ms\n",
            "video 1/1 (frame 531/809) /content/Test_Vid_yellow_getslost.mp4: 384x640 1 yellow, 10.5ms\n",
            "video 1/1 (frame 532/809) /content/Test_Vid_yellow_getslost.mp4: 384x640 1 yellow, 9.8ms\n",
            "video 1/1 (frame 533/809) /content/Test_Vid_yellow_getslost.mp4: 384x640 2 yellows, 10.1ms\n",
            "video 1/1 (frame 534/809) /content/Test_Vid_yellow_getslost.mp4: 384x640 2 yellows, 9.0ms\n",
            "video 1/1 (frame 535/809) /content/Test_Vid_yellow_getslost.mp4: 384x640 2 yellows, 15.5ms\n",
            "video 1/1 (frame 536/809) /content/Test_Vid_yellow_getslost.mp4: 384x640 2 yellows, 9.6ms\n",
            "video 1/1 (frame 537/809) /content/Test_Vid_yellow_getslost.mp4: 384x640 2 yellows, 10.2ms\n",
            "video 1/1 (frame 538/809) /content/Test_Vid_yellow_getslost.mp4: 384x640 1 yellow, 9.3ms\n",
            "video 1/1 (frame 539/809) /content/Test_Vid_yellow_getslost.mp4: 384x640 2 yellows, 10.3ms\n",
            "video 1/1 (frame 540/809) /content/Test_Vid_yellow_getslost.mp4: 384x640 1 yellow, 9.6ms\n",
            "video 1/1 (frame 541/809) /content/Test_Vid_yellow_getslost.mp4: 384x640 1 yellow, 10.4ms\n",
            "video 1/1 (frame 542/809) /content/Test_Vid_yellow_getslost.mp4: 384x640 1 yellow, 11.4ms\n",
            "video 1/1 (frame 543/809) /content/Test_Vid_yellow_getslost.mp4: 384x640 (no detections), 10.1ms\n",
            "video 1/1 (frame 544/809) /content/Test_Vid_yellow_getslost.mp4: 384x640 (no detections), 9.7ms\n",
            "video 1/1 (frame 545/809) /content/Test_Vid_yellow_getslost.mp4: 384x640 (no detections), 10.1ms\n",
            "video 1/1 (frame 546/809) /content/Test_Vid_yellow_getslost.mp4: 384x640 1 yellow, 10.6ms\n",
            "video 1/1 (frame 547/809) /content/Test_Vid_yellow_getslost.mp4: 384x640 1 yellow, 10.5ms\n",
            "video 1/1 (frame 548/809) /content/Test_Vid_yellow_getslost.mp4: 384x640 2 yellows, 9.8ms\n",
            "video 1/1 (frame 549/809) /content/Test_Vid_yellow_getslost.mp4: 384x640 2 yellows, 12.6ms\n",
            "video 1/1 (frame 550/809) /content/Test_Vid_yellow_getslost.mp4: 384x640 2 yellows, 10.7ms\n",
            "video 1/1 (frame 551/809) /content/Test_Vid_yellow_getslost.mp4: 384x640 2 yellows, 10.2ms\n",
            "video 1/1 (frame 552/809) /content/Test_Vid_yellow_getslost.mp4: 384x640 1 yellow, 11.2ms\n",
            "video 1/1 (frame 553/809) /content/Test_Vid_yellow_getslost.mp4: 384x640 2 yellows, 10.0ms\n",
            "video 1/1 (frame 554/809) /content/Test_Vid_yellow_getslost.mp4: 384x640 1 yellow, 11.8ms\n",
            "video 1/1 (frame 555/809) /content/Test_Vid_yellow_getslost.mp4: 384x640 1 yellow, 10.1ms\n",
            "video 1/1 (frame 556/809) /content/Test_Vid_yellow_getslost.mp4: 384x640 2 yellows, 11.2ms\n",
            "video 1/1 (frame 557/809) /content/Test_Vid_yellow_getslost.mp4: 384x640 1 yellow, 10.1ms\n",
            "video 1/1 (frame 558/809) /content/Test_Vid_yellow_getslost.mp4: 384x640 1 yellow, 10.1ms\n",
            "video 1/1 (frame 559/809) /content/Test_Vid_yellow_getslost.mp4: 384x640 1 yellow, 9.7ms\n",
            "video 1/1 (frame 560/809) /content/Test_Vid_yellow_getslost.mp4: 384x640 2 yellows, 35.4ms\n",
            "video 1/1 (frame 561/809) /content/Test_Vid_yellow_getslost.mp4: 384x640 2 yellows, 19.0ms\n",
            "video 1/1 (frame 562/809) /content/Test_Vid_yellow_getslost.mp4: 384x640 1 yellow, 42.0ms\n",
            "video 1/1 (frame 563/809) /content/Test_Vid_yellow_getslost.mp4: 384x640 2 yellows, 9.9ms\n",
            "video 1/1 (frame 564/809) /content/Test_Vid_yellow_getslost.mp4: 384x640 2 yellows, 10.4ms\n",
            "video 1/1 (frame 565/809) /content/Test_Vid_yellow_getslost.mp4: 384x640 2 yellows, 10.2ms\n",
            "video 1/1 (frame 566/809) /content/Test_Vid_yellow_getslost.mp4: 384x640 2 yellows, 10.0ms\n",
            "video 1/1 (frame 567/809) /content/Test_Vid_yellow_getslost.mp4: 384x640 2 yellows, 9.9ms\n",
            "video 1/1 (frame 568/809) /content/Test_Vid_yellow_getslost.mp4: 384x640 3 yellows, 10.1ms\n",
            "video 1/1 (frame 569/809) /content/Test_Vid_yellow_getslost.mp4: 384x640 3 yellows, 12.2ms\n",
            "video 1/1 (frame 570/809) /content/Test_Vid_yellow_getslost.mp4: 384x640 2 yellows, 10.1ms\n",
            "video 1/1 (frame 571/809) /content/Test_Vid_yellow_getslost.mp4: 384x640 2 yellows, 30.8ms\n",
            "video 1/1 (frame 572/809) /content/Test_Vid_yellow_getslost.mp4: 384x640 3 yellows, 28.9ms\n",
            "video 1/1 (frame 573/809) /content/Test_Vid_yellow_getslost.mp4: 384x640 1 yellow, 17.4ms\n",
            "video 1/1 (frame 574/809) /content/Test_Vid_yellow_getslost.mp4: 384x640 1 yellow, 10.4ms\n",
            "video 1/1 (frame 575/809) /content/Test_Vid_yellow_getslost.mp4: 384x640 2 yellows, 10.2ms\n",
            "video 1/1 (frame 576/809) /content/Test_Vid_yellow_getslost.mp4: 384x640 2 yellows, 10.0ms\n",
            "video 1/1 (frame 577/809) /content/Test_Vid_yellow_getslost.mp4: 384x640 2 yellows, 10.3ms\n",
            "video 1/1 (frame 578/809) /content/Test_Vid_yellow_getslost.mp4: 384x640 2 yellows, 9.7ms\n",
            "video 1/1 (frame 579/809) /content/Test_Vid_yellow_getslost.mp4: 384x640 3 yellows, 9.9ms\n",
            "video 1/1 (frame 580/809) /content/Test_Vid_yellow_getslost.mp4: 384x640 3 yellows, 10.0ms\n",
            "video 1/1 (frame 581/809) /content/Test_Vid_yellow_getslost.mp4: 384x640 2 yellows, 9.0ms\n",
            "video 1/1 (frame 582/809) /content/Test_Vid_yellow_getslost.mp4: 384x640 2 yellows, 10.4ms\n",
            "video 1/1 (frame 583/809) /content/Test_Vid_yellow_getslost.mp4: 384x640 2 yellows, 54.0ms\n",
            "video 1/1 (frame 584/809) /content/Test_Vid_yellow_getslost.mp4: 384x640 3 yellows, 29.6ms\n",
            "video 1/1 (frame 585/809) /content/Test_Vid_yellow_getslost.mp4: 384x640 2 yellows, 10.0ms\n",
            "video 1/1 (frame 586/809) /content/Test_Vid_yellow_getslost.mp4: 384x640 2 yellows, 10.1ms\n",
            "video 1/1 (frame 587/809) /content/Test_Vid_yellow_getslost.mp4: 384x640 3 yellows, 10.0ms\n",
            "video 1/1 (frame 588/809) /content/Test_Vid_yellow_getslost.mp4: 384x640 3 yellows, 10.1ms\n",
            "video 1/1 (frame 589/809) /content/Test_Vid_yellow_getslost.mp4: 384x640 3 yellows, 10.2ms\n",
            "video 1/1 (frame 590/809) /content/Test_Vid_yellow_getslost.mp4: 384x640 2 yellows, 10.0ms\n",
            "video 1/1 (frame 591/809) /content/Test_Vid_yellow_getslost.mp4: 384x640 1 yellow, 10.1ms\n",
            "video 1/1 (frame 592/809) /content/Test_Vid_yellow_getslost.mp4: 384x640 2 yellows, 9.9ms\n",
            "video 1/1 (frame 593/809) /content/Test_Vid_yellow_getslost.mp4: 384x640 2 yellows, 10.0ms\n",
            "video 1/1 (frame 594/809) /content/Test_Vid_yellow_getslost.mp4: 384x640 4 yellows, 10.1ms\n",
            "video 1/1 (frame 595/809) /content/Test_Vid_yellow_getslost.mp4: 384x640 3 yellows, 11.4ms\n",
            "video 1/1 (frame 596/809) /content/Test_Vid_yellow_getslost.mp4: 384x640 3 yellows, 10.7ms\n",
            "video 1/1 (frame 597/809) /content/Test_Vid_yellow_getslost.mp4: 384x640 4 yellows, 10.2ms\n",
            "video 1/1 (frame 598/809) /content/Test_Vid_yellow_getslost.mp4: 384x640 4 yellows, 17.4ms\n",
            "video 1/1 (frame 599/809) /content/Test_Vid_yellow_getslost.mp4: 384x640 2 yellows, 10.7ms\n",
            "video 1/1 (frame 600/809) /content/Test_Vid_yellow_getslost.mp4: 384x640 3 yellows, 11.0ms\n",
            "video 1/1 (frame 601/809) /content/Test_Vid_yellow_getslost.mp4: 384x640 2 yellows, 11.6ms\n",
            "video 1/1 (frame 602/809) /content/Test_Vid_yellow_getslost.mp4: 384x640 2 yellows, 10.3ms\n",
            "video 1/1 (frame 603/809) /content/Test_Vid_yellow_getslost.mp4: 384x640 1 yellow, 10.2ms\n",
            "video 1/1 (frame 604/809) /content/Test_Vid_yellow_getslost.mp4: 384x640 1 yellow, 10.2ms\n",
            "video 1/1 (frame 605/809) /content/Test_Vid_yellow_getslost.mp4: 384x640 1 yellow, 10.5ms\n",
            "video 1/1 (frame 606/809) /content/Test_Vid_yellow_getslost.mp4: 384x640 1 yellow, 10.4ms\n",
            "video 1/1 (frame 607/809) /content/Test_Vid_yellow_getslost.mp4: 384x640 2 yellows, 10.3ms\n",
            "video 1/1 (frame 608/809) /content/Test_Vid_yellow_getslost.mp4: 384x640 3 yellows, 10.3ms\n",
            "video 1/1 (frame 609/809) /content/Test_Vid_yellow_getslost.mp4: 384x640 2 yellows, 10.3ms\n",
            "video 1/1 (frame 610/809) /content/Test_Vid_yellow_getslost.mp4: 384x640 2 yellows, 10.6ms\n",
            "video 1/1 (frame 611/809) /content/Test_Vid_yellow_getslost.mp4: 384x640 4 yellows, 10.7ms\n",
            "video 1/1 (frame 612/809) /content/Test_Vid_yellow_getslost.mp4: 384x640 2 yellows, 10.9ms\n",
            "video 1/1 (frame 613/809) /content/Test_Vid_yellow_getslost.mp4: 384x640 2 yellows, 10.0ms\n",
            "video 1/1 (frame 614/809) /content/Test_Vid_yellow_getslost.mp4: 384x640 2 yellows, 10.2ms\n",
            "video 1/1 (frame 615/809) /content/Test_Vid_yellow_getslost.mp4: 384x640 2 yellows, 10.0ms\n",
            "video 1/1 (frame 616/809) /content/Test_Vid_yellow_getslost.mp4: 384x640 1 yellow, 9.4ms\n",
            "video 1/1 (frame 617/809) /content/Test_Vid_yellow_getslost.mp4: 384x640 2 yellows, 9.3ms\n",
            "video 1/1 (frame 618/809) /content/Test_Vid_yellow_getslost.mp4: 384x640 3 yellows, 10.2ms\n",
            "video 1/1 (frame 619/809) /content/Test_Vid_yellow_getslost.mp4: 384x640 2 yellows, 14.1ms\n",
            "video 1/1 (frame 620/809) /content/Test_Vid_yellow_getslost.mp4: 384x640 2 yellows, 10.6ms\n",
            "video 1/1 (frame 621/809) /content/Test_Vid_yellow_getslost.mp4: 384x640 3 yellows, 10.1ms\n",
            "video 1/1 (frame 622/809) /content/Test_Vid_yellow_getslost.mp4: 384x640 2 yellows, 10.5ms\n",
            "video 1/1 (frame 623/809) /content/Test_Vid_yellow_getslost.mp4: 384x640 2 yellows, 10.5ms\n",
            "video 1/1 (frame 624/809) /content/Test_Vid_yellow_getslost.mp4: 384x640 2 yellows, 10.9ms\n",
            "video 1/1 (frame 625/809) /content/Test_Vid_yellow_getslost.mp4: 384x640 2 yellows, 9.8ms\n",
            "video 1/1 (frame 626/809) /content/Test_Vid_yellow_getslost.mp4: 384x640 2 yellows, 10.7ms\n",
            "video 1/1 (frame 627/809) /content/Test_Vid_yellow_getslost.mp4: 384x640 3 yellows, 9.7ms\n",
            "video 1/1 (frame 628/809) /content/Test_Vid_yellow_getslost.mp4: 384x640 3 yellows, 10.4ms\n",
            "video 1/1 (frame 629/809) /content/Test_Vid_yellow_getslost.mp4: 384x640 2 yellows, 9.6ms\n",
            "video 1/1 (frame 630/809) /content/Test_Vid_yellow_getslost.mp4: 384x640 1 yellow, 10.3ms\n",
            "video 1/1 (frame 631/809) /content/Test_Vid_yellow_getslost.mp4: 384x640 2 yellows, 12.3ms\n",
            "video 1/1 (frame 632/809) /content/Test_Vid_yellow_getslost.mp4: 384x640 2 yellows, 9.9ms\n",
            "video 1/1 (frame 633/809) /content/Test_Vid_yellow_getslost.mp4: 384x640 3 yellows, 9.7ms\n",
            "video 1/1 (frame 634/809) /content/Test_Vid_yellow_getslost.mp4: 384x640 3 yellows, 10.0ms\n",
            "video 1/1 (frame 635/809) /content/Test_Vid_yellow_getslost.mp4: 384x640 3 yellows, 9.8ms\n",
            "video 1/1 (frame 636/809) /content/Test_Vid_yellow_getslost.mp4: 384x640 3 yellows, 10.2ms\n",
            "video 1/1 (frame 637/809) /content/Test_Vid_yellow_getslost.mp4: 384x640 3 yellows, 11.3ms\n",
            "video 1/1 (frame 638/809) /content/Test_Vid_yellow_getslost.mp4: 384x640 2 yellows, 10.0ms\n",
            "video 1/1 (frame 639/809) /content/Test_Vid_yellow_getslost.mp4: 384x640 1 yellow, 9.7ms\n",
            "video 1/1 (frame 640/809) /content/Test_Vid_yellow_getslost.mp4: 384x640 (no detections), 9.6ms\n",
            "video 1/1 (frame 641/809) /content/Test_Vid_yellow_getslost.mp4: 384x640 1 yellow, 10.0ms\n",
            "video 1/1 (frame 642/809) /content/Test_Vid_yellow_getslost.mp4: 384x640 1 yellow, 9.9ms\n",
            "video 1/1 (frame 643/809) /content/Test_Vid_yellow_getslost.mp4: 384x640 1 yellow, 10.4ms\n",
            "video 1/1 (frame 644/809) /content/Test_Vid_yellow_getslost.mp4: 384x640 1 yellow, 10.2ms\n",
            "video 1/1 (frame 645/809) /content/Test_Vid_yellow_getslost.mp4: 384x640 3 yellows, 9.2ms\n",
            "video 1/1 (frame 646/809) /content/Test_Vid_yellow_getslost.mp4: 384x640 2 yellows, 10.2ms\n",
            "video 1/1 (frame 647/809) /content/Test_Vid_yellow_getslost.mp4: 384x640 2 yellows, 10.2ms\n",
            "video 1/1 (frame 648/809) /content/Test_Vid_yellow_getslost.mp4: 384x640 1 yellow, 10.1ms\n",
            "video 1/1 (frame 649/809) /content/Test_Vid_yellow_getslost.mp4: 384x640 2 yellows, 12.1ms\n",
            "video 1/1 (frame 650/809) /content/Test_Vid_yellow_getslost.mp4: 384x640 1 yellow, 10.7ms\n",
            "video 1/1 (frame 651/809) /content/Test_Vid_yellow_getslost.mp4: 384x640 2 yellows, 10.0ms\n",
            "video 1/1 (frame 652/809) /content/Test_Vid_yellow_getslost.mp4: 384x640 3 yellows, 10.7ms\n",
            "video 1/1 (frame 653/809) /content/Test_Vid_yellow_getslost.mp4: 384x640 3 yellows, 17.5ms\n",
            "video 1/1 (frame 654/809) /content/Test_Vid_yellow_getslost.mp4: 384x640 3 yellows, 10.6ms\n",
            "video 1/1 (frame 655/809) /content/Test_Vid_yellow_getslost.mp4: 384x640 3 yellows, 10.2ms\n",
            "video 1/1 (frame 656/809) /content/Test_Vid_yellow_getslost.mp4: 384x640 3 yellows, 11.4ms\n",
            "video 1/1 (frame 657/809) /content/Test_Vid_yellow_getslost.mp4: 384x640 2 yellows, 19.8ms\n",
            "video 1/1 (frame 658/809) /content/Test_Vid_yellow_getslost.mp4: 384x640 3 yellows, 10.6ms\n",
            "video 1/1 (frame 659/809) /content/Test_Vid_yellow_getslost.mp4: 384x640 3 yellows, 10.8ms\n",
            "video 1/1 (frame 660/809) /content/Test_Vid_yellow_getslost.mp4: 384x640 2 yellows, 10.0ms\n",
            "video 1/1 (frame 661/809) /content/Test_Vid_yellow_getslost.mp4: 384x640 2 yellows, 10.9ms\n",
            "video 1/1 (frame 662/809) /content/Test_Vid_yellow_getslost.mp4: 384x640 2 yellows, 10.6ms\n",
            "video 1/1 (frame 663/809) /content/Test_Vid_yellow_getslost.mp4: 384x640 3 yellows, 10.8ms\n",
            "video 1/1 (frame 664/809) /content/Test_Vid_yellow_getslost.mp4: 384x640 2 yellows, 10.0ms\n",
            "video 1/1 (frame 665/809) /content/Test_Vid_yellow_getslost.mp4: 384x640 3 yellows, 10.5ms\n",
            "video 1/1 (frame 666/809) /content/Test_Vid_yellow_getslost.mp4: 384x640 2 yellows, 10.1ms\n",
            "video 1/1 (frame 667/809) /content/Test_Vid_yellow_getslost.mp4: 384x640 3 yellows, 10.1ms\n",
            "video 1/1 (frame 668/809) /content/Test_Vid_yellow_getslost.mp4: 384x640 3 yellows, 9.8ms\n",
            "video 1/1 (frame 669/809) /content/Test_Vid_yellow_getslost.mp4: 384x640 2 yellows, 26.2ms\n",
            "video 1/1 (frame 670/809) /content/Test_Vid_yellow_getslost.mp4: 384x640 2 yellows, 10.8ms\n",
            "video 1/1 (frame 671/809) /content/Test_Vid_yellow_getslost.mp4: 384x640 4 yellows, 10.8ms\n",
            "video 1/1 (frame 672/809) /content/Test_Vid_yellow_getslost.mp4: 384x640 3 yellows, 10.2ms\n",
            "video 1/1 (frame 673/809) /content/Test_Vid_yellow_getslost.mp4: 384x640 3 yellows, 11.3ms\n",
            "video 1/1 (frame 674/809) /content/Test_Vid_yellow_getslost.mp4: 384x640 2 yellows, 10.3ms\n",
            "video 1/1 (frame 675/809) /content/Test_Vid_yellow_getslost.mp4: 384x640 3 yellows, 10.5ms\n",
            "video 1/1 (frame 676/809) /content/Test_Vid_yellow_getslost.mp4: 384x640 3 yellows, 10.2ms\n",
            "video 1/1 (frame 677/809) /content/Test_Vid_yellow_getslost.mp4: 384x640 4 yellows, 29.9ms\n",
            "video 1/1 (frame 678/809) /content/Test_Vid_yellow_getslost.mp4: 384x640 3 yellows, 21.2ms\n",
            "video 1/1 (frame 679/809) /content/Test_Vid_yellow_getslost.mp4: 384x640 3 yellows, 10.3ms\n",
            "video 1/1 (frame 680/809) /content/Test_Vid_yellow_getslost.mp4: 384x640 4 yellows, 10.5ms\n",
            "video 1/1 (frame 681/809) /content/Test_Vid_yellow_getslost.mp4: 384x640 3 yellows, 10.0ms\n",
            "video 1/1 (frame 682/809) /content/Test_Vid_yellow_getslost.mp4: 384x640 3 yellows, 9.9ms\n",
            "video 1/1 (frame 683/809) /content/Test_Vid_yellow_getslost.mp4: 384x640 3 yellows, 9.9ms\n",
            "video 1/1 (frame 684/809) /content/Test_Vid_yellow_getslost.mp4: 384x640 2 yellows, 9.9ms\n",
            "video 1/1 (frame 685/809) /content/Test_Vid_yellow_getslost.mp4: 384x640 1 yellow, 11.9ms\n",
            "video 1/1 (frame 686/809) /content/Test_Vid_yellow_getslost.mp4: 384x640 3 yellows, 22.6ms\n",
            "video 1/1 (frame 687/809) /content/Test_Vid_yellow_getslost.mp4: 384x640 1 yellow, 18.1ms\n",
            "video 1/1 (frame 688/809) /content/Test_Vid_yellow_getslost.mp4: 384x640 3 yellows, 20.3ms\n",
            "video 1/1 (frame 689/809) /content/Test_Vid_yellow_getslost.mp4: 384x640 2 yellows, 68.4ms\n",
            "video 1/1 (frame 690/809) /content/Test_Vid_yellow_getslost.mp4: 384x640 2 yellows, 23.4ms\n",
            "video 1/1 (frame 691/809) /content/Test_Vid_yellow_getslost.mp4: 384x640 2 yellows, 17.3ms\n",
            "video 1/1 (frame 692/809) /content/Test_Vid_yellow_getslost.mp4: 384x640 2 yellows, 18.1ms\n",
            "video 1/1 (frame 693/809) /content/Test_Vid_yellow_getslost.mp4: 384x640 2 yellows, 15.9ms\n",
            "video 1/1 (frame 694/809) /content/Test_Vid_yellow_getslost.mp4: 384x640 2 yellows, 11.2ms\n",
            "video 1/1 (frame 695/809) /content/Test_Vid_yellow_getslost.mp4: 384x640 3 yellows, 17.7ms\n",
            "video 1/1 (frame 696/809) /content/Test_Vid_yellow_getslost.mp4: 384x640 2 yellows, 61.2ms\n",
            "video 1/1 (frame 697/809) /content/Test_Vid_yellow_getslost.mp4: 384x640 3 yellows, 25.5ms\n",
            "video 1/1 (frame 698/809) /content/Test_Vid_yellow_getslost.mp4: 384x640 3 yellows, 20.4ms\n",
            "video 1/1 (frame 699/809) /content/Test_Vid_yellow_getslost.mp4: 384x640 4 yellows, 19.9ms\n",
            "video 1/1 (frame 700/809) /content/Test_Vid_yellow_getslost.mp4: 384x640 2 yellows, 21.3ms\n",
            "video 1/1 (frame 701/809) /content/Test_Vid_yellow_getslost.mp4: 384x640 2 yellows, 24.6ms\n",
            "video 1/1 (frame 702/809) /content/Test_Vid_yellow_getslost.mp4: 384x640 2 yellows, 22.6ms\n",
            "video 1/1 (frame 703/809) /content/Test_Vid_yellow_getslost.mp4: 384x640 2 yellows, 12.3ms\n",
            "video 1/1 (frame 704/809) /content/Test_Vid_yellow_getslost.mp4: 384x640 2 yellows, 12.6ms\n",
            "video 1/1 (frame 705/809) /content/Test_Vid_yellow_getslost.mp4: 384x640 2 yellows, 15.6ms\n",
            "video 1/1 (frame 706/809) /content/Test_Vid_yellow_getslost.mp4: 384x640 2 yellows, 23.1ms\n",
            "video 1/1 (frame 707/809) /content/Test_Vid_yellow_getslost.mp4: 384x640 4 yellows, 16.5ms\n",
            "video 1/1 (frame 708/809) /content/Test_Vid_yellow_getslost.mp4: 384x640 4 yellows, 12.1ms\n",
            "video 1/1 (frame 709/809) /content/Test_Vid_yellow_getslost.mp4: 384x640 3 yellows, 14.0ms\n",
            "video 1/1 (frame 710/809) /content/Test_Vid_yellow_getslost.mp4: 384x640 3 yellows, 12.7ms\n",
            "video 1/1 (frame 711/809) /content/Test_Vid_yellow_getslost.mp4: 384x640 2 yellows, 13.0ms\n",
            "video 1/1 (frame 712/809) /content/Test_Vid_yellow_getslost.mp4: 384x640 3 yellows, 10.9ms\n",
            "video 1/1 (frame 713/809) /content/Test_Vid_yellow_getslost.mp4: 384x640 3 yellows, 9.2ms\n",
            "video 1/1 (frame 714/809) /content/Test_Vid_yellow_getslost.mp4: 384x640 1 yellow, 16.3ms\n",
            "video 1/1 (frame 715/809) /content/Test_Vid_yellow_getslost.mp4: 384x640 2 yellows, 9.9ms\n",
            "video 1/1 (frame 716/809) /content/Test_Vid_yellow_getslost.mp4: 384x640 3 yellows, 9.8ms\n",
            "video 1/1 (frame 717/809) /content/Test_Vid_yellow_getslost.mp4: 384x640 4 yellows, 10.1ms\n",
            "video 1/1 (frame 718/809) /content/Test_Vid_yellow_getslost.mp4: 384x640 4 yellows, 11.0ms\n",
            "video 1/1 (frame 719/809) /content/Test_Vid_yellow_getslost.mp4: 384x640 2 yellows, 10.1ms\n",
            "video 1/1 (frame 720/809) /content/Test_Vid_yellow_getslost.mp4: 384x640 2 yellows, 9.7ms\n",
            "video 1/1 (frame 721/809) /content/Test_Vid_yellow_getslost.mp4: 384x640 3 yellows, 10.3ms\n",
            "video 1/1 (frame 722/809) /content/Test_Vid_yellow_getslost.mp4: 384x640 3 yellows, 9.6ms\n",
            "video 1/1 (frame 723/809) /content/Test_Vid_yellow_getslost.mp4: 384x640 3 yellows, 10.0ms\n",
            "video 1/1 (frame 724/809) /content/Test_Vid_yellow_getslost.mp4: 384x640 3 yellows, 11.8ms\n",
            "video 1/1 (frame 725/809) /content/Test_Vid_yellow_getslost.mp4: 384x640 3 yellows, 15.5ms\n",
            "video 1/1 (frame 726/809) /content/Test_Vid_yellow_getslost.mp4: 384x640 3 yellows, 10.3ms\n",
            "video 1/1 (frame 727/809) /content/Test_Vid_yellow_getslost.mp4: 384x640 3 yellows, 9.8ms\n",
            "video 1/1 (frame 728/809) /content/Test_Vid_yellow_getslost.mp4: 384x640 2 yellows, 11.5ms\n",
            "video 1/1 (frame 729/809) /content/Test_Vid_yellow_getslost.mp4: 384x640 3 yellows, 11.1ms\n",
            "video 1/1 (frame 730/809) /content/Test_Vid_yellow_getslost.mp4: 384x640 2 yellows, 9.6ms\n",
            "video 1/1 (frame 731/809) /content/Test_Vid_yellow_getslost.mp4: 384x640 3 yellows, 9.8ms\n",
            "video 1/1 (frame 732/809) /content/Test_Vid_yellow_getslost.mp4: 384x640 2 yellows, 12.9ms\n",
            "video 1/1 (frame 733/809) /content/Test_Vid_yellow_getslost.mp4: 384x640 2 yellows, 10.1ms\n",
            "video 1/1 (frame 734/809) /content/Test_Vid_yellow_getslost.mp4: 384x640 4 yellows, 10.2ms\n",
            "video 1/1 (frame 735/809) /content/Test_Vid_yellow_getslost.mp4: 384x640 2 yellows, 10.1ms\n",
            "video 1/1 (frame 736/809) /content/Test_Vid_yellow_getslost.mp4: 384x640 3 yellows, 13.2ms\n",
            "video 1/1 (frame 737/809) /content/Test_Vid_yellow_getslost.mp4: 384x640 1 yellow, 10.2ms\n",
            "video 1/1 (frame 738/809) /content/Test_Vid_yellow_getslost.mp4: 384x640 1 yellow, 10.6ms\n",
            "video 1/1 (frame 739/809) /content/Test_Vid_yellow_getslost.mp4: 384x640 2 yellows, 9.9ms\n",
            "video 1/1 (frame 740/809) /content/Test_Vid_yellow_getslost.mp4: 384x640 1 yellow, 9.9ms\n",
            "video 1/1 (frame 741/809) /content/Test_Vid_yellow_getslost.mp4: 384x640 2 yellows, 10.1ms\n",
            "video 1/1 (frame 742/809) /content/Test_Vid_yellow_getslost.mp4: 384x640 2 yellows, 12.9ms\n",
            "video 1/1 (frame 743/809) /content/Test_Vid_yellow_getslost.mp4: 384x640 2 yellows, 10.3ms\n",
            "video 1/1 (frame 744/809) /content/Test_Vid_yellow_getslost.mp4: 384x640 2 yellows, 10.1ms\n",
            "video 1/1 (frame 745/809) /content/Test_Vid_yellow_getslost.mp4: 384x640 2 yellows, 10.8ms\n",
            "video 1/1 (frame 746/809) /content/Test_Vid_yellow_getslost.mp4: 384x640 2 yellows, 10.0ms\n",
            "video 1/1 (frame 747/809) /content/Test_Vid_yellow_getslost.mp4: 384x640 2 yellows, 12.4ms\n",
            "video 1/1 (frame 748/809) /content/Test_Vid_yellow_getslost.mp4: 384x640 2 yellows, 10.9ms\n",
            "video 1/1 (frame 749/809) /content/Test_Vid_yellow_getslost.mp4: 384x640 1 yellow, 10.3ms\n",
            "video 1/1 (frame 750/809) /content/Test_Vid_yellow_getslost.mp4: 384x640 2 yellows, 10.1ms\n",
            "video 1/1 (frame 751/809) /content/Test_Vid_yellow_getslost.mp4: 384x640 3 yellows, 10.2ms\n",
            "video 1/1 (frame 752/809) /content/Test_Vid_yellow_getslost.mp4: 384x640 3 yellows, 10.2ms\n",
            "video 1/1 (frame 753/809) /content/Test_Vid_yellow_getslost.mp4: 384x640 2 yellows, 10.2ms\n",
            "video 1/1 (frame 754/809) /content/Test_Vid_yellow_getslost.mp4: 384x640 3 yellows, 10.1ms\n",
            "video 1/1 (frame 755/809) /content/Test_Vid_yellow_getslost.mp4: 384x640 3 yellows, 9.2ms\n",
            "video 1/1 (frame 756/809) /content/Test_Vid_yellow_getslost.mp4: 384x640 3 yellows, 10.4ms\n",
            "video 1/1 (frame 757/809) /content/Test_Vid_yellow_getslost.mp4: 384x640 3 yellows, 9.9ms\n",
            "video 1/1 (frame 758/809) /content/Test_Vid_yellow_getslost.mp4: 384x640 2 yellows, 10.2ms\n",
            "video 1/1 (frame 759/809) /content/Test_Vid_yellow_getslost.mp4: 384x640 2 yellows, 11.6ms\n",
            "video 1/1 (frame 760/809) /content/Test_Vid_yellow_getslost.mp4: 384x640 4 yellows, 11.7ms\n",
            "video 1/1 (frame 761/809) /content/Test_Vid_yellow_getslost.mp4: 384x640 4 yellows, 10.9ms\n",
            "video 1/1 (frame 762/809) /content/Test_Vid_yellow_getslost.mp4: 384x640 3 yellows, 9.9ms\n",
            "video 1/1 (frame 763/809) /content/Test_Vid_yellow_getslost.mp4: 384x640 3 yellows, 10.0ms\n",
            "video 1/1 (frame 764/809) /content/Test_Vid_yellow_getslost.mp4: 384x640 2 yellows, 10.1ms\n",
            "video 1/1 (frame 765/809) /content/Test_Vid_yellow_getslost.mp4: 384x640 3 yellows, 12.2ms\n",
            "video 1/1 (frame 766/809) /content/Test_Vid_yellow_getslost.mp4: 384x640 4 yellows, 10.0ms\n",
            "video 1/1 (frame 767/809) /content/Test_Vid_yellow_getslost.mp4: 384x640 3 yellows, 9.9ms\n",
            "video 1/1 (frame 768/809) /content/Test_Vid_yellow_getslost.mp4: 384x640 2 yellows, 9.5ms\n",
            "video 1/1 (frame 769/809) /content/Test_Vid_yellow_getslost.mp4: 384x640 2 yellows, 10.6ms\n",
            "video 1/1 (frame 770/809) /content/Test_Vid_yellow_getslost.mp4: 384x640 3 yellows, 9.9ms\n",
            "video 1/1 (frame 771/809) /content/Test_Vid_yellow_getslost.mp4: 384x640 3 yellows, 8.2ms\n",
            "video 1/1 (frame 772/809) /content/Test_Vid_yellow_getslost.mp4: 384x640 4 yellows, 9.8ms\n",
            "video 1/1 (frame 773/809) /content/Test_Vid_yellow_getslost.mp4: 384x640 4 yellows, 9.4ms\n",
            "video 1/1 (frame 774/809) /content/Test_Vid_yellow_getslost.mp4: 384x640 2 yellows, 9.9ms\n",
            "video 1/1 (frame 775/809) /content/Test_Vid_yellow_getslost.mp4: 384x640 3 yellows, 9.5ms\n",
            "video 1/1 (frame 776/809) /content/Test_Vid_yellow_getslost.mp4: 384x640 4 yellows, 10.2ms\n",
            "video 1/1 (frame 777/809) /content/Test_Vid_yellow_getslost.mp4: 384x640 4 yellows, 10.2ms\n",
            "video 1/1 (frame 778/809) /content/Test_Vid_yellow_getslost.mp4: 384x640 3 yellows, 10.0ms\n",
            "video 1/1 (frame 779/809) /content/Test_Vid_yellow_getslost.mp4: 384x640 3 yellows, 10.0ms\n",
            "video 1/1 (frame 780/809) /content/Test_Vid_yellow_getslost.mp4: 384x640 4 yellows, 10.1ms\n",
            "video 1/1 (frame 781/809) /content/Test_Vid_yellow_getslost.mp4: 384x640 2 yellows, 9.9ms\n",
            "video 1/1 (frame 782/809) /content/Test_Vid_yellow_getslost.mp4: 384x640 3 yellows, 10.9ms\n",
            "video 1/1 (frame 783/809) /content/Test_Vid_yellow_getslost.mp4: 384x640 2 yellows, 12.9ms\n",
            "video 1/1 (frame 784/809) /content/Test_Vid_yellow_getslost.mp4: 384x640 3 yellows, 10.6ms\n",
            "video 1/1 (frame 785/809) /content/Test_Vid_yellow_getslost.mp4: 384x640 4 yellows, 10.9ms\n",
            "video 1/1 (frame 786/809) /content/Test_Vid_yellow_getslost.mp4: 384x640 1 yellow, 12.6ms\n",
            "video 1/1 (frame 787/809) /content/Test_Vid_yellow_getslost.mp4: 384x640 1 yellow, 9.6ms\n",
            "video 1/1 (frame 788/809) /content/Test_Vid_yellow_getslost.mp4: 384x640 (no detections), 10.5ms\n",
            "video 1/1 (frame 789/809) /content/Test_Vid_yellow_getslost.mp4: 384x640 2 yellows, 10.4ms\n",
            "video 1/1 (frame 790/809) /content/Test_Vid_yellow_getslost.mp4: 384x640 3 yellows, 16.0ms\n",
            "video 1/1 (frame 791/809) /content/Test_Vid_yellow_getslost.mp4: 384x640 3 yellows, 12.2ms\n",
            "video 1/1 (frame 792/809) /content/Test_Vid_yellow_getslost.mp4: 384x640 2 yellows, 11.0ms\n",
            "video 1/1 (frame 793/809) /content/Test_Vid_yellow_getslost.mp4: 384x640 2 yellows, 10.2ms\n",
            "video 1/1 (frame 794/809) /content/Test_Vid_yellow_getslost.mp4: 384x640 3 yellows, 10.1ms\n",
            "video 1/1 (frame 795/809) /content/Test_Vid_yellow_getslost.mp4: 384x640 2 yellows, 11.1ms\n",
            "video 1/1 (frame 796/809) /content/Test_Vid_yellow_getslost.mp4: 384x640 3 yellows, 10.4ms\n",
            "video 1/1 (frame 797/809) /content/Test_Vid_yellow_getslost.mp4: 384x640 3 yellows, 10.7ms\n",
            "video 1/1 (frame 798/809) /content/Test_Vid_yellow_getslost.mp4: 384x640 1 yellow, 9.9ms\n",
            "video 1/1 (frame 799/809) /content/Test_Vid_yellow_getslost.mp4: 384x640 2 yellows, 9.9ms\n",
            "video 1/1 (frame 800/809) /content/Test_Vid_yellow_getslost.mp4: 384x640 1 yellow, 13.5ms\n",
            "video 1/1 (frame 801/809) /content/Test_Vid_yellow_getslost.mp4: 384x640 1 yellow, 10.1ms\n",
            "video 1/1 (frame 802/809) /content/Test_Vid_yellow_getslost.mp4: 384x640 2 yellows, 10.2ms\n",
            "video 1/1 (frame 803/809) /content/Test_Vid_yellow_getslost.mp4: 384x640 2 yellows, 10.2ms\n",
            "video 1/1 (frame 804/809) /content/Test_Vid_yellow_getslost.mp4: 384x640 2 yellows, 9.9ms\n",
            "video 1/1 (frame 805/809) /content/Test_Vid_yellow_getslost.mp4: 384x640 1 yellow, 13.0ms\n",
            "video 1/1 (frame 806/809) /content/Test_Vid_yellow_getslost.mp4: 384x640 (no detections), 9.6ms\n",
            "video 1/1 (frame 807/809) /content/Test_Vid_yellow_getslost.mp4: 384x640 (no detections), 10.1ms\n",
            "video 1/1 (frame 808/809) /content/Test_Vid_yellow_getslost.mp4: 384x640 1 yellow, 10.0ms\n",
            "video 1/1 (frame 809/809) /content/Test_Vid_yellow_getslost.mp4: 384x640 1 yellow, 7.3ms\n",
            "Speed: 4.1ms preprocess, 11.8ms inference, 1.4ms postprocess per image at shape (1, 3, 384, 640)\n",
            "Results saved to \u001b[1mruns/detect/predict\u001b[0m\n",
            "524 labels saved to runs/detect/predict/labels\n"
          ]
        }
      ]
    },
    {
      "cell_type": "code",
      "source": [
        "from google.colab import files\n",
        "files.download(\"runs/detect/predict/Test_Vid_yellow_getslost.avi\")"
      ],
      "metadata": {
        "colab": {
          "base_uri": "https://localhost:8080/",
          "height": 17
        },
        "id": "wy7MVL8nybHu",
        "outputId": "fc26c53a-ac72-4bbe-e2e8-33a5a448f976"
      },
      "execution_count": 21,
      "outputs": [
        {
          "output_type": "display_data",
          "data": {
            "text/plain": [
              "<IPython.core.display.Javascript object>"
            ],
            "application/javascript": [
              "\n",
              "    async function download(id, filename, size) {\n",
              "      if (!google.colab.kernel.accessAllowed) {\n",
              "        return;\n",
              "      }\n",
              "      const div = document.createElement('div');\n",
              "      const label = document.createElement('label');\n",
              "      label.textContent = `Downloading \"${filename}\": `;\n",
              "      div.appendChild(label);\n",
              "      const progress = document.createElement('progress');\n",
              "      progress.max = size;\n",
              "      div.appendChild(progress);\n",
              "      document.body.appendChild(div);\n",
              "\n",
              "      const buffers = [];\n",
              "      let downloaded = 0;\n",
              "\n",
              "      const channel = await google.colab.kernel.comms.open(id);\n",
              "      // Send a message to notify the kernel that we're ready.\n",
              "      channel.send({})\n",
              "\n",
              "      for await (const message of channel.messages) {\n",
              "        // Send a message to notify the kernel that we're ready.\n",
              "        channel.send({})\n",
              "        if (message.buffers) {\n",
              "          for (const buffer of message.buffers) {\n",
              "            buffers.push(buffer);\n",
              "            downloaded += buffer.byteLength;\n",
              "            progress.value = downloaded;\n",
              "          }\n",
              "        }\n",
              "      }\n",
              "      const blob = new Blob(buffers, {type: 'application/binary'});\n",
              "      const a = document.createElement('a');\n",
              "      a.href = window.URL.createObjectURL(blob);\n",
              "      a.download = filename;\n",
              "      div.appendChild(a);\n",
              "      a.click();\n",
              "      div.remove();\n",
              "    }\n",
              "  "
            ]
          },
          "metadata": {}
        },
        {
          "output_type": "display_data",
          "data": {
            "text/plain": [
              "<IPython.core.display.Javascript object>"
            ],
            "application/javascript": [
              "download(\"download_a53347e6-d9b9-4309-abdf-3f49e73ae922\", \"Test_Vid_yellow_getslost.avi\", 147477730)"
            ]
          },
          "metadata": {}
        }
      ]
    },
    {
      "cell_type": "code",
      "source": [
        "import os\n",
        "\n",
        "path = \"runs/detect\"\n",
        "if os.path.exists(path):\n",
        "    print(\"📂 Found folders in runs/detect/:\")\n",
        "    for name in sorted(os.listdir(path)):\n",
        "        print(\" -\", name)\n",
        "else:\n",
        "    print(\"❌ runs/detect/ does not exist yet.\")\n"
      ],
      "metadata": {
        "colab": {
          "base_uri": "https://localhost:8080/"
        },
        "id": "guqst2__4Drg",
        "outputId": "6e2bc5cc-38c2-4036-9db5-352a6487f85e"
      },
      "execution_count": 7,
      "outputs": [
        {
          "output_type": "stream",
          "name": "stdout",
          "text": [
            "❌ runs/detect/ does not exist yet.\n"
          ]
        }
      ]
    },
    {
      "cell_type": "code",
      "source": [
        "import os\n",
        "\n",
        "os.listdir(\"/content\")"
      ],
      "metadata": {
        "colab": {
          "base_uri": "https://localhost:8080/"
        },
        "id": "CffFDGui4KOy",
        "outputId": "71da58d6-67b4-4ade-e839-c8887caf6fbb"
      },
      "execution_count": 4,
      "outputs": [
        {
          "output_type": "execute_result",
          "data": {
            "text/plain": [
              "['.config', 'sample_data']"
            ]
          },
          "metadata": {},
          "execution_count": 4
        }
      ]
    },
    {
      "cell_type": "code",
      "source": [],
      "metadata": {
        "id": "T8rk5Ywt4YQp"
      },
      "execution_count": null,
      "outputs": []
    }
  ]
}