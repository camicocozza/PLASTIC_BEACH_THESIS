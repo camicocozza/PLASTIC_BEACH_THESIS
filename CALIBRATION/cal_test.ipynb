{
 "cells": [
  {
   "cell_type": "code",
   "execution_count": 2,
   "id": "7cddda62-5720-4b7c-9266-947d1ba98205",
   "metadata": {
    "tags": []
   },
   "outputs": [
    {
     "name": "stdout",
     "output_type": "stream",
     "text": [
      "/Volumes/COCOZZA 2^D/DATA/0403_T1p5_H20/frames/frame_0000.jpg True\n",
      "/Volumes/COCOZZA 2^D/DATA/0403_T1p5_H20/frames/frame_0050.jpg True\n",
      "/Volumes/COCOZZA 2^D/DATA/0403_T1p5_H20/frames/frame_0100.jpg True\n",
      "/Volumes/COCOZZA 2^D/DATA/0403_T1p5_H20/frames/frame_0150.jpg True\n",
      "/Volumes/COCOZZA 2^D/DATA/0403_T1p5_H20/frames/frame_0200.jpg True\n",
      "/Volumes/COCOZZA 2^D/DATA/0403_T1p5_H20/frames/frame_0250.jpg True\n",
      "/Volumes/COCOZZA 2^D/DATA/0403_T1p5_H20/frames/frame_0300.jpg True\n",
      "/Volumes/COCOZZA 2^D/DATA/0403_T1p5_H20/frames/frame_0350.jpg True\n",
      "/Volumes/COCOZZA 2^D/DATA/0403_T1p5_H20/frames/frame_0400.jpg True\n",
      "/Volumes/COCOZZA 2^D/DATA/0403_T1p5_H20/frames/frame_0450.jpg True\n",
      "/Volumes/COCOZZA 2^D/DATA/0403_T1p5_H20/frames/frame_0500.jpg True\n",
      "/Volumes/COCOZZA 2^D/DATA/0403_T1p5_H20/frames/frame_0550.jpg True\n",
      "/Volumes/COCOZZA 2^D/DATA/0403_T1p5_H20/frames/frame_0600.jpg True\n",
      "/Volumes/COCOZZA 2^D/DATA/0403_T1p5_H20/frames/frame_0650.jpg True\n",
      "/Volumes/COCOZZA 2^D/DATA/0403_T1p5_H20/frames/frame_0700.jpg True\n",
      "/Volumes/COCOZZA 2^D/DATA/0403_T1p5_H20/frames/frame_0750.jpg True\n",
      "/Volumes/COCOZZA 2^D/DATA/0403_T1p5_H20/frames/frame_0800.jpg True\n",
      "/Volumes/COCOZZA 2^D/DATA/0403_T1p5_H20/frames/frame_0850.jpg True\n",
      "/Volumes/COCOZZA 2^D/DATA/0403_T1p5_H20/frames/frame_0900.jpg True\n",
      "/Volumes/COCOZZA 2^D/DATA/0403_T1p5_H20/frames/frame_0950.jpg True\n",
      "/Volumes/COCOZZA 2^D/DATA/0403_T1p5_H20/frames/frame_1000.jpg True\n",
      "/Volumes/COCOZZA 2^D/DATA/0403_T1p5_H20/frames/frame_1050.jpg True\n",
      "/Volumes/COCOZZA 2^D/DATA/0403_T1p5_H20/frames/frame_1100.jpg True\n",
      "/Volumes/COCOZZA 2^D/DATA/0403_T1p5_H20/frames/frame_1150.jpg True\n",
      "/Volumes/COCOZZA 2^D/DATA/0403_T1p5_H20/frames/frame_1200.jpg True\n",
      "/Volumes/COCOZZA 2^D/DATA/0403_T1p5_H20/frames/frame_1250.jpg True\n",
      "/Volumes/COCOZZA 2^D/DATA/0403_T1p5_H20/frames/frame_1300.jpg True\n",
      "/Volumes/COCOZZA 2^D/DATA/0403_T1p5_H20/frames/frame_1350.jpg True\n",
      "/Volumes/COCOZZA 2^D/DATA/0403_T1p5_H20/frames/frame_1400.jpg True\n",
      "/Volumes/COCOZZA 2^D/DATA/0403_T1p5_H20/frames/frame_1450.jpg True\n",
      "/Volumes/COCOZZA 2^D/DATA/0403_T1p5_H20/frames/frame_1500.jpg True\n",
      "/Volumes/COCOZZA 2^D/DATA/0403_T1p5_H20/frames/frame_1550.jpg True\n",
      "/Volumes/COCOZZA 2^D/DATA/0403_T1p5_H20/frames/frame_1600.jpg True\n",
      "/Volumes/COCOZZA 2^D/DATA/0403_T1p5_H20/frames/frame_1650.jpg True\n",
      "/Volumes/COCOZZA 2^D/DATA/0403_T1p5_H20/frames/frame_1700.jpg True\n",
      "/Volumes/COCOZZA 2^D/DATA/0403_T1p5_H20/frames/frame_1750.jpg True\n",
      "/Volumes/COCOZZA 2^D/DATA/0403_T1p5_H20/frames/frame_1800.jpg True\n",
      "/Volumes/COCOZZA 2^D/DATA/0403_T1p5_H20/frames/frame_1850.jpg True\n",
      "/Volumes/COCOZZA 2^D/DATA/0403_T1p5_H20/frames/frame_1900.jpg True\n",
      "/Volumes/COCOZZA 2^D/DATA/0403_T1p5_H20/frames/frame_1950.jpg True\n",
      "/Volumes/COCOZZA 2^D/DATA/0403_T1p5_H20/frames/frame_2000.jpg True\n",
      "/Volumes/COCOZZA 2^D/DATA/0403_T1p5_H20/frames/frame_2050.jpg True\n",
      "/Volumes/COCOZZA 2^D/DATA/0403_T1p5_H20/frames/frame_2100.jpg True\n",
      "/Volumes/COCOZZA 2^D/DATA/0403_T1p5_H20/frames/frame_2150.jpg True\n",
      "/Volumes/COCOZZA 2^D/DATA/0403_T1p5_H20/frames/frame_2200.jpg True\n",
      "/Volumes/COCOZZA 2^D/DATA/0403_T1p5_H20/frames/frame_2250.jpg True\n",
      "/Volumes/COCOZZA 2^D/DATA/0403_T1p5_H20/frames/frame_2300.jpg True\n",
      "/Volumes/COCOZZA 2^D/DATA/0403_T1p5_H20/frames/frame_2350.jpg True\n",
      "/Volumes/COCOZZA 2^D/DATA/0403_T1p5_H20/frames/frame_2400.jpg True\n",
      "/Volumes/COCOZZA 2^D/DATA/0403_T1p5_H20/frames/frame_2450.jpg True\n",
      "/Volumes/COCOZZA 2^D/DATA/0403_T1p5_H20/frames/frame_2500.jpg True\n",
      "/Volumes/COCOZZA 2^D/DATA/0403_T1p5_H20/frames/frame_2550.jpg True\n",
      "/Volumes/COCOZZA 2^D/DATA/0403_T1p5_H20/frames/frame_2600.jpg True\n",
      "/Volumes/COCOZZA 2^D/DATA/0403_T1p5_H20/frames/frame_2650.jpg True\n",
      "/Volumes/COCOZZA 2^D/DATA/0403_T1p5_H20/frames/frame_2700.jpg True\n",
      "/Volumes/COCOZZA 2^D/DATA/0403_T1p5_H20/frames/frame_2750.jpg True\n",
      "/Volumes/COCOZZA 2^D/DATA/0403_T1p5_H20/frames/frame_2800.jpg True\n",
      "/Volumes/COCOZZA 2^D/DATA/0403_T1p5_H20/frames/frame_2850.jpg True\n",
      "/Volumes/COCOZZA 2^D/DATA/0403_T1p5_H20/frames/frame_2900.jpg True\n",
      "/Volumes/COCOZZA 2^D/DATA/0403_T1p5_H20/frames/frame_2950.jpg True\n",
      "/Volumes/COCOZZA 2^D/DATA/0403_T1p5_H20/frames/frame_3000.jpg True\n",
      "/Volumes/COCOZZA 2^D/DATA/0403_T1p5_H20/frames/frame_3050.jpg False\n",
      "/Volumes/COCOZZA 2^D/DATA/0403_T1p5_H20/frames/frame_3100.jpg False\n",
      "/Volumes/COCOZZA 2^D/DATA/0403_T1p5_H20/frames/frame_3150.jpg False\n",
      "/Volumes/COCOZZA 2^D/DATA/0403_T1p5_H20/frames/frame_3200.jpg False\n",
      "/Volumes/COCOZZA 2^D/DATA/0403_T1p5_H20/frames/frame_3250.jpg False\n",
      "/Volumes/COCOZZA 2^D/DATA/0403_T1p5_H20/frames/frame_3300.jpg False\n",
      "/Volumes/COCOZZA 2^D/DATA/0403_T1p5_H20/frames/frame_3350.jpg False\n",
      "/Volumes/COCOZZA 2^D/DATA/0403_T1p5_H20/frames/frame_3400.jpg True\n",
      "/Volumes/COCOZZA 2^D/DATA/0403_T1p5_H20/frames/frame_3450.jpg True\n",
      "/Volumes/COCOZZA 2^D/DATA/0403_T1p5_H20/frames/frame_3500.jpg True\n",
      "/Volumes/COCOZZA 2^D/DATA/0403_T1p5_H20/frames/frame_3550.jpg True\n",
      "/Volumes/COCOZZA 2^D/DATA/0403_T1p5_H20/frames/frame_3600.jpg False\n",
      "/Volumes/COCOZZA 2^D/DATA/0403_T1p5_H20/frames/frame_3650.jpg True\n",
      "/Volumes/COCOZZA 2^D/DATA/0403_T1p5_H20/frames/frame_3700.jpg True\n",
      "/Volumes/COCOZZA 2^D/DATA/0403_T1p5_H20/frames/frame_3750.jpg True\n",
      "/Volumes/COCOZZA 2^D/DATA/0403_T1p5_H20/frames/frame_3800.jpg True\n",
      "/Volumes/COCOZZA 2^D/DATA/0403_T1p5_H20/frames/frame_3850.jpg False\n",
      "/Volumes/COCOZZA 2^D/DATA/0403_T1p5_H20/frames/frame_3900.jpg True\n",
      "/Volumes/COCOZZA 2^D/DATA/0403_T1p5_H20/frames/frame_3950.jpg True\n",
      "/Volumes/COCOZZA 2^D/DATA/0403_T1p5_H20/frames/frame_4000.jpg True\n",
      "/Volumes/COCOZZA 2^D/DATA/0403_T1p5_H20/frames/frame_4050.jpg True\n",
      "/Volumes/COCOZZA 2^D/DATA/0403_T1p5_H20/frames/frame_4100.jpg True\n",
      "/Volumes/COCOZZA 2^D/DATA/0403_T1p5_H20/frames/frame_4150.jpg True\n",
      "/Volumes/COCOZZA 2^D/DATA/0403_T1p5_H20/frames/frame_4200.jpg False\n",
      "/Volumes/COCOZZA 2^D/DATA/0403_T1p5_H20/frames/frame_4250.jpg False\n",
      "/Volumes/COCOZZA 2^D/DATA/0403_T1p5_H20/frames/frame_4300.jpg True\n",
      "/Volumes/COCOZZA 2^D/DATA/0403_T1p5_H20/frames/frame_4350.jpg True\n",
      "/Volumes/COCOZZA 2^D/DATA/0403_T1p5_H20/frames/frame_4400.jpg True\n",
      "/Volumes/COCOZZA 2^D/DATA/0403_T1p5_H20/frames/frame_4450.jpg False\n",
      "/Volumes/COCOZZA 2^D/DATA/0403_T1p5_H20/frames/frame_4500.jpg True\n",
      "/Volumes/COCOZZA 2^D/DATA/0403_T1p5_H20/frames/frame_4550.jpg True\n",
      "/Volumes/COCOZZA 2^D/DATA/0403_T1p5_H20/frames/frame_4600.jpg False\n",
      "/Volumes/COCOZZA 2^D/DATA/0403_T1p5_H20/frames/frame_4650.jpg False\n",
      "/Volumes/COCOZZA 2^D/DATA/0403_T1p5_H20/frames/frame_4700.jpg False\n",
      "/Volumes/COCOZZA 2^D/DATA/0403_T1p5_H20/frames/frame_4750.jpg False\n",
      "/Volumes/COCOZZA 2^D/DATA/0403_T1p5_H20/frames/frame_4800.jpg False\n",
      "/Volumes/COCOZZA 2^D/DATA/0403_T1p5_H20/frames/frame_4850.jpg False\n",
      "/Volumes/COCOZZA 2^D/DATA/0403_T1p5_H20/frames/frame_4900.jpg False\n",
      "/Volumes/COCOZZA 2^D/DATA/0403_T1p5_H20/frames/frame_4950.jpg False\n",
      "/Volumes/COCOZZA 2^D/DATA/0403_T1p5_H20/frames/frame_5000.jpg False\n",
      "/Volumes/COCOZZA 2^D/DATA/0403_T1p5_H20/frames/frame_5050.jpg True\n",
      "/Volumes/COCOZZA 2^D/DATA/0403_T1p5_H20/frames/frame_5100.jpg False\n",
      "/Volumes/COCOZZA 2^D/DATA/0403_T1p5_H20/frames/frame_5150.jpg False\n",
      "/Volumes/COCOZZA 2^D/DATA/0403_T1p5_H20/frames/frame_5200.jpg False\n",
      "/Volumes/COCOZZA 2^D/DATA/0403_T1p5_H20/frames/frame_5250.jpg True\n",
      "/Volumes/COCOZZA 2^D/DATA/0403_T1p5_H20/frames/frame_5300.jpg True\n",
      "/Volumes/COCOZZA 2^D/DATA/0403_T1p5_H20/frames/frame_5350.jpg True\n",
      "/Volumes/COCOZZA 2^D/DATA/0403_T1p5_H20/frames/frame_5400.jpg False\n",
      "/Volumes/COCOZZA 2^D/DATA/0403_T1p5_H20/frames/frame_5450.jpg False\n",
      "/Volumes/COCOZZA 2^D/DATA/0403_T1p5_H20/frames/frame_5500.jpg False\n",
      "/Volumes/COCOZZA 2^D/DATA/0403_T1p5_H20/frames/frame_5550.jpg False\n",
      "/Volumes/COCOZZA 2^D/DATA/0403_T1p5_H20/frames/frame_5600.jpg False\n",
      "/Volumes/COCOZZA 2^D/DATA/0403_T1p5_H20/frames/frame_5650.jpg False\n",
      "/Volumes/COCOZZA 2^D/DATA/0403_T1p5_H20/frames/frame_5700.jpg False\n",
      "/Volumes/COCOZZA 2^D/DATA/0403_T1p5_H20/frames/frame_5750.jpg False\n",
      "/Volumes/COCOZZA 2^D/DATA/0403_T1p5_H20/frames/frame_5800.jpg False\n",
      "/Volumes/COCOZZA 2^D/DATA/0403_T1p5_H20/frames/frame_5850.jpg True\n",
      "/Volumes/COCOZZA 2^D/DATA/0403_T1p5_H20/frames/frame_5900.jpg True\n",
      "/Volumes/COCOZZA 2^D/DATA/0403_T1p5_H20/frames/frame_5950.jpg True\n",
      "/Volumes/COCOZZA 2^D/DATA/0403_T1p5_H20/frames/frame_6000.jpg False\n",
      "/Volumes/COCOZZA 2^D/DATA/0403_T1p5_H20/frames/frame_6050.jpg False\n",
      "/Volumes/COCOZZA 2^D/DATA/0403_T1p5_H20/frames/frame_6100.jpg True\n",
      "/Volumes/COCOZZA 2^D/DATA/0403_T1p5_H20/frames/frame_6150.jpg False\n",
      "/Volumes/COCOZZA 2^D/DATA/0403_T1p5_H20/frames/frame_6200.jpg False\n",
      "/Volumes/COCOZZA 2^D/DATA/0403_T1p5_H20/frames/frame_6250.jpg False\n",
      "/Volumes/COCOZZA 2^D/DATA/0403_T1p5_H20/frames/frame_6300.jpg False\n",
      "/Volumes/COCOZZA 2^D/DATA/0403_T1p5_H20/frames/frame_6350.jpg False\n",
      "/Volumes/COCOZZA 2^D/DATA/0403_T1p5_H20/frames/frame_6400.jpg False\n",
      "/Volumes/COCOZZA 2^D/DATA/0403_T1p5_H20/frames/frame_6450.jpg False\n",
      "/Volumes/COCOZZA 2^D/DATA/0403_T1p5_H20/frames/frame_6500.jpg False\n",
      "/Volumes/COCOZZA 2^D/DATA/0403_T1p5_H20/frames/frame_6550.jpg False\n"
     ]
    }
   ],
   "source": [
    "import numpy as np\n",
    "import cv2 as cv\n",
    "import glob\n",
    "\n",
    "# termination criteria\n",
    "criteria = (cv.TERM_CRITERIA_EPS + cv.TERM_CRITERIA_MAX_ITER, 30, 0.001)\n",
    "\n",
    "# prepare object points, like (0,0,0), (1,0,0), (2,0,0) ....,(6,5,0)\n",
    "objp = np.zeros((9*7,3), np.float32)\n",
    "objp[:,:2] = np.mgrid[0:9,0:7].T.reshape(-1,2) * 75\n",
    "\n",
    "# Arrays to store object points and image points from all the images.\n",
    "objpoints = [] # 3d point in real world space\n",
    "imgpoints = [] # 2d points in image plane.\n",
    "\n",
    "images = glob.glob('/Volumes/COCOZZA 2^D/DATA/0403_T1p5_H20/frames/*.jpg')\n",
    "\n",
    "#print(images)\n",
    "\n",
    "for fname in images:\n",
    "    img = cv.imread(fname)\n",
    "    gray = cv.cvtColor(img, cv.COLOR_BGR2GRAY)\n",
    "    # Find the chess board corners\n",
    "    ret, corners = cv.findChessboardCorners(gray, (9,7), None)\n",
    "    print(fname, ret)\n",
    "    # If found, add object points, image points (after refining them)\n",
    "    if ret == True:\n",
    "        objpoints.append(objp)\n",
    "\n",
    "        corners2 = cv.cornerSubPix(gray,corners, (11,11), (-1,-1), criteria)\n",
    "        imgpoints.append(corners2)\n",
    "\n",
    "        # Draw and display the corners\n",
    "        cv.drawChessboardCorners(img, (9,7), corners2, ret)\n",
    "        cv.imshow('img', img)\n",
    "        cv.waitKey(500)\n",
    "\n",
    "cv.destroyAllWindows()"
   ]
  },
  {
   "cell_type": "code",
   "execution_count": 3,
   "id": "504e97c4-3ef8-4091-9462-912daac95285",
   "metadata": {},
   "outputs": [
    {
     "name": "stdout",
     "output_type": "stream",
     "text": [
      "0.3640913844936302\n"
     ]
    }
   ],
   "source": [
    "ret, mtx, dist, rvecs, tvecs = cv.calibrateCamera(objpoints, imgpoints, gray.shape[::-1], None, None)\n",
    "print(ret)"
   ]
  },
  {
   "cell_type": "code",
   "execution_count": 8,
   "id": "021d2623-3653-47bf-9edf-8d7c0598f5f8",
   "metadata": {
    "tags": []
   },
   "outputs": [
    {
     "name": "stdout",
     "output_type": "stream",
     "text": [
      "1080 1920\n"
     ]
    }
   ],
   "source": [
    "img = cv.imread('/Volumes/COCOZZA 2^D/DATA/0403_T1p5_H20/frames/frame_2600.jpg')\n",
    "h,  w = img.shape[:2]\n",
    "print(h, w)\n",
    "newcameramtx, roi = cv.getOptimalNewCameraMatrix(mtx, dist, (w,h), 1, (w,h))"
   ]
  },
  {
   "cell_type": "code",
   "execution_count": 9,
   "id": "6f93daed-1833-466a-8286-df72bb5cd4b5",
   "metadata": {},
   "outputs": [
    {
     "data": {
      "text/plain": [
       "True"
      ]
     },
     "execution_count": 9,
     "metadata": {},
     "output_type": "execute_result"
    }
   ],
   "source": [
    "# Undistort the image\n",
    "mapx, mapy = cv.initUndistortRectifyMap(mtx, dist, None, newcameramtx, (w, h), 5)\n",
    "dst = cv.remap(img, mapx, mapy, cv.INTER_LINEAR)\n",
    "\n",
    "# Save the entire undistorted image without cropping\n",
    "cv.imwrite('/Volumes/COCOZZA 2^D/DATA/0403_T1p5_H20/frame_2600_und_2.jpg', dst)\n"
   ]
  },
  {
   "cell_type": "markdown",
   "id": "a207f612-d5ce-43c3-93ee-ce3c9f00ea21",
   "metadata": {},
   "source": [
    "For video"
   ]
  },
  {
   "cell_type": "code",
   "execution_count": 4,
   "id": "857669ab-5d36-4646-bc36-78fef13adfbb",
   "metadata": {
    "tags": []
   },
   "outputs": [],
   "source": [
    "video_path = '/Volumes/COCOZZA 2^D/DATA/0403_T1p5_H20/test_cal.mp4'\n",
    "cap = cv.VideoCapture(video_path)\n",
    "\n",
    "\n",
    "#here we get video properties, reading the video frame by frame, out of it we get:\n",
    "# - width of frame in pixel\n",
    "# - height of frame in pixel\n",
    "# - frames per seconds of the video\n",
    "#video properties are then used because the undistorted video needs to match\n",
    "\n",
    "frame_width = int(cap.get(cv.CAP_PROP_FRAME_WIDTH))\n",
    "frame_height = int(cap.get(cv.CAP_PROP_FRAME_HEIGHT))\n",
    "fps = cap.get(cv.CAP_PROP_FPS)\n",
    "\n",
    "#here we define the options for saving the video output\n",
    "fourcc = cv.VideoWriter_fourcc(*'mp4v')  # Codec for .mp4\n",
    "out = cv.VideoWriter('/Volumes/COCOZZA 2^D/DATA/0403_T1p5_H20/test_cal_und.MP4', fourcc, fps, (frame_width, frame_height))"
   ]
  },
  {
   "cell_type": "code",
   "execution_count": 5,
   "id": "19f7d817-6d1e-46c2-9161-fa23bb3b4631",
   "metadata": {
    "tags": []
   },
   "outputs": [],
   "source": [
    "#here we optimize the camera matrix for undistortion\n",
    "#as input it gets the original caamera metrix obtained from calibration as well as the distortion coefficients from calibration\n",
    "newcameramtx, roi = cv.getOptimalNewCameraMatrix(mtx, dist, (frame_width, frame_height), 1, (frame_width, frame_height))\n"
   ]
  },
  {
   "cell_type": "code",
   "execution_count": 6,
   "id": "c4af1d31-d95f-42d5-a993-8d157618a23e",
   "metadata": {
    "tags": []
   },
   "outputs": [],
   "source": [
    "#here we read each frame, undistort it, write into an output video file\n",
    "\n",
    "#compute transformation maps (is the same for all frames, so out of the loop)\n",
    "mapx, mapy = cv.initUndistortRectifyMap(mtx, dist, None, newcameramtx, (frame_width, frame_height), 5)\n",
    "\n",
    "\n",
    "while cap.isOpened():\n",
    "    ret, frame = cap.read()\n",
    "    if not ret:\n",
    "        break  # Stops if video ends\n",
    "    \n",
    "#undistort frame by using the pre computed maps\n",
    "    undistorted_frame = cv.remap(frame, mapx, mapy, cv.INTER_LINEAR)\n",
    "\n",
    "#write frame to output video\n",
    "    out.write(undistorted_frame)\n",
    "\n",
    "\n",
    "    cv.imshow('Undistorted Video', undistorted_frame)\n",
    "    if cv.waitKey(1) & 0xFF == ord('q'):\n",
    "        break\n",
    "\n",
    "\n",
    "cap.release()\n",
    "out.release()\n",
    "cv.destroyAllWindows()"
   ]
  },
  {
   "cell_type": "code",
   "execution_count": 7,
   "id": "d9dd5959-7cb5-493b-a7cb-4d65674eb094",
   "metadata": {},
   "outputs": [
    {
     "name": "stdout",
     "output_type": "stream",
     "text": [
      "Reprojection Error: 0.02935961380415039\n"
     ]
    }
   ],
   "source": [
    "mean_error = 0\n",
    "for i in range(len(objpoints)):\n",
    "    imgpoints2, _ = cv.projectPoints(objpoints[i], rvecs[i], tvecs[i], mtx, dist)\n",
    "    error = cv.norm(imgpoints[i], imgpoints2, cv.NORM_L2) / len(imgpoints2)\n",
    "    mean_error += error\n",
    "\n",
    "print(f\"Reprojection Error: {mean_error / len(objpoints)}\")\n"
   ]
  },
  {
   "cell_type": "code",
   "execution_count": null,
   "id": "26bc9069-366a-431d-987d-0778bad425fb",
   "metadata": {},
   "outputs": [],
   "source": []
  }
 ],
 "metadata": {
  "kernelspec": {
   "display_name": "Python 3 (ipykernel)",
   "language": "python",
   "name": "python3"
  },
  "language_info": {
   "codemirror_mode": {
    "name": "ipython",
    "version": 3
   },
   "file_extension": ".py",
   "mimetype": "text/x-python",
   "name": "python",
   "nbconvert_exporter": "python",
   "pygments_lexer": "ipython3",
   "version": "3.11.4"
  }
 },
 "nbformat": 4,
 "nbformat_minor": 5
}
