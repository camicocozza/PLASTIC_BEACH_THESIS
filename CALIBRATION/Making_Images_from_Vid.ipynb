{
 "cells": [
  {
   "cell_type": "code",
   "execution_count": 6,
   "id": "e0813ca4-ff9e-4bef-97c0-062cca64c55e",
   "metadata": {
    "tags": []
   },
   "outputs": [
    {
     "name": "stdout",
     "output_type": "stream",
     "text": [
      "Saved: /Volumes/COCOZZA 2^D/DATA/0403_T1p5_H20/frames_test_cal_und/frame_0000.jpg\n",
      "Saved: /Volumes/COCOZZA 2^D/DATA/0403_T1p5_H20/frames_test_cal_und/frame_0100.jpg\n",
      "Saved: /Volumes/COCOZZA 2^D/DATA/0403_T1p5_H20/frames_test_cal_und/frame_0200.jpg\n",
      "Video frames extraction completed.\n"
     ]
    }
   ],
   "source": [
    "import cv2\n",
    "import os\n",
    "\n",
    "# # Specify the path to your video\n",
    "video_path = '/Volumes/COCOZZA 2^D/DATA/0403_T1p5_H20/test_cal_und.MP4'  # Replace with the path to your video file\n",
    "\n",
    "# # Create an output directory to save the images\n",
    "output_dir = '/Volumes/COCOZZA 2^D/DATA/0403_T1p5_H20/frames_test_cal_und'\n",
    "os.makedirs(output_dir, exist_ok=True)\n",
    "\n",
    "# # Open the video\n",
    "cap = cv2.VideoCapture(video_path)\n",
    "\n",
    "# # Get the total number of frames in the video\n",
    "frame_count = int(cap.get(cv2.CAP_PROP_FRAME_COUNT))\n",
    "\n",
    "# # Loop through the video frames\n",
    "for frame_num in range(frame_count):\n",
    "    ret, frame = cap.read()\n",
    "\n",
    "    if ret:\n",
    "#         # Save the frame as an image\n",
    "        frame_filename = os.path.join(output_dir, f\"frame_{frame_num:04d}.jpg\")\n",
    "        if frame_num%100==0:\n",
    "            cv2.imwrite(frame_filename, frame)\n",
    "            print(f\"Saved: {frame_filename}\")\n",
    "    else:\n",
    "        break\n",
    "\n",
    "# # Release the video capture object\n",
    "cap.release()\n",
    "\n",
    "print(\"Video frames extraction completed.\")\n"
   ]
  },
  {
   "cell_type": "code",
   "execution_count": 2,
   "id": "6d8a81d4-31f1-418b-a829-048ff0b1a4bb",
   "metadata": {
    "tags": []
   },
   "outputs": [
    {
     "name": "stdout",
     "output_type": "stream",
     "text": [
      "6595\n"
     ]
    }
   ],
   "source": [
    "print(frame_count)"
   ]
  },
  {
   "cell_type": "code",
   "execution_count": null,
   "id": "ad1733de-2d16-4014-8d30-50f8787f69e0",
   "metadata": {},
   "outputs": [],
   "source": []
  }
 ],
 "metadata": {
  "kernelspec": {
   "display_name": "Python 3 (ipykernel)",
   "language": "python",
   "name": "python3"
  },
  "language_info": {
   "codemirror_mode": {
    "name": "ipython",
    "version": 3
   },
   "file_extension": ".py",
   "mimetype": "text/x-python",
   "name": "python",
   "nbconvert_exporter": "python",
   "pygments_lexer": "ipython3",
   "version": "3.11.4"
  }
 },
 "nbformat": 4,
 "nbformat_minor": 5
}
