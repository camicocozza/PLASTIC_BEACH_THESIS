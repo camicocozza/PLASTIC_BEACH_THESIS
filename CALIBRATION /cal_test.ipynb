{
 "cells": [
  {
   "cell_type": "code",
   "execution_count": 2,
   "id": "7cddda62-5720-4b7c-9266-947d1ba98205",
   "metadata": {
    "tags": []
   },
   "outputs": [],
   "source": [
    "import numpy as np\n",
    "import cv2 as cv\n",
    "import glob\n",
    "\n",
    "# termination criteria\n",
    "criteria = (cv.TERM_CRITERIA_EPS + cv.TERM_CRITERIA_MAX_ITER, 30, 0.001)\n",
    "\n",
    "# prepare object points, like (0,0,0), (1,0,0), (2,0,0) ....,(6,5,0)\n",
    "objp = np.zeros((25*36,3), np.float32)\n",
    "objp[:,:2] = np.mgrid[0:36,0:25].T.reshape(-1,2) * 15\n",
    "\n",
    "# Arrays to store object points and image points from all the images.\n",
    "objpoints = [] # 3d point in real world space\n",
    "imgpoints = [] # 2d points in image plane.\n",
    "\n",
    "images = glob.glob('frames_actual/*.jpg')\n",
    "# print(images)\n",
    "\n",
    "for fname in images:\n",
    "    img = cv.imread(fname)\n",
    "    gray = cv.cvtColor(img, cv.COLOR_BGR2GRAY)\n",
    "    # Find the chess board corners\n",
    "    ret, corners = cv.findChessboardCorners(gray, (36,25), None)\n",
    "    # print(ret)\n",
    "    # If found, add object points, image points (after refining them)\n",
    "    if ret == True:\n",
    "        objpoints.append(objp)\n",
    "\n",
    "        corners2 = cv.cornerSubPix(gray,corners, (11,11), (-1,-1), criteria)\n",
    "        imgpoints.append(corners2)\n",
    "\n",
    "        # Draw and display the corners\n",
    "        cv.drawChessboardCorners(img, (36,25), corners2, ret)\n",
    "        cv.imshow('img', img)\n",
    "        cv.waitKey(500)\n",
    "\n",
    "cv.destroyAllWindows()"
   ]
  },
  {
   "cell_type": "code",
   "execution_count": 3,
   "id": "504e97c4-3ef8-4091-9462-912daac95285",
   "metadata": {},
   "outputs": [
    {
     "name": "stdout",
     "output_type": "stream",
     "text": [
      "[[9.75487960e+03 0.00000000e+00 8.34566728e+02]\n",
      " [0.00000000e+00 9.54954210e+03 2.58026459e+02]\n",
      " [0.00000000e+00 0.00000000e+00 1.00000000e+00]]\n"
     ]
    }
   ],
   "source": [
    "ret, mtx, dist, rvecs, tvecs = cv.calibrateCamera(objpoints, imgpoints, gray.shape[::-1], None, None)\n",
    "print(mtx)"
   ]
  },
  {
   "cell_type": "code",
   "execution_count": 4,
   "id": "021d2623-3653-47bf-9edf-8d7c0598f5f8",
   "metadata": {
    "tags": []
   },
   "outputs": [
    {
     "name": "stdout",
     "output_type": "stream",
     "text": [
      "1080 1920\n"
     ]
    }
   ],
   "source": [
    "img = cv.imread('frame_6500.jpg')\n",
    "h,  w = img.shape[:2]\n",
    "print(h, w)\n",
    "newcameramtx, roi = cv.getOptimalNewCameraMatrix(mtx, dist, (w,h), 1, (w,h))"
   ]
  },
  {
   "cell_type": "code",
   "execution_count": 5,
   "id": "6f93daed-1833-466a-8286-df72bb5cd4b5",
   "metadata": {},
   "outputs": [
    {
     "data": {
      "text/plain": [
       "True"
      ]
     },
     "execution_count": 5,
     "metadata": {},
     "output_type": "execute_result"
    }
   ],
   "source": [
    "# Undistort the image\n",
    "mapx, mapy = cv.initUndistortRectifyMap(mtx, dist, None, newcameramtx, (w, h), 5)\n",
    "dst = cv.remap(img, mapx, mapy, cv.INTER_LINEAR)\n",
    "\n",
    "# Save the entire undistorted image without cropping\n",
    "cv.imwrite('calibresult.png', dst)"
   ]
  },
  {
   "cell_type": "markdown",
   "id": "a207f612-d5ce-43c3-93ee-ce3c9f00ea21",
   "metadata": {},
   "source": [
    "For video"
   ]
  },
  {
   "cell_type": "code",
   "execution_count": 8,
   "id": "857669ab-5d36-4646-bc36-78fef13adfbb",
   "metadata": {
    "tags": []
   },
   "outputs": [],
   "source": [
    "video_path = 'to_und.mp4'\n",
    "cap = cv.VideoCapture(video_path)\n",
    "\n",
    "\n",
    "#here we get video properties, reading the video frame by frame, out of it we get:\n",
    "# - width of frame in pixel\n",
    "# - height of frame in pixel\n",
    "# - frames per seconds of the video\n",
    "#video properties are then used because the undistorted video needs to match\n",
    "\n",
    "frame_width = int(cap.get(cv.CAP_PROP_FRAME_WIDTH))\n",
    "frame_height = int(cap.get(cv.CAP_PROP_FRAME_HEIGHT))\n",
    "fps = cap.get(cv.CAP_PROP_FPS)\n",
    "\n",
    "#here we define the options for saving the video output\n",
    "fourcc = cv.VideoWriter_fourcc(*'mp4v')  # Codec for .mp4\n",
    "out = cv.VideoWriter('undistorted_video.mp4', fourcc, fps, (frame_width, frame_height))"
   ]
  },
  {
   "cell_type": "code",
   "execution_count": 9,
   "id": "19f7d817-6d1e-46c2-9161-fa23bb3b4631",
   "metadata": {
    "tags": []
   },
   "outputs": [],
   "source": [
    "#here we optimize the camera matrix for undistortion\n",
    "#as input it gets the original caamera metrix obtained from calibration as well as the distortion coefficients from calibration\n",
    "newcameramtx, roi = cv.getOptimalNewCameraMatrix(mtx, dist, (frame_width, frame_height), 1, (frame_width, frame_height))\n"
   ]
  },
  {
   "cell_type": "code",
   "execution_count": 10,
   "id": "c4af1d31-d95f-42d5-a993-8d157618a23e",
   "metadata": {
    "tags": []
   },
   "outputs": [],
   "source": [
    "#here we read each frame, undistort it, write into an output video file\n",
    "\n",
    "#compute transformation maps (is the same for all frames, so out of the loop)\n",
    "mapx, mapy = cv.initUndistortRectifyMap(mtx, dist, None, newcameramtx, (frame_width, frame_height), 5)\n",
    "\n",
    "\n",
    "while cap.isOpened():\n",
    "    ret, frame = cap.read()\n",
    "    if not ret:\n",
    "        break  # Stops if video ends\n",
    "    \n",
    "#undistort frame by using the pre computed maps\n",
    "    undistorted_frame = cv.remap(frame, mapx, mapy, cv.INTER_LINEAR)\n",
    "\n",
    "#write frame to output video\n",
    "    out.write(undistorted_frame)\n",
    "\n",
    "\n",
    "    cv.imshow('Undistorted Video', undistorted_frame)\n",
    "    if cv.waitKey(1) & 0xFF == ord('q'):\n",
    "        break\n",
    "\n",
    "\n",
    "cap.release()\n",
    "out.release()\n",
    "cv.destroyAllWindows()"
   ]
  },
  {
   "cell_type": "code",
   "execution_count": null,
   "id": "d9dd5959-7cb5-493b-a7cb-4d65674eb094",
   "metadata": {},
   "outputs": [],
   "source": []
  }
 ],
 "metadata": {
  "kernelspec": {
   "display_name": "Python 3 (ipykernel)",
   "language": "python",
   "name": "python3"
  },
  "language_info": {
   "codemirror_mode": {
    "name": "ipython",
    "version": 3
   },
   "file_extension": ".py",
   "mimetype": "text/x-python",
   "name": "python",
   "nbconvert_exporter": "python",
   "pygments_lexer": "ipython3",
   "version": "3.11.4"
  }
 },
 "nbformat": 4,
 "nbformat_minor": 5
}
