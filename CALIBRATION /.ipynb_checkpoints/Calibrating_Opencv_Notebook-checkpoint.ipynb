{
 "cells": [
  {
   "cell_type": "code",
   "execution_count": 1,
   "id": "6d608548-aa29-4bbd-a843-1bc698136c41",
   "metadata": {
    "tags": []
   },
   "outputs": [],
   "source": [
    "import numpy as np\n",
    "import cv2 as cv\n",
    "import glob\n",
    "\n",
    "# termination criteria\n",
    "criteria = (cv.TERM_CRITERIA_EPS + cv.TERM_CRITERIA_MAX_ITER, 30, 0.001)\n",
    "\n",
    "# prepare object points, like (0,0,0), (1,0,0), (2,0,0) ....,(6,5,0)\n",
    "objp = np.zeros((25*36,3), np.float32)\n",
    "objp[:,:2] = np.mgrid[0:36,0:25].T.reshape(-1,2)\n",
    "\n",
    "# Arrays to store object points and image points from all the images.\n",
    "objpoints = [] # 3d point in real world space\n",
    "imgpoints = [] # 2d points in image plane.\n",
    "\n",
    "images = glob.glob('*.jpg')\n",
    "# print(images)\n",
    "\n",
    "for fname in images:\n",
    "    img = cv.imread(fname)\n",
    "    gray = cv.cvtColor(img, cv.COLOR_BGR2GRAY)\n",
    "    # Find the chess board corners\n",
    "    ret, corners = cv.findChessboardCorners(gray, (36,25), None)\n",
    "    # print(ret)\n",
    "    # If found, add object points, image points (after refining them)\n",
    "    if ret == True:\n",
    "        objpoints.append(objp)\n",
    "\n",
    "        corners2 = cv.cornerSubPix(gray,corners, (11,11), (-1,-1), criteria)\n",
    "        imgpoints.append(corners2)\n",
    "\n",
    "        # Draw and display the corners\n",
    "        cv.drawChessboardCorners(img, (36,25), corners2, ret)\n",
    "        cv.imshow('img', img)\n",
    "        cv.waitKey(500)\n",
    "\n",
    "cv.destroyAllWindows()"
   ]
  },
  {
   "cell_type": "code",
   "execution_count": 2,
   "id": "f1d0b111-1b77-4f98-bc80-4c77ee17c31c",
   "metadata": {
    "tags": []
   },
   "outputs": [
    {
     "name": "stdout",
     "output_type": "stream",
     "text": [
      "[[1.03034461e+03 0.00000000e+00 9.60090609e+02]\n",
      " [0.00000000e+00 1.02972349e+03 5.43712315e+02]\n",
      " [0.00000000e+00 0.00000000e+00 1.00000000e+00]]\n"
     ]
    }
   ],
   "source": [
    "ret, mtx, dist, rvecs, tvecs = cv.calibrateCamera(objpoints, imgpoints, gray.shape[::-1], None, None)\n",
    "print(mtx)"
   ]
  },
  {
   "cell_type": "code",
   "execution_count": 3,
   "id": "9a8b5204-be6a-4191-84db-df275906f55b",
   "metadata": {},
   "outputs": [
    {
     "name": "stdout",
     "output_type": "stream",
     "text": [
      "1080 1920\n"
     ]
    }
   ],
   "source": [
    "img = cv.imread('Final_position_2D_image.jpg')\n",
    "h,  w = img.shape[:2]\n",
    "print(h, w)\n",
    "newcameramtx, roi = cv.getOptimalNewCameraMatrix(mtx, dist, (w,h), 1, (w,h))"
   ]
  },
  {
   "cell_type": "markdown",
   "id": "283122e6-58ff-4ad0-a9aa-138222ca91bc",
   "metadata": {
    "tags": []
   },
   "source": [
    "## undistort\n",
    "dst = cv.undistort(img, mtx, dist, None, newcameramtx)\n",
    "\n",
    "# crop the image\n",
    "x, y, w, h = roi\n",
    "dst = dst[y:y+h, x:x+w]\n",
    "cv.imwrite('calibresult.png', dst)"
   ]
  },
  {
   "cell_type": "code",
   "execution_count": 4,
   "id": "cab9168c-e407-40e5-9c76-3ce75657f46e",
   "metadata": {
    "tags": []
   },
   "outputs": [
    {
     "data": {
      "text/plain": [
       "True"
      ]
     },
     "execution_count": 4,
     "metadata": {},
     "output_type": "execute_result"
    }
   ],
   "source": [
    "# Undistort the image\n",
    "mapx, mapy = cv.initUndistortRectifyMap(mtx, dist, None, newcameramtx, (w, h), 5)\n",
    "dst = cv.remap(img, mapx, mapy, cv.INTER_LINEAR)\n",
    "\n",
    "# Save the entire undistorted image without cropping\n",
    "cv.imwrite('calibresult.png', dst)\n"
   ]
  },
  {
   "cell_type": "markdown",
   "id": "b509f6cd-65a0-48a1-92bd-04e922706aa6",
   "metadata": {},
   "source": [
    "### For Video"
   ]
  },
  {
   "cell_type": "code",
   "execution_count": 5,
   "id": "00e9ecad-455c-4d00-88ff-80038b4141bd",
   "metadata": {
    "tags": []
   },
   "outputs": [],
   "source": [
    "# import cv\n",
    "# import numpy as np\n",
    "\n",
    "# Load the camera calibration parameters\n",
    "# These are the values from your calibration (mtx, dist, newcameramtx)\n",
    "# roi = region of interest for cropping if needed\n",
    "\n",
    "# Read a sample image to get the resolution of the video\n",
    "img = cv.imread('Final_position_2D_image.jpg')  # Replace with a sample image file\n",
    "h, w = img.shape[:2]\n",
    "\n",
    "# Get the optimal new camera matrix and ROI from calibration\n",
    "newcameramtx, roi = cv.getOptimalNewCameraMatrix(mtx, dist, (w, h), 1, (w, h))\n",
    "\n",
    "# Open the video\n",
    "cap = cv.VideoCapture('test_2balls.mp4')  # Replace with your video file path\n",
    "\n",
    "# Get the video frame width and height\n",
    "w = int(cap.get(cv.CAP_PROP_FRAME_WIDTH))\n",
    "h = int(cap.get(cv.CAP_PROP_FRAME_HEIGHT))\n",
    "\n",
    "# Prepare the undistortion map based on the new camera matrix\n",
    "mapx, mapy = cv.initUndistortRectifyMap(mtx, dist, None, newcameramtx, (w, h), 5)\n",
    "\n",
    "# Create a VideoWriter object to save the undistorted video\n",
    "out = cv.VideoWriter('undistorted_video.mp4', cv.VideoWriter_fourcc(*'mp4v'), 30.0, (w, h))\n",
    "\n",
    "while cap.isOpened():\n",
    "    ret, frame = cap.read()\n",
    "    if not ret:\n",
    "        break\n",
    "\n",
    "    # Apply undistortion to the frame\n",
    "    undistorted_frame = cv.remap(frame, mapx, mapy, cv.INTER_LINEAR)\n",
    "\n",
    "    # Optionally, crop the image using the ROI to avoid black borders\n",
    "    x, y, w, h = roi\n",
    "    undistorted_frame = undistorted_frame[y:y+h, x:x+w]\n",
    "\n",
    "    # Write the undistorted frame to the output video\n",
    "    out.write(undistorted_frame)\n",
    "\n",
    "    # Optionally, display the undistorted frame\n",
    "    cv.imshow('Undistorted Video', undistorted_frame)\n",
    "\n",
    "    # Press 'q' to exit the display window\n",
    "    if cv.waitKey(1) & 0xFF == ord('q'):\n",
    "        break\n",
    "\n",
    "# Release everything\n",
    "cap.release()\n",
    "out.release()\n",
    "cv.destroyAllWindows()\n"
   ]
  },
  {
   "cell_type": "code",
   "execution_count": 6,
   "id": "63b56d17-19d2-4368-8aa3-ab4237a5423c",
   "metadata": {
    "tags": []
   },
   "outputs": [],
   "source": [
    "# ret, mtx, dist, rvecs, tvecs = cv.calibrateCamera(objpoints, imgpoints, gray.shape[::-1], None, None)\n",
    "# print(mtx)"
   ]
  },
  {
   "cell_type": "code",
   "execution_count": 7,
   "id": "20bab04a-3790-44f2-a6c9-2be3945a05aa",
   "metadata": {
    "tags": []
   },
   "outputs": [],
   "source": [
    "# img = cv.imread('Final_position_2D_image.jpg')\n",
    "# h,  w = img.shape[:2]\n",
    "# newcameramtx, roi = cv.getOptimalNewCameraMatrix(mtx, dist, (w,h), 1, (w,h))"
   ]
  },
  {
   "cell_type": "code",
   "execution_count": 8,
   "id": "b6e614c0-031d-41b8-9cbf-aa38a03c5736",
   "metadata": {
    "tags": []
   },
   "outputs": [],
   "source": [
    "# # Undistort the image\n",
    "# mapx, mapy = cv.initUndistortRectifyMap(mtx, dist, None, newcameramtx, (w, h), 5)\n",
    "# dst = cv.remap(img, mapx, mapy, cv.INTER_LINEAR)\n",
    "\n",
    "# # Save the entire undistorted image without cropping\n",
    "# cv.imwrite('Videocalresult.png', dst)"
   ]
  },
  {
   "cell_type": "code",
   "execution_count": null,
   "id": "5eea15c6-1208-4be1-a56f-26e0f2cde00e",
   "metadata": {
    "tags": []
   },
   "outputs": [],
   "source": []
  },
  {
   "cell_type": "code",
   "execution_count": null,
   "id": "a26eff56-5928-452f-af5d-c6ef5730062b",
   "metadata": {},
   "outputs": [],
   "source": []
  }
 ],
 "metadata": {
  "kernelspec": {
   "display_name": "Python 3 (ipykernel)",
   "language": "python",
   "name": "python3"
  },
  "language_info": {
   "codemirror_mode": {
    "name": "ipython",
    "version": 3
   },
   "file_extension": ".py",
   "mimetype": "text/x-python",
   "name": "python",
   "nbconvert_exporter": "python",
   "pygments_lexer": "ipython3",
   "version": "3.11.4"
  }
 },
 "nbformat": 4,
 "nbformat_minor": 5
}
