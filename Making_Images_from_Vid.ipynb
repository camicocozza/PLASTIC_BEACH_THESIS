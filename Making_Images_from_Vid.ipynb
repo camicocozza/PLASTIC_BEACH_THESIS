{
 "cells": [
  {
   "cell_type": "code",
   "execution_count": 9,
   "id": "e0813ca4-ff9e-4bef-97c0-062cca64c55e",
   "metadata": {
    "tags": []
   },
   "outputs": [
    {
     "name": "stdout",
     "output_type": "stream",
     "text": [
      "Saved: frames/frame_0000.jpg\n",
      "Saved: frames/frame_0100.jpg\n",
      "Saved: frames/frame_0200.jpg\n",
      "Saved: frames/frame_0300.jpg\n",
      "Saved: frames/frame_0400.jpg\n",
      "Saved: frames/frame_0500.jpg\n",
      "Saved: frames/frame_0600.jpg\n",
      "Saved: frames/frame_0700.jpg\n",
      "Saved: frames/frame_0800.jpg\n",
      "Saved: frames/frame_0900.jpg\n",
      "Saved: frames/frame_1000.jpg\n",
      "Saved: frames/frame_1100.jpg\n",
      "Saved: frames/frame_1200.jpg\n",
      "Saved: frames/frame_1300.jpg\n",
      "Saved: frames/frame_1400.jpg\n",
      "Saved: frames/frame_1500.jpg\n",
      "Saved: frames/frame_1600.jpg\n",
      "Saved: frames/frame_1700.jpg\n",
      "Saved: frames/frame_1800.jpg\n",
      "Saved: frames/frame_1900.jpg\n",
      "Saved: frames/frame_2000.jpg\n",
      "Saved: frames/frame_2100.jpg\n",
      "Saved: frames/frame_2200.jpg\n",
      "Saved: frames/frame_2300.jpg\n",
      "Saved: frames/frame_2400.jpg\n",
      "Saved: frames/frame_2500.jpg\n",
      "Saved: frames/frame_2600.jpg\n",
      "Saved: frames/frame_2700.jpg\n",
      "Saved: frames/frame_2800.jpg\n",
      "Saved: frames/frame_2900.jpg\n",
      "Saved: frames/frame_3000.jpg\n",
      "Saved: frames/frame_3100.jpg\n",
      "Saved: frames/frame_3200.jpg\n",
      "Saved: frames/frame_3300.jpg\n",
      "Saved: frames/frame_3400.jpg\n",
      "Saved: frames/frame_3500.jpg\n",
      "Saved: frames/frame_3600.jpg\n",
      "Saved: frames/frame_3700.jpg\n",
      "Saved: frames/frame_3800.jpg\n",
      "Saved: frames/frame_3900.jpg\n",
      "Saved: frames/frame_4000.jpg\n",
      "Saved: frames/frame_4100.jpg\n",
      "Saved: frames/frame_4200.jpg\n",
      "Saved: frames/frame_4300.jpg\n",
      "Saved: frames/frame_4400.jpg\n",
      "Saved: frames/frame_4500.jpg\n",
      "Saved: frames/frame_4600.jpg\n",
      "Saved: frames/frame_4700.jpg\n",
      "Saved: frames/frame_4800.jpg\n",
      "Saved: frames/frame_4900.jpg\n",
      "Saved: frames/frame_5000.jpg\n",
      "Saved: frames/frame_5100.jpg\n",
      "Saved: frames/frame_5200.jpg\n",
      "Saved: frames/frame_5300.jpg\n",
      "Saved: frames/frame_5400.jpg\n",
      "Saved: frames/frame_5500.jpg\n",
      "Saved: frames/frame_5600.jpg\n",
      "Saved: frames/frame_5700.jpg\n",
      "Saved: frames/frame_5800.jpg\n",
      "Saved: frames/frame_5900.jpg\n",
      "Saved: frames/frame_6000.jpg\n",
      "Saved: frames/frame_6100.jpg\n",
      "Saved: frames/frame_6200.jpg\n",
      "Saved: frames/frame_6300.jpg\n",
      "Saved: frames/frame_6400.jpg\n",
      "Saved: frames/frame_6500.jpg\n",
      "Saved: frames/frame_6600.jpg\n",
      "Saved: frames/frame_6700.jpg\n",
      "Saved: frames/frame_6800.jpg\n",
      "Video frames extraction completed.\n"
     ]
    }
   ],
   "source": [
    "import cv2\n",
    "import os\n",
    "\n",
    "# # Specify the path to your video\n",
    "video_path = '2002_board.mp4'  # Replace with the path to your video file\n",
    "\n",
    "# # Create an output directory to save the images\n",
    "output_dir = 'frames'\n",
    "os.makedirs(output_dir, exist_ok=True)\n",
    "\n",
    "# # Open the video\n",
    "cap = cv2.VideoCapture(video_path)\n",
    "\n",
    "# # Get the total number of frames in the video\n",
    "frame_count = int(cap.get(cv2.CAP_PROP_FRAME_COUNT))\n",
    "\n",
    "# # Loop through the video frames\n",
    "for frame_num in range(frame_count):\n",
    "    ret, frame = cap.read()\n",
    "\n",
    "    if ret:\n",
    "#         # Save the frame as an image\n",
    "        frame_filename = os.path.join(output_dir, f\"frame_{frame_num:04d}.jpg\")\n",
    "        if frame_num%100==0:\n",
    "            cv2.imwrite(frame_filename, frame)\n",
    "            print(f\"Saved: {frame_filename}\")\n",
    "    else:\n",
    "        break\n",
    "\n",
    "# # Release the video capture object\n",
    "cap.release()\n",
    "\n",
    "print(\"Video frames extraction completed.\")\n"
   ]
  },
  {
   "cell_type": "code",
   "execution_count": 6,
   "id": "6d8a81d4-31f1-418b-a829-048ff0b1a4bb",
   "metadata": {
    "tags": []
   },
   "outputs": [
    {
     "name": "stdout",
     "output_type": "stream",
     "text": [
      "6865\n"
     ]
    }
   ],
   "source": [
    "print(frame_count)"
   ]
  },
  {
   "cell_type": "code",
   "execution_count": null,
   "id": "ad1733de-2d16-4014-8d30-50f8787f69e0",
   "metadata": {},
   "outputs": [],
   "source": []
  }
 ],
 "metadata": {
  "kernelspec": {
   "display_name": "Python 3 (ipykernel)",
   "language": "python",
   "name": "python3"
  },
  "language_info": {
   "codemirror_mode": {
    "name": "ipython",
    "version": 3
   },
   "file_extension": ".py",
   "mimetype": "text/x-python",
   "name": "python",
   "nbconvert_exporter": "python",
   "pygments_lexer": "ipython3",
   "version": "3.11.4"
  }
 },
 "nbformat": 4,
 "nbformat_minor": 5
}
